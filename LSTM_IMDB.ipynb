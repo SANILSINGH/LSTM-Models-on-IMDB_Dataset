{
 "cells": [
  {
   "cell_type": "code",
   "execution_count": 1,
   "metadata": {
    "colab": {},
    "colab_type": "code",
    "id": "Jr4cugH3mZ_X"
   },
   "outputs": [
    {
     "name": "stderr",
     "output_type": "stream",
     "text": [
      "Using TensorFlow backend.\n"
     ]
    }
   ],
   "source": [
    "# Importing libraries\n",
    "import warnings\n",
    "warnings.filterwarnings(\"ignore\")\n",
    "\n",
    "import pandas as pd\n",
    "import numpy as np\n",
    "import nltk\n",
    "import string\n",
    "import matplotlib.pyplot as plt\n",
    "%matplotlib inline\n",
    "import seaborn as sns\n",
    "\n",
    "from keras.preprocessing.text import Tokenizer     # pip install tokenizer\n",
    "from nltk.stem.porter import PorterStemmer\n",
    "import re\n",
    "import string\n",
    "from nltk.corpus import stopwords\n",
    "from nltk.stem import PorterStemmer\n",
    "from nltk.stem.wordnet import WordNetLemmatizer\n",
    "\n",
    "from gensim.models import Word2Vec\n",
    "from gensim.models import KeyedVectors\n",
    "import pickle\n",
    "\n",
    "import sqlite3"
   ]
  },
  {
   "cell_type": "code",
   "execution_count": 2,
   "metadata": {
    "colab": {
     "base_uri": "https://localhost:8080/",
     "height": 53
    },
    "colab_type": "code",
    "id": "Kjf2yM5GF4_8",
    "outputId": "9c37cfea-ad43-474b-8acf-3129b43ceeb3"
   },
   "outputs": [
    {
     "name": "stdout",
     "output_type": "stream",
     "text": [
      "Number of data points in our data (140000, 10)\n"
     ]
    },
    {
     "data": {
      "text/html": [
       "<div>\n",
       "<style scoped>\n",
       "    .dataframe tbody tr th:only-of-type {\n",
       "        vertical-align: middle;\n",
       "    }\n",
       "\n",
       "    .dataframe tbody tr th {\n",
       "        vertical-align: top;\n",
       "    }\n",
       "\n",
       "    .dataframe thead th {\n",
       "        text-align: right;\n",
       "    }\n",
       "</style>\n",
       "<table border=\"1\" class=\"dataframe\">\n",
       "  <thead>\n",
       "    <tr style=\"text-align: right;\">\n",
       "      <th></th>\n",
       "      <th>Id</th>\n",
       "      <th>ProductId</th>\n",
       "      <th>UserId</th>\n",
       "      <th>ProfileName</th>\n",
       "      <th>HelpfulnessNumerator</th>\n",
       "      <th>HelpfulnessDenominator</th>\n",
       "      <th>Score</th>\n",
       "      <th>Time</th>\n",
       "      <th>Summary</th>\n",
       "      <th>Text</th>\n",
       "    </tr>\n",
       "  </thead>\n",
       "  <tbody>\n",
       "    <tr>\n",
       "      <th>0</th>\n",
       "      <td>1</td>\n",
       "      <td>B001E4KFG0</td>\n",
       "      <td>A3SGXH7AUHU8GW</td>\n",
       "      <td>delmartian</td>\n",
       "      <td>1</td>\n",
       "      <td>1</td>\n",
       "      <td>1</td>\n",
       "      <td>1303862400</td>\n",
       "      <td>Good Quality Dog Food</td>\n",
       "      <td>I have bought several of the Vitality canned d...</td>\n",
       "    </tr>\n",
       "    <tr>\n",
       "      <th>1</th>\n",
       "      <td>2</td>\n",
       "      <td>B00813GRG4</td>\n",
       "      <td>A1D87F6ZCVE5NK</td>\n",
       "      <td>dll pa</td>\n",
       "      <td>0</td>\n",
       "      <td>0</td>\n",
       "      <td>0</td>\n",
       "      <td>1346976000</td>\n",
       "      <td>Not as Advertised</td>\n",
       "      <td>Product arrived labeled as Jumbo Salted Peanut...</td>\n",
       "    </tr>\n",
       "    <tr>\n",
       "      <th>2</th>\n",
       "      <td>3</td>\n",
       "      <td>B000LQOCH0</td>\n",
       "      <td>ABXLMWJIXXAIN</td>\n",
       "      <td>Natalia Corres \"Natalia Corres\"</td>\n",
       "      <td>1</td>\n",
       "      <td>1</td>\n",
       "      <td>1</td>\n",
       "      <td>1219017600</td>\n",
       "      <td>\"Delight\" says it all</td>\n",
       "      <td>This is a confection that has been around a fe...</td>\n",
       "    </tr>\n",
       "  </tbody>\n",
       "</table>\n",
       "</div>"
      ],
      "text/plain": [
       "   Id   ProductId          UserId                      ProfileName  \\\n",
       "0   1  B001E4KFG0  A3SGXH7AUHU8GW                       delmartian   \n",
       "1   2  B00813GRG4  A1D87F6ZCVE5NK                           dll pa   \n",
       "2   3  B000LQOCH0   ABXLMWJIXXAIN  Natalia Corres \"Natalia Corres\"   \n",
       "\n",
       "   HelpfulnessNumerator  HelpfulnessDenominator  Score        Time  \\\n",
       "0                     1                       1      1  1303862400   \n",
       "1                     0                       0      0  1346976000   \n",
       "2                     1                       1      1  1219017600   \n",
       "\n",
       "                 Summary                                               Text  \n",
       "0  Good Quality Dog Food  I have bought several of the Vitality canned d...  \n",
       "1      Not as Advertised  Product arrived labeled as Jumbo Salted Peanut...  \n",
       "2  \"Delight\" says it all  This is a confection that has been around a fe...  "
      ]
     },
     "execution_count": 2,
     "metadata": {},
     "output_type": "execute_result"
    }
   ],
   "source": [
    "# using SQLite Table to read data.\n",
    "con = sqlite3.connect('database.sqlite') \n",
    "\n",
    "# filtering only positive and negative reviews i.e. \n",
    "# not taking into consideration those reviews with Score=3\n",
    "# SELECT * FROM Reviews WHERE Score != 3 LIMIT 500000, will give top 500000 data points\n",
    "# you can change the number to any other number based on your computing power\n",
    "\n",
    "# filtered_data = pd.read_sql_query(\"\"\" SELECT * FROM Reviews WHERE Score != 3 LIMIT 500000\"\"\", con) \n",
    "# for tsne assignment you can take 5k data points\n",
    "\n",
    "filtered_data = pd.read_sql_query(\"\"\" SELECT * FROM Reviews WHERE Score != 3 LIMIT 140000\"\"\", con) \n",
    "\n",
    "# Give reviews with Score>3 a positive rating(1), and reviews with a score<3 a negative rating(0).\n",
    "def partition(x):\n",
    "    if x < 3:\n",
    "        return 0\n",
    "    return 1\n",
    "\n",
    "#changing reviews with score less than 3 to be positive and vice-versa\n",
    "actualScore = filtered_data['Score']\n",
    "positiveNegative = actualScore.map(partition) \n",
    "filtered_data['Score'] = positiveNegative\n",
    "print(\"Number of data points in our data\", filtered_data.shape)\n",
    "filtered_data.head(3)"
   ]
  },
  {
   "cell_type": "code",
   "execution_count": 3,
   "metadata": {
    "colab": {
     "base_uri": "https://localhost:8080/",
     "height": 1194
    },
    "colab_type": "code",
    "id": "eYEE6ts7GAjC",
    "outputId": "dd68009a-ed98-4364-adef-69de773518c3"
   },
   "outputs": [],
   "source": [
    "display = pd.read_sql_query(\"\"\"\n",
    "SELECT UserId, ProductId, ProfileName, Time, Score, Text, COUNT(*)\n",
    "FROM Reviews\n",
    "GROUP BY UserId\n",
    "HAVING COUNT(*)>1\n",
    "\"\"\", con)"
   ]
  },
  {
   "cell_type": "code",
   "execution_count": 4,
   "metadata": {
    "colab": {
     "base_uri": "https://localhost:8080/",
     "height": 780
    },
    "colab_type": "code",
    "id": "57N6TyKLH-Pc",
    "outputId": "1dc02095-292e-4c2d-b0b0-9c4b25012ce5"
   },
   "outputs": [
    {
     "name": "stdout",
     "output_type": "stream",
     "text": [
      "(80668, 7)\n"
     ]
    },
    {
     "data": {
      "text/html": [
       "<div>\n",
       "<style scoped>\n",
       "    .dataframe tbody tr th:only-of-type {\n",
       "        vertical-align: middle;\n",
       "    }\n",
       "\n",
       "    .dataframe tbody tr th {\n",
       "        vertical-align: top;\n",
       "    }\n",
       "\n",
       "    .dataframe thead th {\n",
       "        text-align: right;\n",
       "    }\n",
       "</style>\n",
       "<table border=\"1\" class=\"dataframe\">\n",
       "  <thead>\n",
       "    <tr style=\"text-align: right;\">\n",
       "      <th></th>\n",
       "      <th>UserId</th>\n",
       "      <th>ProductId</th>\n",
       "      <th>ProfileName</th>\n",
       "      <th>Time</th>\n",
       "      <th>Score</th>\n",
       "      <th>Text</th>\n",
       "      <th>COUNT(*)</th>\n",
       "    </tr>\n",
       "  </thead>\n",
       "  <tbody>\n",
       "    <tr>\n",
       "      <th>0</th>\n",
       "      <td>#oc-R115TNMSPFT9I7</td>\n",
       "      <td>B007Y59HVM</td>\n",
       "      <td>Breyton</td>\n",
       "      <td>1331510400</td>\n",
       "      <td>2</td>\n",
       "      <td>Overall its just OK when considering the price...</td>\n",
       "      <td>2</td>\n",
       "    </tr>\n",
       "    <tr>\n",
       "      <th>1</th>\n",
       "      <td>#oc-R11D9D7SHXIJB9</td>\n",
       "      <td>B005HG9ET0</td>\n",
       "      <td>Louis E. Emory \"hoppy\"</td>\n",
       "      <td>1342396800</td>\n",
       "      <td>5</td>\n",
       "      <td>My wife has recurring extreme muscle spasms, u...</td>\n",
       "      <td>3</td>\n",
       "    </tr>\n",
       "    <tr>\n",
       "      <th>2</th>\n",
       "      <td>#oc-R11DNU2NBKQ23Z</td>\n",
       "      <td>B007Y59HVM</td>\n",
       "      <td>Kim Cieszykowski</td>\n",
       "      <td>1348531200</td>\n",
       "      <td>1</td>\n",
       "      <td>This coffee is horrible and unfortunately not ...</td>\n",
       "      <td>2</td>\n",
       "    </tr>\n",
       "    <tr>\n",
       "      <th>3</th>\n",
       "      <td>#oc-R11O5J5ZVQE25C</td>\n",
       "      <td>B005HG9ET0</td>\n",
       "      <td>Penguin Chick</td>\n",
       "      <td>1346889600</td>\n",
       "      <td>5</td>\n",
       "      <td>This will be the bottle that you grab from the...</td>\n",
       "      <td>3</td>\n",
       "    </tr>\n",
       "    <tr>\n",
       "      <th>4</th>\n",
       "      <td>#oc-R12KPBODL2B5ZD</td>\n",
       "      <td>B007OSBE1U</td>\n",
       "      <td>Christopher P. Presta</td>\n",
       "      <td>1348617600</td>\n",
       "      <td>1</td>\n",
       "      <td>I didnt like this coffee. Instead of telling y...</td>\n",
       "      <td>2</td>\n",
       "    </tr>\n",
       "  </tbody>\n",
       "</table>\n",
       "</div>"
      ],
      "text/plain": [
       "               UserId   ProductId             ProfileName        Time  Score  \\\n",
       "0  #oc-R115TNMSPFT9I7  B007Y59HVM                 Breyton  1331510400      2   \n",
       "1  #oc-R11D9D7SHXIJB9  B005HG9ET0  Louis E. Emory \"hoppy\"  1342396800      5   \n",
       "2  #oc-R11DNU2NBKQ23Z  B007Y59HVM        Kim Cieszykowski  1348531200      1   \n",
       "3  #oc-R11O5J5ZVQE25C  B005HG9ET0           Penguin Chick  1346889600      5   \n",
       "4  #oc-R12KPBODL2B5ZD  B007OSBE1U   Christopher P. Presta  1348617600      1   \n",
       "\n",
       "                                                Text  COUNT(*)  \n",
       "0  Overall its just OK when considering the price...         2  \n",
       "1  My wife has recurring extreme muscle spasms, u...         3  \n",
       "2  This coffee is horrible and unfortunately not ...         2  \n",
       "3  This will be the bottle that you grab from the...         3  \n",
       "4  I didnt like this coffee. Instead of telling y...         2  "
      ]
     },
     "execution_count": 4,
     "metadata": {},
     "output_type": "execute_result"
    }
   ],
   "source": [
    "print(display.shape)\n",
    "display.head()"
   ]
  },
  {
   "cell_type": "code",
   "execution_count": 5,
   "metadata": {
    "colab": {
     "base_uri": "https://localhost:8080/",
     "height": 260
    },
    "colab_type": "code",
    "id": "CquzlqrOIYGn",
    "outputId": "593c99ca-f15e-4df7-8ac6-0e7d0950415d"
   },
   "outputs": [
    {
     "data": {
      "text/html": [
       "<div>\n",
       "<style scoped>\n",
       "    .dataframe tbody tr th:only-of-type {\n",
       "        vertical-align: middle;\n",
       "    }\n",
       "\n",
       "    .dataframe tbody tr th {\n",
       "        vertical-align: top;\n",
       "    }\n",
       "\n",
       "    .dataframe thead th {\n",
       "        text-align: right;\n",
       "    }\n",
       "</style>\n",
       "<table border=\"1\" class=\"dataframe\">\n",
       "  <thead>\n",
       "    <tr style=\"text-align: right;\">\n",
       "      <th></th>\n",
       "      <th>UserId</th>\n",
       "      <th>ProductId</th>\n",
       "      <th>ProfileName</th>\n",
       "      <th>Time</th>\n",
       "      <th>Score</th>\n",
       "      <th>Text</th>\n",
       "      <th>COUNT(*)</th>\n",
       "    </tr>\n",
       "  </thead>\n",
       "  <tbody>\n",
       "    <tr>\n",
       "      <th>80638</th>\n",
       "      <td>AZY10LLTJ71NX</td>\n",
       "      <td>B006P7E5ZI</td>\n",
       "      <td>undertheshrine \"undertheshrine\"</td>\n",
       "      <td>1334707200</td>\n",
       "      <td>5</td>\n",
       "      <td>I was recommended to try green tea extract to ...</td>\n",
       "      <td>5</td>\n",
       "    </tr>\n",
       "  </tbody>\n",
       "</table>\n",
       "</div>"
      ],
      "text/plain": [
       "              UserId   ProductId                      ProfileName        Time  \\\n",
       "80638  AZY10LLTJ71NX  B006P7E5ZI  undertheshrine \"undertheshrine\"  1334707200   \n",
       "\n",
       "       Score                                               Text  COUNT(*)  \n",
       "80638      5  I was recommended to try green tea extract to ...         5  "
      ]
     },
     "execution_count": 5,
     "metadata": {},
     "output_type": "execute_result"
    }
   ],
   "source": [
    "display[display['UserId']=='AZY10LLTJ71NX']"
   ]
  },
  {
   "cell_type": "code",
   "execution_count": 6,
   "metadata": {
    "colab": {
     "base_uri": "https://localhost:8080/",
     "height": 436
    },
    "colab_type": "code",
    "id": "A_FT0dPNIeLP",
    "outputId": "55c48adc-c76a-462f-c737-7d73bafdb5cb"
   },
   "outputs": [
    {
     "data": {
      "text/plain": [
       "393063"
      ]
     },
     "execution_count": 6,
     "metadata": {},
     "output_type": "execute_result"
    }
   ],
   "source": [
    "display['COUNT(*)'].sum()"
   ]
  },
  {
   "cell_type": "markdown",
   "metadata": {
    "colab_type": "text",
    "id": "cXDz-oNRbzaA"
   },
   "source": [
    "<h2>#  [2] Exploratory Data Analysis</h2>"
   ]
  },
  {
   "cell_type": "markdown",
   "metadata": {
    "colab_type": "text",
    "id": "TIrWin3Wb9zR"
   },
   "source": [
    "<h2>## [2.1] Data Cleaning: Deduplication</h2>\n",
    "\n",
    "It is observed (as shown in the table below) that the reviews data had many duplicate entries. Hence it was necessary to remove duplicates in order to get unbiased results for the analysis of the data.  Following is an example:"
   ]
  },
  {
   "cell_type": "code",
   "execution_count": 7,
   "metadata": {
    "colab": {},
    "colab_type": "code",
    "id": "30HRd6EYWX1I"
   },
   "outputs": [
    {
     "data": {
      "text/html": [
       "<div>\n",
       "<style scoped>\n",
       "    .dataframe tbody tr th:only-of-type {\n",
       "        vertical-align: middle;\n",
       "    }\n",
       "\n",
       "    .dataframe tbody tr th {\n",
       "        vertical-align: top;\n",
       "    }\n",
       "\n",
       "    .dataframe thead th {\n",
       "        text-align: right;\n",
       "    }\n",
       "</style>\n",
       "<table border=\"1\" class=\"dataframe\">\n",
       "  <thead>\n",
       "    <tr style=\"text-align: right;\">\n",
       "      <th></th>\n",
       "      <th>Id</th>\n",
       "      <th>ProductId</th>\n",
       "      <th>UserId</th>\n",
       "      <th>ProfileName</th>\n",
       "      <th>HelpfulnessNumerator</th>\n",
       "      <th>HelpfulnessDenominator</th>\n",
       "      <th>Score</th>\n",
       "      <th>Time</th>\n",
       "      <th>Summary</th>\n",
       "      <th>Text</th>\n",
       "    </tr>\n",
       "  </thead>\n",
       "  <tbody>\n",
       "    <tr>\n",
       "      <th>0</th>\n",
       "      <td>78445</td>\n",
       "      <td>B000HDL1RQ</td>\n",
       "      <td>AR5J8UI46CURR</td>\n",
       "      <td>Geetha Krishnan</td>\n",
       "      <td>2</td>\n",
       "      <td>2</td>\n",
       "      <td>5</td>\n",
       "      <td>1199577600</td>\n",
       "      <td>LOACKER QUADRATINI VANILLA WAFERS</td>\n",
       "      <td>DELICIOUS WAFERS. I FIND THAT EUROPEAN WAFERS ...</td>\n",
       "    </tr>\n",
       "    <tr>\n",
       "      <th>1</th>\n",
       "      <td>138317</td>\n",
       "      <td>B000HDOPYC</td>\n",
       "      <td>AR5J8UI46CURR</td>\n",
       "      <td>Geetha Krishnan</td>\n",
       "      <td>2</td>\n",
       "      <td>2</td>\n",
       "      <td>5</td>\n",
       "      <td>1199577600</td>\n",
       "      <td>LOACKER QUADRATINI VANILLA WAFERS</td>\n",
       "      <td>DELICIOUS WAFERS. I FIND THAT EUROPEAN WAFERS ...</td>\n",
       "    </tr>\n",
       "    <tr>\n",
       "      <th>2</th>\n",
       "      <td>138277</td>\n",
       "      <td>B000HDOPYM</td>\n",
       "      <td>AR5J8UI46CURR</td>\n",
       "      <td>Geetha Krishnan</td>\n",
       "      <td>2</td>\n",
       "      <td>2</td>\n",
       "      <td>5</td>\n",
       "      <td>1199577600</td>\n",
       "      <td>LOACKER QUADRATINI VANILLA WAFERS</td>\n",
       "      <td>DELICIOUS WAFERS. I FIND THAT EUROPEAN WAFERS ...</td>\n",
       "    </tr>\n",
       "    <tr>\n",
       "      <th>3</th>\n",
       "      <td>73791</td>\n",
       "      <td>B000HDOPZG</td>\n",
       "      <td>AR5J8UI46CURR</td>\n",
       "      <td>Geetha Krishnan</td>\n",
       "      <td>2</td>\n",
       "      <td>2</td>\n",
       "      <td>5</td>\n",
       "      <td>1199577600</td>\n",
       "      <td>LOACKER QUADRATINI VANILLA WAFERS</td>\n",
       "      <td>DELICIOUS WAFERS. I FIND THAT EUROPEAN WAFERS ...</td>\n",
       "    </tr>\n",
       "    <tr>\n",
       "      <th>4</th>\n",
       "      <td>155049</td>\n",
       "      <td>B000PAQ75C</td>\n",
       "      <td>AR5J8UI46CURR</td>\n",
       "      <td>Geetha Krishnan</td>\n",
       "      <td>2</td>\n",
       "      <td>2</td>\n",
       "      <td>5</td>\n",
       "      <td>1199577600</td>\n",
       "      <td>LOACKER QUADRATINI VANILLA WAFERS</td>\n",
       "      <td>DELICIOUS WAFERS. I FIND THAT EUROPEAN WAFERS ...</td>\n",
       "    </tr>\n",
       "  </tbody>\n",
       "</table>\n",
       "</div>"
      ],
      "text/plain": [
       "       Id   ProductId         UserId      ProfileName  HelpfulnessNumerator  \\\n",
       "0   78445  B000HDL1RQ  AR5J8UI46CURR  Geetha Krishnan                     2   \n",
       "1  138317  B000HDOPYC  AR5J8UI46CURR  Geetha Krishnan                     2   \n",
       "2  138277  B000HDOPYM  AR5J8UI46CURR  Geetha Krishnan                     2   \n",
       "3   73791  B000HDOPZG  AR5J8UI46CURR  Geetha Krishnan                     2   \n",
       "4  155049  B000PAQ75C  AR5J8UI46CURR  Geetha Krishnan                     2   \n",
       "\n",
       "   HelpfulnessDenominator  Score        Time  \\\n",
       "0                       2      5  1199577600   \n",
       "1                       2      5  1199577600   \n",
       "2                       2      5  1199577600   \n",
       "3                       2      5  1199577600   \n",
       "4                       2      5  1199577600   \n",
       "\n",
       "                             Summary  \\\n",
       "0  LOACKER QUADRATINI VANILLA WAFERS   \n",
       "1  LOACKER QUADRATINI VANILLA WAFERS   \n",
       "2  LOACKER QUADRATINI VANILLA WAFERS   \n",
       "3  LOACKER QUADRATINI VANILLA WAFERS   \n",
       "4  LOACKER QUADRATINI VANILLA WAFERS   \n",
       "\n",
       "                                                Text  \n",
       "0  DELICIOUS WAFERS. I FIND THAT EUROPEAN WAFERS ...  \n",
       "1  DELICIOUS WAFERS. I FIND THAT EUROPEAN WAFERS ...  \n",
       "2  DELICIOUS WAFERS. I FIND THAT EUROPEAN WAFERS ...  \n",
       "3  DELICIOUS WAFERS. I FIND THAT EUROPEAN WAFERS ...  \n",
       "4  DELICIOUS WAFERS. I FIND THAT EUROPEAN WAFERS ...  "
      ]
     },
     "execution_count": 7,
     "metadata": {},
     "output_type": "execute_result"
    }
   ],
   "source": [
    "display= pd.read_sql_query(\"\"\"\n",
    "SELECT *\n",
    "FROM Reviews\n",
    "WHERE Score != 3 AND UserId=\"AR5J8UI46CURR\"\n",
    "ORDER BY ProductID\n",
    "\"\"\", con)\n",
    "display.head()"
   ]
  },
  {
   "cell_type": "markdown",
   "metadata": {
    "colab_type": "text",
    "id": "99PmS-YycKnq"
   },
   "source": [
    "As it can be seen above that same user has multiple reviews with same values for HelpfulnessNumerator, HelpfulnessDenominator, Score, Time, Summary and Text and on doing analysis it was found that <br>\n",
    "<br> \n",
    "ProductId=B000HDOPZG was Loacker Quadratini Vanilla Wafer Cookies, 8.82-Ounce Packages (Pack of 8)<br>\n",
    "<br> \n",
    "ProductId=B000HDL1RQ was Loacker Quadratini Lemon Wafer Cookies, 8.82-Ounce Packages (Pack of 8) and so on<br>\n",
    "\n",
    "It was inferred after analysis that reviews with same parameters other than ProductId belonged to the same product just having different flavour or quantity. Hence in order to reduce redundancy it was decided to eliminate the rows having same parameters.<br>\n",
    "\n",
    "The method used for the same was that we first sort the data according to ProductId and then just keep the first similar product review and delelte the others. for eg. in the above just the review for ProductId=B000HDL1RQ remains. This method ensures that there is only one representative for each product and deduplication without sorting would lead to possibility of different representatives still existing for the same product."
   ]
  },
  {
   "cell_type": "code",
   "execution_count": 8,
   "metadata": {
    "colab": {},
    "colab_type": "code",
    "id": "xAO6SB5GWYDM"
   },
   "outputs": [],
   "source": [
    "#Sorting data according to ProductId in ascending order\n",
    "sorted_data=filtered_data.sort_values('ProductId', axis=0, ascending=True, inplace=False, kind='quicksort', na_position='last')"
   ]
  },
  {
   "cell_type": "code",
   "execution_count": 9,
   "metadata": {
    "colab": {},
    "colab_type": "code",
    "id": "luGPt2u3WYFw"
   },
   "outputs": [
    {
     "data": {
      "text/plain": [
       "(118907, 10)"
      ]
     },
     "execution_count": 9,
     "metadata": {},
     "output_type": "execute_result"
    }
   ],
   "source": [
    "#Deduplication of entries\n",
    "final=sorted_data.drop_duplicates(subset={\"UserId\",\"ProfileName\",\"Time\",\"Text\"}, keep='first', inplace=False)\n",
    "final.shape"
   ]
  },
  {
   "cell_type": "code",
   "execution_count": 10,
   "metadata": {
    "colab": {},
    "colab_type": "code",
    "id": "EgFK1kcYWYIZ"
   },
   "outputs": [
    {
     "data": {
      "text/plain": [
       "84.93357142857143"
      ]
     },
     "execution_count": 10,
     "metadata": {},
     "output_type": "execute_result"
    }
   ],
   "source": [
    "#Checking to see how much % of data still remains\n",
    "(final['Id'].size*1.0)/(filtered_data['Id'].size*1.0)*100"
   ]
  },
  {
   "cell_type": "markdown",
   "metadata": {
    "colab_type": "text",
    "id": "9MEwrVSHcVXo"
   },
   "source": [
    "<b>Observation:-</b> It was also seen that in two rows given below the value of HelpfulnessNumerator is greater than HelpfulnessDenominator which is not practically possible hence these two rows too are removed from calcualtions"
   ]
  },
  {
   "cell_type": "code",
   "execution_count": 11,
   "metadata": {
    "colab": {},
    "colab_type": "code",
    "id": "n-ryUbOVWYLG"
   },
   "outputs": [
    {
     "data": {
      "text/html": [
       "<div>\n",
       "<style scoped>\n",
       "    .dataframe tbody tr th:only-of-type {\n",
       "        vertical-align: middle;\n",
       "    }\n",
       "\n",
       "    .dataframe tbody tr th {\n",
       "        vertical-align: top;\n",
       "    }\n",
       "\n",
       "    .dataframe thead th {\n",
       "        text-align: right;\n",
       "    }\n",
       "</style>\n",
       "<table border=\"1\" class=\"dataframe\">\n",
       "  <thead>\n",
       "    <tr style=\"text-align: right;\">\n",
       "      <th></th>\n",
       "      <th>Id</th>\n",
       "      <th>ProductId</th>\n",
       "      <th>UserId</th>\n",
       "      <th>ProfileName</th>\n",
       "      <th>HelpfulnessNumerator</th>\n",
       "      <th>HelpfulnessDenominator</th>\n",
       "      <th>Score</th>\n",
       "      <th>Time</th>\n",
       "      <th>Summary</th>\n",
       "      <th>Text</th>\n",
       "    </tr>\n",
       "  </thead>\n",
       "  <tbody>\n",
       "    <tr>\n",
       "      <th>0</th>\n",
       "      <td>64422</td>\n",
       "      <td>B000MIDROQ</td>\n",
       "      <td>A161DK06JJMCYF</td>\n",
       "      <td>J. E. Stephens \"Jeanne\"</td>\n",
       "      <td>3</td>\n",
       "      <td>1</td>\n",
       "      <td>5</td>\n",
       "      <td>1224892800</td>\n",
       "      <td>Bought This for My Son at College</td>\n",
       "      <td>My son loves spaghetti so I didn't hesitate or...</td>\n",
       "    </tr>\n",
       "    <tr>\n",
       "      <th>1</th>\n",
       "      <td>44737</td>\n",
       "      <td>B001EQ55RW</td>\n",
       "      <td>A2V0I904FH7ABY</td>\n",
       "      <td>Ram</td>\n",
       "      <td>3</td>\n",
       "      <td>2</td>\n",
       "      <td>4</td>\n",
       "      <td>1212883200</td>\n",
       "      <td>Pure cocoa taste with crunchy almonds inside</td>\n",
       "      <td>It was almost a 'love at first bite' - the per...</td>\n",
       "    </tr>\n",
       "  </tbody>\n",
       "</table>\n",
       "</div>"
      ],
      "text/plain": [
       "      Id   ProductId          UserId              ProfileName  \\\n",
       "0  64422  B000MIDROQ  A161DK06JJMCYF  J. E. Stephens \"Jeanne\"   \n",
       "1  44737  B001EQ55RW  A2V0I904FH7ABY                      Ram   \n",
       "\n",
       "   HelpfulnessNumerator  HelpfulnessDenominator  Score        Time  \\\n",
       "0                     3                       1      5  1224892800   \n",
       "1                     3                       2      4  1212883200   \n",
       "\n",
       "                                        Summary  \\\n",
       "0             Bought This for My Son at College   \n",
       "1  Pure cocoa taste with crunchy almonds inside   \n",
       "\n",
       "                                                Text  \n",
       "0  My son loves spaghetti so I didn't hesitate or...  \n",
       "1  It was almost a 'love at first bite' - the per...  "
      ]
     },
     "execution_count": 11,
     "metadata": {},
     "output_type": "execute_result"
    }
   ],
   "source": [
    "display= pd.read_sql_query(\"\"\"\n",
    "SELECT *\n",
    "FROM Reviews\n",
    "WHERE Score != 3 AND Id=44737 OR Id=64422\n",
    "ORDER BY ProductID\n",
    "\"\"\", con)\n",
    "\n",
    "display.head()"
   ]
  },
  {
   "cell_type": "code",
   "execution_count": 12,
   "metadata": {
    "colab": {},
    "colab_type": "code",
    "id": "uwZMuwD0WYOD"
   },
   "outputs": [],
   "source": [
    "final=final[final.HelpfulnessNumerator<=final.HelpfulnessDenominator]"
   ]
  },
  {
   "cell_type": "markdown",
   "metadata": {
    "colab_type": "text",
    "id": "27Bkm-bmcf1q"
   },
   "source": [
    "Observation(s):\n",
    "\n",
    "1. I have keep only those values whose HelpfulnessNumerator <= HelpfulnessDenominator."
   ]
  },
  {
   "cell_type": "code",
   "execution_count": 13,
   "metadata": {
    "colab": {},
    "colab_type": "code",
    "id": "cPFXEnKWWYRL"
   },
   "outputs": [
    {
     "name": "stdout",
     "output_type": "stream",
     "text": [
      "(118905, 10)\n"
     ]
    },
    {
     "data": {
      "text/plain": [
       "1    99869\n",
       "0    19036\n",
       "Name: Score, dtype: int64"
      ]
     },
     "execution_count": 13,
     "metadata": {},
     "output_type": "execute_result"
    }
   ],
   "source": [
    "#Before starting the next phase of preprocessing lets see the number of entries left\n",
    "print(final.shape)\n",
    "\n",
    "#How many positive and negative reviews are present in our dataset?\n",
    "final['Score'].value_counts()"
   ]
  },
  {
   "cell_type": "markdown",
   "metadata": {
    "colab_type": "text",
    "id": "vWZWa5fIclXP"
   },
   "source": [
    "#  [3] Preprocessing"
   ]
  },
  {
   "cell_type": "markdown",
   "metadata": {
    "colab_type": "text",
    "id": "ioPyjaMxctgf"
   },
   "source": [
    "## [3.1].  Preprocessing Review Text\n",
    "\n",
    "Now that we have finished deduplication our data requires some preprocessing before we go on further with analysis and making the prediction model.\n",
    "\n",
    "Hence in the Preprocessing phase we do the following in the order below:-\n",
    "\n",
    "1. Begin by removing the html tags\n",
    "2. Remove any punctuations or limited set of special characters like , or . or # etc.\n",
    "3. Check if the word is made up of english letters and is not alpha-numeric\n",
    "4. Check to see if the length of the word is greater than 2 (as it was researched that there is no adjective in 2-letters)\n",
    "5. Convert the word to lowercase\n",
    "6. Remove Stopwords\n",
    "7. Finally Snowball Stemming the word (it was obsereved to be better than Porter Stemming)<br>\n",
    "\n",
    "After which we collect the words used to describe positive and negative reviews"
   ]
  },
  {
   "cell_type": "code",
   "execution_count": 14,
   "metadata": {
    "colab": {},
    "colab_type": "code",
    "id": "no9n0GjvWYW2"
   },
   "outputs": [
    {
     "name": "stdout",
     "output_type": "stream",
     "text": [
      "Get the movie or sound track and sing along with Carol King. This is great stuff, my whole extended family knows these songs by heart. Quality kids storytelling and music.\n",
      "==================================================\n",
      "I love chai tea and this is definitely reminiscent of that. It's got a wonderful aroma and tastes good hot or cold. I'm definitely buying it again. It also reminds me of special home-made tea I had at a NYC Indian restaurant which was fabulous. Excellent tea. Well worth the price!\n",
      "==================================================\n",
      "Purchased this product at a local store in NY and my kids and i love it. Its a quick easy meal. You can put in a toaster oven on toast for 6 min. and its ready to eat.<br />strongly recommend\n",
      "==================================================\n"
     ]
    }
   ],
   "source": [
    "# printing some random reviews\n",
    "sent_0 = final['Text'].values[0]\n",
    "print(sent_0)\n",
    "print(\"=\"*50)\n",
    "\n",
    "sent_1000 = final['Text'].values[1000]\n",
    "print(sent_1000)\n",
    "print(\"=\"*50)\n",
    "\n",
    "sent_118904 = final['Text'].values[118904]\n",
    "print(sent_118904)\n",
    "print(\"=\"*50)"
   ]
  },
  {
   "cell_type": "code",
   "execution_count": 15,
   "metadata": {
    "colab": {},
    "colab_type": "code",
    "id": "gpnrsIfKWYZ4"
   },
   "outputs": [
    {
     "name": "stdout",
     "output_type": "stream",
     "text": [
      "Get the movie or sound track and sing along with Carol King. This is great stuff, my whole extended family knows these songs by heart. Quality kids storytelling and music.\n"
     ]
    }
   ],
   "source": [
    "# remove urls from text python: https://stackoverflow.com/a/40823105/4084039\n",
    "sent_0 = re.sub(r\"http\\S+\", \"\", sent_0)\n",
    "sent_1000 = re.sub(r\"http\\S+\", \"\", sent_1000)\n",
    "sent_118904 = re.sub(r\"http\\S+\", \"\", sent_118904)\n",
    "\n",
    "print(sent_0)"
   ]
  },
  {
   "cell_type": "code",
   "execution_count": 16,
   "metadata": {
    "colab": {},
    "colab_type": "code",
    "id": "qyPnI4gXWYdF"
   },
   "outputs": [
    {
     "name": "stdout",
     "output_type": "stream",
     "text": [
      "Get the movie or sound track and sing along with Carol King. This is great stuff, my whole extended family knows these songs by heart. Quality kids storytelling and music.\n",
      "==================================================\n",
      "I love chai tea and this is definitely reminiscent of that. It's got a wonderful aroma and tastes good hot or cold. I'm definitely buying it again. It also reminds me of special home-made tea I had at a NYC Indian restaurant which was fabulous. Excellent tea. Well worth the price!\n",
      "==================================================\n",
      "Purchased this product at a local store in NY and my kids and i love it. Its a quick easy meal. You can put in a toaster oven on toast for 6 min. and its ready to eat.strongly recommend\n",
      "==================================================\n"
     ]
    }
   ],
   "source": [
    "# https://stackoverflow.com/questions/16206380/python-beautifulsoup-how-to-remove-all-tags-from-an-element\n",
    "from bs4 import BeautifulSoup\n",
    "\n",
    "soup = BeautifulSoup(sent_0, 'lxml')\n",
    "text = soup.get_text()\n",
    "print(text)\n",
    "print(\"=\"*50)\n",
    "\n",
    "soup = BeautifulSoup(sent_1000, 'lxml')\n",
    "text = soup.get_text()\n",
    "print(text)\n",
    "print(\"=\"*50)\n",
    "\n",
    "soup = BeautifulSoup(sent_118904, 'lxml')\n",
    "text = soup.get_text()\n",
    "print(text)\n",
    "print(\"=\"*50)"
   ]
  },
  {
   "cell_type": "code",
   "execution_count": 17,
   "metadata": {
    "colab": {},
    "colab_type": "code",
    "id": "EaBm2VD4c321"
   },
   "outputs": [],
   "source": [
    "# https://stackoverflow.com/a/47091490/4084039\n",
    "import re\n",
    "\n",
    "def decontracted(phrase):\n",
    "    # specific\n",
    "    phrase = re.sub(r\"won't\", \"will not\", phrase)\n",
    "    phrase = re.sub(r\"can\\'t\", \"can not\", phrase)\n",
    "\n",
    "    # general\n",
    "    phrase = re.sub(r\"n\\'t\", \" not\", phrase)\n",
    "    phrase = re.sub(r\"\\'re\", \" are\", phrase)\n",
    "    phrase = re.sub(r\"\\'s\", \" is\", phrase)\n",
    "    phrase = re.sub(r\"\\'d\", \" would\", phrase)\n",
    "    phrase = re.sub(r\"\\'ll\", \" will\", phrase)\n",
    "    phrase = re.sub(r\"\\'t\", \" not\", phrase)\n",
    "    phrase = re.sub(r\"\\'ve\", \" have\", phrase)\n",
    "    phrase = re.sub(r\"\\'m\", \" am\", phrase)\n",
    "    return phrase"
   ]
  },
  {
   "cell_type": "code",
   "execution_count": 18,
   "metadata": {
    "colab": {},
    "colab_type": "code",
    "id": "OA__vfM5c38l"
   },
   "outputs": [
    {
     "name": "stdout",
     "output_type": "stream",
     "text": [
      "Purchased this product at a local store in NY and my kids and i love it. Its a quick easy meal. You can put in a toaster oven on toast for 6 min. and its ready to eat.<br />strongly recommend\n",
      "==================================================\n"
     ]
    }
   ],
   "source": [
    "sent_118904 = decontracted(sent_118904)\n",
    "print(sent_118904)\n",
    "print(\"=\"*50)"
   ]
  },
  {
   "cell_type": "code",
   "execution_count": 19,
   "metadata": {
    "colab": {},
    "colab_type": "code",
    "id": "-T0cBYb8c4C9"
   },
   "outputs": [
    {
     "name": "stdout",
     "output_type": "stream",
     "text": [
      "Get the movie or sound track and sing along with Carol King. This is great stuff, my whole extended family knows these songs by heart. Quality kids storytelling and music.\n"
     ]
    }
   ],
   "source": [
    "#remove words with numbers python: https://stackoverflow.com/a/18082370/4084039\n",
    "sent_0 = re.sub(\"\\S*\\d\\S*\", \"\", sent_0).strip()\n",
    "print(sent_0)"
   ]
  },
  {
   "cell_type": "code",
   "execution_count": 20,
   "metadata": {
    "colab": {},
    "colab_type": "code",
    "id": "xn0BH8uyc4GK"
   },
   "outputs": [
    {
     "name": "stdout",
     "output_type": "stream",
     "text": [
      "Purchased this product at a local store in NY and my kids and i love it Its a quick easy meal You can put in a toaster oven on toast for 6 min and its ready to eat br strongly recommend\n"
     ]
    }
   ],
   "source": [
    "#remove spacial character: https://stackoverflow.com/a/5843547/4084039\n",
    "sent_118904 = re.sub('[^A-Za-z0-9]+', ' ', sent_118904)\n",
    "print(sent_118904)"
   ]
  },
  {
   "cell_type": "code",
   "execution_count": 21,
   "metadata": {
    "colab": {},
    "colab_type": "code",
    "id": "-KQNBHYYc4WP"
   },
   "outputs": [],
   "source": [
    "# https://gist.github.com/sebleier/554280\n",
    "# we are removing the words from the stop words list: 'no', 'nor', 'not'\n",
    "# <br /><br /> ==> after the above steps, we are getting \"br br\"\n",
    "# we are including them into stop words list\n",
    "# instead of <br /> if we have <br/> these tags would have revmoved in the 1st step\n",
    "\n",
    "stopwords= set(['br', 'the', 'i', 'me', 'my', 'myself', 'we', 'our', 'ours', 'ourselves', 'you', \"you're\", \"you've\",\\\n",
    "            \"you'll\", \"you'd\", 'your', 'yours', 'yourself', 'yourselves', 'he', 'him', 'his', 'himself', \\\n",
    "            'she', \"she's\", 'her', 'hers', 'herself', 'it', \"it's\", 'its', 'itself', 'they', 'them', 'their',\\\n",
    "            'theirs', 'themselves', 'what', 'which', 'who', 'whom', 'this', 'that', \"that'll\", 'these', 'those', \\\n",
    "            'am', 'is', 'are', 'was', 'were', 'be', 'been', 'being', 'have', 'has', 'had', 'having', 'do', 'does', \\\n",
    "            'did', 'doing', 'a', 'an', 'the', 'and', 'but', 'if', 'or', 'because', 'as', 'until', 'while', 'of', \\\n",
    "            'at', 'by', 'for', 'with', 'about', 'against', 'between', 'into', 'through', 'during', 'before', 'after',\\\n",
    "            'above', 'below', 'to', 'from', 'up', 'down', 'in', 'out', 'on', 'off', 'over', 'under', 'again', 'further',\\\n",
    "            'then', 'once', 'here', 'there', 'when', 'where', 'why', 'how', 'all', 'any', 'both', 'each', 'few', 'more',\\\n",
    "            'most', 'other', 'some', 'such', 'only', 'own', 'same', 'so', 'than', 'too', 'very', \\\n",
    "            's', 't', 'can', 'will', 'just', 'don', \"don't\", 'should', \"should've\", 'now', 'd', 'll', 'm', 'o', 're', \\\n",
    "            've', 'y', 'ain', 'aren', \"aren't\", 'couldn', \"couldn't\", 'didn', \"didn't\", 'doesn', \"doesn't\", 'hadn',\\\n",
    "            \"hadn't\", 'hasn', \"hasn't\", 'haven', \"haven't\", 'isn', \"isn't\", 'ma', 'mightn', \"mightn't\", 'mustn',\\\n",
    "            \"mustn't\", 'needn', \"needn't\", 'shan', \"shan't\", 'shouldn', \"shouldn't\", 'wasn', \"wasn't\", 'weren', \"weren't\", \\\n",
    "            'won', \"won't\", 'wouldn', \"wouldn't\"])"
   ]
  },
  {
   "cell_type": "markdown",
   "metadata": {
    "colab_type": "text",
    "id": "90hKArEDdGbQ"
   },
   "source": [
    "Observation(s):\n",
    "\n",
    "1. Here we are having set of stopwords.\n",
    "2. Here so many unused word in the stopwords.\n",
    "3. stopwords are words which contain a dictionary of unused words.\n",
    "4. If we are removing stopwordsthen our Bag of Words is much smaller and meaningful vector."
   ]
  },
  {
   "cell_type": "code",
   "execution_count": 22,
   "metadata": {
    "colab": {},
    "colab_type": "code",
    "id": "U8ZSvDVac4aA"
   },
   "outputs": [
    {
     "name": "stderr",
     "output_type": "stream",
     "text": [
      "100%|████████████████████████████████████████████████████████████████████████| 118905/118905 [01:21<00:00, 1450.18it/s]\n"
     ]
    }
   ],
   "source": [
    "# Combining all the above stundents \n",
    "from tqdm import tqdm\n",
    "preprocessed_reviews = []\n",
    "# tqdm is for printing the status bar\n",
    "for sentance in tqdm(final['Text'].values):\n",
    "    sentance = re.sub(r\"http\\S+\", \"\", sentance)\n",
    "    sentance = BeautifulSoup(sentance, 'lxml').get_text()\n",
    "    sentance = decontracted(sentance)\n",
    "    sentance = re.sub(\"\\S*\\d\\S*\", \"\", sentance).strip()\n",
    "    sentance = re.sub('[^A-Za-z]+', ' ', sentance)\n",
    "    # https://gist.github.com/sebleier/554280\n",
    "    sentance = ' '.join(e.lower() for e in sentance.split() if e.lower() not in stopwords)\n",
    "    preprocessed_reviews.append(sentance.strip())"
   ]
  },
  {
   "cell_type": "code",
   "execution_count": 23,
   "metadata": {
    "colab": {},
    "colab_type": "code",
    "id": "eW675Nvdc4TT"
   },
   "outputs": [
    {
     "data": {
      "text/plain": [
       "'purchased product local store ny kids love quick easy meal put toaster oven toast min ready eat strongly recommend'"
      ]
     },
     "execution_count": 23,
     "metadata": {},
     "output_type": "execute_result"
    }
   ],
   "source": [
    "preprocessed_reviews[118904]"
   ]
  },
  {
   "cell_type": "code",
   "execution_count": 24,
   "metadata": {
    "colab": {},
    "colab_type": "code",
    "id": "KAH0SZQ_c4QN"
   },
   "outputs": [
    {
     "name": "stdout",
     "output_type": "stream",
     "text": [
      "Shape of final (118905, 11)\n"
     ]
    },
    {
     "data": {
      "text/html": [
       "<div>\n",
       "<style scoped>\n",
       "    .dataframe tbody tr th:only-of-type {\n",
       "        vertical-align: middle;\n",
       "    }\n",
       "\n",
       "    .dataframe tbody tr th {\n",
       "        vertical-align: top;\n",
       "    }\n",
       "\n",
       "    .dataframe thead th {\n",
       "        text-align: right;\n",
       "    }\n",
       "</style>\n",
       "<table border=\"1\" class=\"dataframe\">\n",
       "  <thead>\n",
       "    <tr style=\"text-align: right;\">\n",
       "      <th></th>\n",
       "      <th>Id</th>\n",
       "      <th>ProductId</th>\n",
       "      <th>UserId</th>\n",
       "      <th>ProfileName</th>\n",
       "      <th>HelpfulnessNumerator</th>\n",
       "      <th>HelpfulnessDenominator</th>\n",
       "      <th>Score</th>\n",
       "      <th>Time</th>\n",
       "      <th>Summary</th>\n",
       "      <th>Text</th>\n",
       "      <th>CleanedText</th>\n",
       "    </tr>\n",
       "  </thead>\n",
       "  <tbody>\n",
       "    <tr>\n",
       "      <th>138687</th>\n",
       "      <td>150505</td>\n",
       "      <td>0006641040</td>\n",
       "      <td>A2PTSM496CF40Z</td>\n",
       "      <td>Jason A. Teeple \"Nobody made a greater mistak...</td>\n",
       "      <td>1</td>\n",
       "      <td>1</td>\n",
       "      <td>1</td>\n",
       "      <td>1210809600</td>\n",
       "      <td>A classic</td>\n",
       "      <td>Get the movie or sound track and sing along wi...</td>\n",
       "      <td>get movie sound track sing along carol king gr...</td>\n",
       "    </tr>\n",
       "    <tr>\n",
       "      <th>138708</th>\n",
       "      <td>150526</td>\n",
       "      <td>0006641040</td>\n",
       "      <td>A3E9QZFE9KXH8J</td>\n",
       "      <td>R. Mitchell</td>\n",
       "      <td>11</td>\n",
       "      <td>18</td>\n",
       "      <td>0</td>\n",
       "      <td>1129507200</td>\n",
       "      <td>awesome book poor size</td>\n",
       "      <td>This is one of the best children's books ever ...</td>\n",
       "      <td>one best children books ever written mini vers...</td>\n",
       "    </tr>\n",
       "    <tr>\n",
       "      <th>138707</th>\n",
       "      <td>150525</td>\n",
       "      <td>0006641040</td>\n",
       "      <td>A2QID6VCFTY51R</td>\n",
       "      <td>Rick</td>\n",
       "      <td>1</td>\n",
       "      <td>2</td>\n",
       "      <td>1</td>\n",
       "      <td>1025481600</td>\n",
       "      <td>In December it will be, my snowman's anniversa...</td>\n",
       "      <td>My daughter loves all the \"Really Rosie\" books...</td>\n",
       "      <td>daughter loves really rosie books introduced r...</td>\n",
       "    </tr>\n",
       "    <tr>\n",
       "      <th>138706</th>\n",
       "      <td>150524</td>\n",
       "      <td>0006641040</td>\n",
       "      <td>ACITT7DI6IDDL</td>\n",
       "      <td>shari zychinski</td>\n",
       "      <td>0</td>\n",
       "      <td>0</td>\n",
       "      <td>1</td>\n",
       "      <td>939340800</td>\n",
       "      <td>EVERY book is educational</td>\n",
       "      <td>this witty little book makes my son laugh at l...</td>\n",
       "      <td>witty little book makes son laugh loud recite ...</td>\n",
       "    </tr>\n",
       "    <tr>\n",
       "      <th>138705</th>\n",
       "      <td>150523</td>\n",
       "      <td>0006641040</td>\n",
       "      <td>A2P4F2UO0UMP8C</td>\n",
       "      <td>Elizabeth A. Curry \"Lovely Librarian\"</td>\n",
       "      <td>0</td>\n",
       "      <td>0</td>\n",
       "      <td>1</td>\n",
       "      <td>1096675200</td>\n",
       "      <td>MMMM chicken soup....</td>\n",
       "      <td>Summary:  A young boy describes the usefulness...</td>\n",
       "      <td>summary young boy describes usefulness chicken...</td>\n",
       "    </tr>\n",
       "  </tbody>\n",
       "</table>\n",
       "</div>"
      ],
      "text/plain": [
       "            Id   ProductId          UserId  \\\n",
       "138687  150505  0006641040  A2PTSM496CF40Z   \n",
       "138708  150526  0006641040  A3E9QZFE9KXH8J   \n",
       "138707  150525  0006641040  A2QID6VCFTY51R   \n",
       "138706  150524  0006641040   ACITT7DI6IDDL   \n",
       "138705  150523  0006641040  A2P4F2UO0UMP8C   \n",
       "\n",
       "                                             ProfileName  \\\n",
       "138687  Jason A. Teeple \"Nobody made a greater mistak...   \n",
       "138708                                       R. Mitchell   \n",
       "138707                                              Rick   \n",
       "138706                                   shari zychinski   \n",
       "138705             Elizabeth A. Curry \"Lovely Librarian\"   \n",
       "\n",
       "        HelpfulnessNumerator  HelpfulnessDenominator  Score        Time  \\\n",
       "138687                     1                       1      1  1210809600   \n",
       "138708                    11                      18      0  1129507200   \n",
       "138707                     1                       2      1  1025481600   \n",
       "138706                     0                       0      1   939340800   \n",
       "138705                     0                       0      1  1096675200   \n",
       "\n",
       "                                                  Summary  \\\n",
       "138687                                          A classic   \n",
       "138708                             awesome book poor size   \n",
       "138707  In December it will be, my snowman's anniversa...   \n",
       "138706                          EVERY book is educational   \n",
       "138705                              MMMM chicken soup....   \n",
       "\n",
       "                                                     Text  \\\n",
       "138687  Get the movie or sound track and sing along wi...   \n",
       "138708  This is one of the best children's books ever ...   \n",
       "138707  My daughter loves all the \"Really Rosie\" books...   \n",
       "138706  this witty little book makes my son laugh at l...   \n",
       "138705  Summary:  A young boy describes the usefulness...   \n",
       "\n",
       "                                              CleanedText  \n",
       "138687  get movie sound track sing along carol king gr...  \n",
       "138708  one best children books ever written mini vers...  \n",
       "138707  daughter loves really rosie books introduced r...  \n",
       "138706  witty little book makes son laugh loud recite ...  \n",
       "138705  summary young boy describes usefulness chicken...  "
      ]
     },
     "execution_count": 24,
     "metadata": {},
     "output_type": "execute_result"
    }
   ],
   "source": [
    "#adding a column of CleanedText which displays the data after pre-processing of the review\n",
    "final['CleanedText']=preprocessed_reviews\n",
    "final['CleanedText']=final['CleanedText']\n",
    "#below the processed review can be seen in the CleanedText Column \n",
    "print('Shape of final',final.shape)\n",
    "final.head()"
   ]
  },
  {
   "cell_type": "markdown",
   "metadata": {
    "colab_type": "text",
    "id": "DYb8DObodTyu"
   },
   "source": [
    "Observation(s):\n",
    "\n",
    "1. Here processed review can be seen in the CleanedText Column.\n",
    "2. We will use it for future observation.\n",
    "3. we are having 118905 matrix of features."
   ]
  },
  {
   "cell_type": "markdown",
   "metadata": {
    "colab_type": "text",
    "id": "yYXudx6tJWOb"
   },
   "source": [
    "# Time Based Splitting"
   ]
  },
  {
   "cell_type": "code",
   "execution_count": 25,
   "metadata": {
    "colab": {},
    "colab_type": "code",
    "id": "2o6pykyyJohn"
   },
   "outputs": [
    {
     "name": "stdout",
     "output_type": "stream",
     "text": [
      "(70000, 11)\n"
     ]
    },
    {
     "data": {
      "text/html": [
       "<div>\n",
       "<style scoped>\n",
       "    .dataframe tbody tr th:only-of-type {\n",
       "        vertical-align: middle;\n",
       "    }\n",
       "\n",
       "    .dataframe tbody tr th {\n",
       "        vertical-align: top;\n",
       "    }\n",
       "\n",
       "    .dataframe thead th {\n",
       "        text-align: right;\n",
       "    }\n",
       "</style>\n",
       "<table border=\"1\" class=\"dataframe\">\n",
       "  <thead>\n",
       "    <tr style=\"text-align: right;\">\n",
       "      <th></th>\n",
       "      <th>Id</th>\n",
       "      <th>ProductId</th>\n",
       "      <th>UserId</th>\n",
       "      <th>ProfileName</th>\n",
       "      <th>HelpfulnessNumerator</th>\n",
       "      <th>HelpfulnessDenominator</th>\n",
       "      <th>Score</th>\n",
       "      <th>Time</th>\n",
       "      <th>Summary</th>\n",
       "      <th>Text</th>\n",
       "      <th>CleanedText</th>\n",
       "    </tr>\n",
       "  </thead>\n",
       "  <tbody>\n",
       "    <tr>\n",
       "      <th>12820</th>\n",
       "      <td>13986</td>\n",
       "      <td>B000FKEWRM</td>\n",
       "      <td>A2MB5XC5QP3WBW</td>\n",
       "      <td>Ricky N. \"Ricky C. Nelson\"</td>\n",
       "      <td>3</td>\n",
       "      <td>4</td>\n",
       "      <td>1</td>\n",
       "      <td>1203465600</td>\n",
       "      <td>Maxwell House Filter Packs</td>\n",
       "      <td>Maxwell House has a winner with these filter p...</td>\n",
       "      <td>maxwell house winner filter packs leave home e...</td>\n",
       "    </tr>\n",
       "    <tr>\n",
       "      <th>70380</th>\n",
       "      <td>76559</td>\n",
       "      <td>B0049ULB78</td>\n",
       "      <td>A1QI6WTAUB6L6S</td>\n",
       "      <td>MP</td>\n",
       "      <td>0</td>\n",
       "      <td>0</td>\n",
       "      <td>1</td>\n",
       "      <td>1342915200</td>\n",
       "      <td>Dark Magic is a great cup of coffee</td>\n",
       "      <td>I am just 1 week into owning my Kuerig B60 and...</td>\n",
       "      <td>week owning kuerig sample pack brewed coffee g...</td>\n",
       "    </tr>\n",
       "    <tr>\n",
       "      <th>1694</th>\n",
       "      <td>1836</td>\n",
       "      <td>B001RVFDOO</td>\n",
       "      <td>A32G4AR56VP4YN</td>\n",
       "      <td>Michael J. Casteel</td>\n",
       "      <td>1</td>\n",
       "      <td>10</td>\n",
       "      <td>0</td>\n",
       "      <td>1327622400</td>\n",
       "      <td>Awful</td>\n",
       "      <td>I was at a charity fund raising event where th...</td>\n",
       "      <td>charity fund raising event handing seemed pret...</td>\n",
       "    </tr>\n",
       "  </tbody>\n",
       "</table>\n",
       "</div>"
      ],
      "text/plain": [
       "          Id   ProductId          UserId                 ProfileName  \\\n",
       "12820  13986  B000FKEWRM  A2MB5XC5QP3WBW  Ricky N. \"Ricky C. Nelson\"   \n",
       "70380  76559  B0049ULB78  A1QI6WTAUB6L6S                          MP   \n",
       "1694    1836  B001RVFDOO  A32G4AR56VP4YN          Michael J. Casteel   \n",
       "\n",
       "       HelpfulnessNumerator  HelpfulnessDenominator  Score        Time  \\\n",
       "12820                     3                       4      1  1203465600   \n",
       "70380                     0                       0      1  1342915200   \n",
       "1694                      1                      10      0  1327622400   \n",
       "\n",
       "                                   Summary  \\\n",
       "12820           Maxwell House Filter Packs   \n",
       "70380  Dark Magic is a great cup of coffee   \n",
       "1694                                 Awful   \n",
       "\n",
       "                                                    Text  \\\n",
       "12820  Maxwell House has a winner with these filter p...   \n",
       "70380  I am just 1 week into owning my Kuerig B60 and...   \n",
       "1694   I was at a charity fund raising event where th...   \n",
       "\n",
       "                                             CleanedText  \n",
       "12820  maxwell house winner filter packs leave home e...  \n",
       "70380  week owning kuerig sample pack brewed coffee g...  \n",
       "1694   charity fund raising event handing seemed pret...  "
      ]
     },
     "execution_count": 25,
     "metadata": {},
     "output_type": "execute_result"
    }
   ],
   "source": [
    "##Sorting data according to Time in ascending order for Time Based Splitting\n",
    "time_sorted_data = final.sort_values('Time', axis=0, ascending=True, inplace=False, kind='quicksort', na_position='last')\n",
    "\n",
    "# Randomly selecting 20K datapoints\n",
    "\n",
    "# We will collect different 20K rows without repetition from time_sorted_data dataframe\n",
    "final_20 = time_sorted_data.take(np.random.permutation(len(final))[:70000])\n",
    "print(final_20.shape)\n",
    "final_20.head(3)"
   ]
  },
  {
   "cell_type": "markdown",
   "metadata": {
    "colab_type": "text",
    "id": "knKkUrd1JxTZ"
   },
   "source": [
    "Observation(s):\n",
    "1. Time based splitting is better than random splitting.\n",
    "2. In time based splitting we sort our data in ascending order.\n",
    "3. In TIme based splitting we get better accuracy than random splitting."
   ]
  },
  {
   "cell_type": "code",
   "execution_count": 26,
   "metadata": {
    "colab": {},
    "colab_type": "code",
    "id": "FahADyFxJocM"
   },
   "outputs": [
    {
     "data": {
      "text/plain": [
       "1    58885\n",
       "0    11115\n",
       "Name: Score, dtype: int64"
      ]
     },
     "execution_count": 26,
     "metadata": {},
     "output_type": "execute_result"
    }
   ],
   "source": [
    "# sample dataset \n",
    "final_20['Score'].value_counts()"
   ]
  },
  {
   "cell_type": "code",
   "execution_count": 27,
   "metadata": {
    "colab": {},
    "colab_type": "code",
    "id": "BTvIINPrJoZX"
   },
   "outputs": [
    {
     "data": {
      "text/plain": [
       "1    99869\n",
       "0    19036\n",
       "Name: Score, dtype: int64"
      ]
     },
     "execution_count": 27,
     "metadata": {},
     "output_type": "execute_result"
    }
   ],
   "source": [
    "# Original dataset\n",
    "final['Score'].value_counts()"
   ]
  },
  {
   "cell_type": "code",
   "execution_count": 28,
   "metadata": {
    "colab": {},
    "colab_type": "code",
    "id": "765p07YLJoWE"
   },
   "outputs": [
    {
     "data": {
      "text/plain": [
       "5.297795771479982"
      ]
     },
     "execution_count": 28,
     "metadata": {},
     "output_type": "execute_result"
    }
   ],
   "source": [
    "# Ratio of positive reviews to negative reviews in Sample Dataset\n",
    "len(final_20[final_20['Score'] == 1])/len(final_20[final_20['Score'] == 0])"
   ]
  },
  {
   "cell_type": "code",
   "execution_count": 29,
   "metadata": {
    "colab": {},
    "colab_type": "code",
    "id": "E7lxo5i2JoS7"
   },
   "outputs": [
    {
     "data": {
      "text/plain": [
       "5.246322756881698"
      ]
     },
     "execution_count": 29,
     "metadata": {},
     "output_type": "execute_result"
    }
   ],
   "source": [
    "# Ratio of positive reviews to negative reviews in Original Dataset\n",
    "len(final[final['Score'] == 1])/len(final[final['Score'] == 0])"
   ]
  },
  {
   "cell_type": "code",
   "execution_count": 30,
   "metadata": {
    "colab": {},
    "colab_type": "code",
    "id": "9rlmxwONJoGv"
   },
   "outputs": [
    {
     "name": "stdout",
     "output_type": "stream",
     "text": [
      "shape of X: (70000,)\n"
     ]
    }
   ],
   "source": [
    "# final_20 datapoints which will use to train model\n",
    "X = final_20['CleanedText'].values\n",
    "print(\"shape of X:\", X.shape)"
   ]
  },
  {
   "cell_type": "code",
   "execution_count": 31,
   "metadata": {
    "colab": {},
    "colab_type": "code",
    "id": "lPxiY67kJnyL"
   },
   "outputs": [
    {
     "name": "stdout",
     "output_type": "stream",
     "text": [
      "shape of y: (70000,)\n"
     ]
    }
   ],
   "source": [
    "# class label\n",
    "y = final_20['Score'].values\n",
    "print(\"shape of y:\", y.shape)"
   ]
  },
  {
   "cell_type": "markdown",
   "metadata": {
    "colab_type": "text",
    "id": "l5MLUsMZdarv"
   },
   "source": [
    "<h2>Getting the vocabulary of all the words</h2>\n",
    "\n"
   ]
  },
  {
   "cell_type": "code",
   "execution_count": 32,
   "metadata": {
    "colab": {},
    "colab_type": "code",
    "id": "J93q4ubyd9jr"
   },
   "outputs": [
    {
     "name": "stdout",
     "output_type": "stream",
     "text": [
      "No. of words in the Vocabulary :  49863\n"
     ]
    }
   ],
   "source": [
    "##Sorting data according to Time in ascending order for Time Based Splitting\n",
    "time_sorted_data = final.sort_values('Time', axis=0, ascending=True, inplace=False, kind='quicksort', na_position='last')\n",
    "\n",
    "X = time_sorted_data['CleanedText'].values\n",
    "y = time_sorted_data['Score']\n",
    "\n",
    "# Finding all words in the vocabulary\n",
    "tokenizer = Tokenizer()\n",
    "tokenizer.fit_on_texts(X)\n",
    "\n",
    "vocabulary = tokenizer.word_index()\n",
    "print('No. of words in the Vocabulary : ',len(vocabulary))"
   ]
  },
  {
   "cell_type": "code",
   "execution_count": 33,
   "metadata": {
    "colab": {},
    "colab_type": "code",
    "id": "drjtsEssd9gF"
   },
   "outputs": [],
   "source": [
    "# Storing all words in the dictionary (words as keys and index as values)\n",
    "corpus = dict()\n",
    "ind = 0\n",
    "for sent in X:\n",
    "  for word in sent.split():\n",
    "    corpus.setdefault(word,[])\n",
    "    corpus[word].append(ind)\n",
    "    ind += 1"
   ]
  },
  {
   "cell_type": "markdown",
   "metadata": {
    "colab_type": "text",
    "id": "SZMRPfaohxbq"
   },
   "source": [
    "<h2>Getting frequency for each word in the vocabulary</h2>"
   ]
  },
  {
   "cell_type": "code",
   "execution_count": 34,
   "metadata": {
    "colab": {},
    "colab_type": "code",
    "id": "hhkdCyc-h2JI"
   },
   "outputs": [],
   "source": [
    "# Getting frequency for each word of vocabulary and storing it in a list\n",
    "freq = []\n",
    "for w in vocabulary:\n",
    "  freq.append(len(corpus[w]))"
   ]
  },
  {
   "cell_type": "markdown",
   "metadata": {
    "colab_type": "text",
    "id": "VSb6Uu5Kg1ZO"
   },
   "source": [
    "<h2>Getting Index for each word in the vocabulary</h2>"
   ]
  },
  {
   "cell_type": "code",
   "execution_count": 35,
   "metadata": {
    "colab": {},
    "colab_type": "code",
    "id": "JVSMhYgwd9dd"
   },
   "outputs": [],
   "source": [
    "# Getting Index for each word in the vocabulary\n",
    "# Sorting frequencies in decreasing order\n",
    "inc_index =np.argsort(np.array(freq))[::-1]"
   ]
  },
  {
   "cell_type": "code",
   "execution_count": 36,
   "metadata": {
    "colab": {},
    "colab_type": "code",
    "id": "Xf3qhKBxd9Xm"
   },
   "outputs": [],
   "source": [
    "# Allocating ranks to words of vocabulary in decreasing order of frequency and storing words in a dictionary\n",
    "word_rank = dict()\n",
    "rank = 1\n",
    "for i in inc_index:\n",
    "  word_rank[vocabulary[i]] = rank\n",
    "  rank +=1"
   ]
  },
  {
   "cell_type": "markdown",
   "metadata": {
    "colab_type": "text",
    "id": "KjM_R3c4h-ef"
   },
   "source": [
    "<h2>Converting this data as IMDB dataset</h2>"
   ]
  },
  {
   "cell_type": "code",
   "execution_count": 37,
   "metadata": {
    "colab": {},
    "colab_type": "code",
    "id": "XOMxILI0d9RS"
   },
   "outputs": [],
   "source": [
    "# Converting full data into imdb format\n",
    "data = []\n",
    "for sent in X:\n",
    "  row = []\n",
    "  for word in sent.split():\n",
    "    if(len(word)>1):\n",
    "      row.append(word_rank[word])\n",
    "  data.append(row)"
   ]
  },
  {
   "cell_type": "code",
   "execution_count": 40,
   "metadata": {},
   "outputs": [
    {
     "name": "stdout",
     "output_type": "stream",
     "text": [
      "(56000,) (56000,) (14000,) (14000,)\n"
     ]
    }
   ],
   "source": [
    "# https://scikit-learn.org/stable/modules/generated/sklearn.model_selection.train_test_split.html\n",
    "# Splitting the data set into training set and test set:\n",
    "from sklearn.model_selection import train_test_split\n",
    "\n",
    "# Splitting the data into 50-50 train_data and test_data\n",
    "from sklearn.model_selection import train_test_split \n",
    "X_train, X_test, Y_train, Y_test = train_test_split(X, y, test_size=0.2, random_state=42)\n",
    "print(X_train.shape, Y_train.shape, X_test.shape, Y_test.shape)"
   ]
  },
  {
   "cell_type": "markdown",
   "metadata": {},
   "source": [
    "Observation(s):\n",
    "    \n",
    "1. I have split the dataset into training set and testing set.\n",
    "2. Here 80% of the data used to train the model and 20% of the data used to test its performance of the test set.\n",
    "3. Here i have 56000 points to train the model and 14000 points to test its performance on the test set."
   ]
  },
  {
   "cell_type": "code",
   "execution_count": 45,
   "metadata": {
    "colab": {},
    "colab_type": "code",
    "id": "cuxxc97ZipIZ",
    "scrolled": true
   },
   "outputs": [],
   "source": [
    "# Importing libraries\n",
    "from keras.models import Sequential\n",
    "from keras.layers import Dense\n",
    "from keras.layers import LSTM\n",
    "from keras.layers.embeddings import Embedding\n",
    "from keras.preprocessing import sequence\n",
    "from keras.layers import Dropout\n",
    "# fix random seed for reproducibility\n",
    "np.random.seed(7)"
   ]
  },
  {
   "cell_type": "code",
   "execution_count": 49,
   "metadata": {
    "colab": {},
    "colab_type": "code",
    "id": "CxD4o1IuipVU",
    "scrolled": true
   },
   "outputs": [
    {
     "name": "stdout",
     "output_type": "stream",
     "text": [
      "(56000, 100)\n",
      "[    0     0     0     0     0     0     0     0     0     0     0     0\n",
      "     0     0     0     0     0     0     0     0     0     0     0     0\n",
      "     0     0     0     0     0     0     0     0     0     0     0     0\n",
      "     0     0     0     0     0     0     0     0     0     0     0     0\n",
      "     0     0     0     0     0     0     0     0     0     0     0     0\n",
      "     0     0     0     0     0     0     0     0     0     0     0     0\n",
      "     0     0     0     0     0     0     0     0     0     0     0     0\n",
      " 60803  1223 22918 47584 62833 23675 44662 20734 41904 50838 45055 15407\n",
      " 33510 24621   330  2571]\n"
     ]
    }
   ],
   "source": [
    "# truncate and/or pad input sequences\n",
    "max_review_length = 100\n",
    "X_train = sequence.pad_sequences(X_train, maxlen=max_review_length)\n",
    "X_test = sequence.pad_sequences(X_test, maxlen=max_review_length)\n",
    "\n",
    "print(X_train.shape)\n",
    "print(X_train[1])"
   ]
  },
  {
   "cell_type": "code",
   "execution_count": 50,
   "metadata": {
    "colab": {},
    "colab_type": "code",
    "id": "POLNhgkiipeG"
   },
   "outputs": [],
   "source": [
    "# this function is used draw Binary Crossentropy Loss VS No. of epochs plot\n",
    "def plt_dynamic(x, vy, ty):\n",
    "  plt.figure(figsize=(10,5))\n",
    "  plt.plot(x, vy, 'b', label=\"Validation Loss\")\n",
    "  plt.plot(x, ty, 'r', label=\"Train Loss\")\n",
    "  plt.xlabel('Epochs') \n",
    "  plt.ylabel('Binary Crossentropy Loss')\n",
    "  plt.title('\\nError Plot: Binary Crossentropy Loss VS Epochs')\n",
    "  plt.legend()\n",
    "  plt.grid()\n",
    "  plt.show()"
   ]
  },
  {
   "cell_type": "markdown",
   "metadata": {
    "colab_type": "text",
    "id": "RcEpnYg_jJz6"
   },
   "source": [
    "<h2>(1) RNN with 1 LSTM layer</h2>"
   ]
  },
  {
   "cell_type": "code",
   "execution_count": 51,
   "metadata": {
    "colab": {},
    "colab_type": "code",
    "id": "xe6W48VkipYp",
    "scrolled": false
   },
   "outputs": [
    {
     "name": "stdout",
     "output_type": "stream",
     "text": [
      "_________________________________________________________________\n",
      "Layer (type)                 Output Shape              Param #   \n",
      "=================================================================\n",
      "embedding_1 (Embedding)      (None, 100, 32)           2232096   \n",
      "_________________________________________________________________\n",
      "dropout_1 (Dropout)          (None, 100, 32)           0         \n",
      "_________________________________________________________________\n",
      "lstm_1 (LSTM)                (None, 100)               53200     \n",
      "_________________________________________________________________\n",
      "dropout_2 (Dropout)          (None, 100)               0         \n",
      "_________________________________________________________________\n",
      "dense_1 (Dense)              (None, 1)                 101       \n",
      "=================================================================\n",
      "Total params: 2,285,397\n",
      "Trainable params: 2,285,397\n",
      "Non-trainable params: 0\n",
      "_________________________________________________________________\n",
      "None\n",
      "Train on 56000 samples, validate on 14000 samples\n",
      "Epoch 1/10\n",
      "56000/56000 [==============================] - ETA: 9:52 - loss: 0.6932 - acc: 0.476 - ETA: 6:01 - loss: 0.6908 - acc: 0.648 - ETA: 4:53 - loss: 0.6883 - acc: 0.703 - ETA: 4:16 - loss: 0.6855 - acc: 0.737 - ETA: 4:00 - loss: 0.6823 - acc: 0.756 - ETA: 3:45 - loss: 0.6785 - acc: 0.772 - ETA: 3:35 - loss: 0.6741 - acc: 0.783 - ETA: 3:23 - loss: 0.6696 - acc: 0.788 - ETA: 3:17 - loss: 0.6639 - acc: 0.793 - ETA: 3:10 - loss: 0.6575 - acc: 0.795 - ETA: 3:04 - loss: 0.6493 - acc: 0.797 - ETA: 2:58 - loss: 0.6367 - acc: 0.802 - ETA: 2:52 - loss: 0.6209 - acc: 0.806 - ETA: 2:48 - loss: 0.6134 - acc: 0.808 - ETA: 2:44 - loss: 0.6027 - acc: 0.811 - ETA: 2:39 - loss: 0.5954 - acc: 0.811 - ETA: 2:36 - loss: 0.5841 - acc: 0.814 - ETA: 2:33 - loss: 0.5744 - acc: 0.817 - ETA: 2:30 - loss: 0.5670 - acc: 0.819 - ETA: 2:26 - loss: 0.5611 - acc: 0.820 - ETA: 2:23 - loss: 0.5566 - acc: 0.820 - ETA: 2:21 - loss: 0.5506 - acc: 0.822 - ETA: 2:19 - loss: 0.5459 - acc: 0.822 - ETA: 2:16 - loss: 0.5406 - acc: 0.824 - ETA: 2:14 - loss: 0.5353 - acc: 0.825 - ETA: 2:11 - loss: 0.5305 - acc: 0.826 - ETA: 2:09 - loss: 0.5252 - acc: 0.827 - ETA: 2:06 - loss: 0.5206 - acc: 0.828 - ETA: 2:04 - loss: 0.5165 - acc: 0.829 - ETA: 2:02 - loss: 0.5158 - acc: 0.828 - ETA: 2:00 - loss: 0.5137 - acc: 0.828 - ETA: 1:58 - loss: 0.5095 - acc: 0.830 - ETA: 1:56 - loss: 0.5071 - acc: 0.830 - ETA: 1:54 - loss: 0.5052 - acc: 0.830 - ETA: 1:52 - loss: 0.5029 - acc: 0.830 - ETA: 1:50 - loss: 0.5004 - acc: 0.830 - ETA: 1:48 - loss: 0.4983 - acc: 0.830 - ETA: 1:46 - loss: 0.4973 - acc: 0.830 - ETA: 1:44 - loss: 0.4948 - acc: 0.830 - ETA: 1:42 - loss: 0.4925 - acc: 0.831 - ETA: 1:40 - loss: 0.4900 - acc: 0.831 - ETA: 1:39 - loss: 0.4877 - acc: 0.832 - ETA: 1:37 - loss: 0.4848 - acc: 0.833 - ETA: 1:35 - loss: 0.4833 - acc: 0.832 - ETA: 1:34 - loss: 0.4812 - acc: 0.833 - ETA: 1:32 - loss: 0.4796 - acc: 0.833 - ETA: 1:30 - loss: 0.4779 - acc: 0.833 - ETA: 1:29 - loss: 0.4763 - acc: 0.833 - ETA: 1:27 - loss: 0.4738 - acc: 0.833 - ETA: 1:25 - loss: 0.4723 - acc: 0.833 - ETA: 1:24 - loss: 0.4715 - acc: 0.833 - ETA: 1:22 - loss: 0.4699 - acc: 0.833 - ETA: 1:20 - loss: 0.4684 - acc: 0.833 - ETA: 1:19 - loss: 0.4663 - acc: 0.833 - ETA: 1:17 - loss: 0.4649 - acc: 0.833 - ETA: 1:16 - loss: 0.4632 - acc: 0.833 - ETA: 1:14 - loss: 0.4620 - acc: 0.833 - ETA: 1:13 - loss: 0.4607 - acc: 0.833 - ETA: 1:11 - loss: 0.4589 - acc: 0.833 - ETA: 1:10 - loss: 0.4574 - acc: 0.833 - ETA: 1:08 - loss: 0.4556 - acc: 0.833 - ETA: 1:07 - loss: 0.4537 - acc: 0.834 - ETA: 1:05 - loss: 0.4518 - acc: 0.834 - ETA: 1:04 - loss: 0.4494 - acc: 0.834 - ETA: 1:02 - loss: 0.4473 - acc: 0.835 - ETA: 1:01 - loss: 0.4461 - acc: 0.834 - ETA: 59s - loss: 0.4453 - acc: 0.834 - ETA: 58s - loss: 0.4438 - acc: 0.83 - ETA: 56s - loss: 0.4419 - acc: 0.83 - ETA: 55s - loss: 0.4399 - acc: 0.83 - ETA: 53s - loss: 0.4383 - acc: 0.83 - ETA: 52s - loss: 0.4364 - acc: 0.83 - ETA: 51s - loss: 0.4342 - acc: 0.83 - ETA: 49s - loss: 0.4320 - acc: 0.83 - ETA: 48s - loss: 0.4298 - acc: 0.83 - ETA: 46s - loss: 0.4282 - acc: 0.83 - ETA: 45s - loss: 0.4275 - acc: 0.83 - ETA: 43s - loss: 0.4253 - acc: 0.83 - ETA: 42s - loss: 0.4234 - acc: 0.83 - ETA: 40s - loss: 0.4215 - acc: 0.83 - ETA: 39s - loss: 0.4198 - acc: 0.84 - ETA: 38s - loss: 0.4182 - acc: 0.84 - ETA: 36s - loss: 0.4166 - acc: 0.84 - ETA: 35s - loss: 0.4147 - acc: 0.84 - ETA: 33s - loss: 0.4125 - acc: 0.84 - ETA: 32s - loss: 0.4109 - acc: 0.84 - ETA: 31s - loss: 0.4092 - acc: 0.84 - ETA: 29s - loss: 0.4078 - acc: 0.84 - ETA: 28s - loss: 0.4062 - acc: 0.84 - ETA: 26s - loss: 0.4048 - acc: 0.84 - ETA: 25s - loss: 0.4032 - acc: 0.84 - ETA: 24s - loss: 0.4013 - acc: 0.84 - ETA: 22s - loss: 0.3997 - acc: 0.84 - ETA: 21s - loss: 0.3979 - acc: 0.84 - ETA: 19s - loss: 0.3969 - acc: 0.84 - ETA: 18s - loss: 0.3952 - acc: 0.84 - ETA: 17s - loss: 0.3938 - acc: 0.84 - ETA: 15s - loss: 0.3923 - acc: 0.84 - ETA: 14s - loss: 0.3907 - acc: 0.85 - ETA: 12s - loss: 0.3892 - acc: 0.85 - ETA: 11s - loss: 0.3873 - acc: 0.85 - ETA: 10s - loss: 0.3857 - acc: 0.85 - ETA: 8s - loss: 0.3842 - acc: 0.8523 - ETA: 7s - loss: 0.3827 - acc: 0.852 - ETA: 6s - loss: 0.3811 - acc: 0.853 - ETA: 4s - loss: 0.3799 - acc: 0.853 - ETA: 3s - loss: 0.3784 - acc: 0.854 - ETA: 1s - loss: 0.3770 - acc: 0.855 - ETA: 0s - loss: 0.3759 - acc: 0.855 - 162s 3ms/step - loss: 0.3756 - acc: 0.8554 - val_loss: 0.2226 - val_acc: 0.9071\n",
      "Epoch 2/10\n",
      "56000/56000 [==============================] - ETA: 2:54 - loss: 0.1961 - acc: 0.918 - ETA: 2:52 - loss: 0.1844 - acc: 0.931 - ETA: 2:48 - loss: 0.2128 - acc: 0.914 - ETA: 2:45 - loss: 0.2012 - acc: 0.919 - ETA: 2:42 - loss: 0.2107 - acc: 0.918 - ETA: 2:38 - loss: 0.2095 - acc: 0.917 - ETA: 2:35 - loss: 0.2111 - acc: 0.918 - ETA: 2:30 - loss: 0.2055 - acc: 0.921 - ETA: 2:27 - loss: 0.2057 - acc: 0.921 - ETA: 2:23 - loss: 0.1999 - acc: 0.923 - ETA: 2:21 - loss: 0.2000 - acc: 0.924 - ETA: 2:19 - loss: 0.1979 - acc: 0.925 - ETA: 2:17 - loss: 0.1962 - acc: 0.926 - ETA: 2:14 - loss: 0.1996 - acc: 0.924 - ETA: 2:12 - loss: 0.1991 - acc: 0.924 - ETA: 2:10 - loss: 0.1993 - acc: 0.923 - ETA: 2:08 - loss: 0.1983 - acc: 0.924 - ETA: 2:07 - loss: 0.2004 - acc: 0.923 - ETA: 2:05 - loss: 0.1998 - acc: 0.923 - ETA: 2:03 - loss: 0.2002 - acc: 0.924 - ETA: 2:01 - loss: 0.1991 - acc: 0.924 - ETA: 2:00 - loss: 0.2004 - acc: 0.923 - ETA: 1:58 - loss: 0.1992 - acc: 0.923 - ETA: 1:57 - loss: 0.1980 - acc: 0.924 - ETA: 1:55 - loss: 0.1973 - acc: 0.925 - ETA: 1:54 - loss: 0.1974 - acc: 0.925 - ETA: 1:52 - loss: 0.1959 - acc: 0.925 - ETA: 1:50 - loss: 0.1962 - acc: 0.925 - ETA: 1:49 - loss: 0.1960 - acc: 0.925 - ETA: 1:48 - loss: 0.1958 - acc: 0.925 - ETA: 1:46 - loss: 0.1968 - acc: 0.925 - ETA: 1:45 - loss: 0.1958 - acc: 0.925 - ETA: 1:43 - loss: 0.1954 - acc: 0.925 - ETA: 1:42 - loss: 0.1956 - acc: 0.925 - ETA: 1:40 - loss: 0.1962 - acc: 0.924 - ETA: 1:39 - loss: 0.1962 - acc: 0.924 - ETA: 1:37 - loss: 0.1955 - acc: 0.925 - ETA: 1:36 - loss: 0.1951 - acc: 0.925 - ETA: 1:34 - loss: 0.1957 - acc: 0.924 - ETA: 1:33 - loss: 0.1959 - acc: 0.924 - ETA: 1:32 - loss: 0.1952 - acc: 0.925 - ETA: 1:30 - loss: 0.1950 - acc: 0.925 - ETA: 1:29 - loss: 0.1945 - acc: 0.925 - ETA: 1:27 - loss: 0.1950 - acc: 0.925 - ETA: 1:26 - loss: 0.1943 - acc: 0.925 - ETA: 1:25 - loss: 0.1943 - acc: 0.925 - ETA: 1:23 - loss: 0.1940 - acc: 0.924 - ETA: 1:22 - loss: 0.1942 - acc: 0.924 - ETA: 1:20 - loss: 0.1943 - acc: 0.924 - ETA: 1:19 - loss: 0.1946 - acc: 0.924 - ETA: 1:18 - loss: 0.1946 - acc: 0.924 - ETA: 1:16 - loss: 0.1937 - acc: 0.924 - ETA: 1:15 - loss: 0.1930 - acc: 0.925 - ETA: 1:13 - loss: 0.1927 - acc: 0.925 - ETA: 1:12 - loss: 0.1920 - acc: 0.925 - ETA: 1:11 - loss: 0.1920 - acc: 0.925 - ETA: 1:09 - loss: 0.1917 - acc: 0.925 - ETA: 1:08 - loss: 0.1917 - acc: 0.925 - ETA: 1:07 - loss: 0.1909 - acc: 0.925 - ETA: 1:05 - loss: 0.1907 - acc: 0.925 - ETA: 1:04 - loss: 0.1908 - acc: 0.925 - ETA: 1:02 - loss: 0.1912 - acc: 0.925 - ETA: 1:01 - loss: 0.1906 - acc: 0.925 - ETA: 1:00 - loss: 0.1902 - acc: 0.925 - ETA: 59s - loss: 0.1902 - acc: 0.925 - ETA: 57s - loss: 0.1901 - acc: 0.92 - ETA: 56s - loss: 0.1900 - acc: 0.92 - ETA: 55s - loss: 0.1898 - acc: 0.92 - ETA: 54s - loss: 0.1893 - acc: 0.92 - ETA: 52s - loss: 0.1892 - acc: 0.92 - ETA: 51s - loss: 0.1892 - acc: 0.92 - ETA: 50s - loss: 0.1893 - acc: 0.92 - ETA: 48s - loss: 0.1891 - acc: 0.92 - ETA: 47s - loss: 0.1886 - acc: 0.92 - ETA: 46s - loss: 0.1880 - acc: 0.92 - ETA: 44s - loss: 0.1878 - acc: 0.92 - ETA: 43s - loss: 0.1875 - acc: 0.92 - ETA: 42s - loss: 0.1880 - acc: 0.92 - ETA: 40s - loss: 0.1882 - acc: 0.92 - ETA: 39s - loss: 0.1882 - acc: 0.92 - ETA: 37s - loss: 0.1883 - acc: 0.92 - ETA: 36s - loss: 0.1884 - acc: 0.92 - ETA: 35s - loss: 0.1883 - acc: 0.92 - ETA: 33s - loss: 0.1881 - acc: 0.92 - ETA: 32s - loss: 0.1877 - acc: 0.92 - ETA: 31s - loss: 0.1876 - acc: 0.92 - ETA: 29s - loss: 0.1873 - acc: 0.92 - ETA: 28s - loss: 0.1872 - acc: 0.92 - ETA: 27s - loss: 0.1873 - acc: 0.92 - ETA: 25s - loss: 0.1874 - acc: 0.92 - ETA: 24s - loss: 0.1877 - acc: 0.92 - ETA: 23s - loss: 0.1876 - acc: 0.92 - ETA: 21s - loss: 0.1877 - acc: 0.92 - ETA: 20s - loss: 0.1877 - acc: 0.92 - ETA: 19s - loss: 0.1877 - acc: 0.92 - ETA: 17s - loss: 0.1881 - acc: 0.92 - ETA: 16s - loss: 0.1879 - acc: 0.92 - ETA: 15s - loss: 0.1880 - acc: 0.92 - ETA: 13s - loss: 0.1882 - acc: 0.92 - ETA: 12s - loss: 0.1882 - acc: 0.92 - ETA: 11s - loss: 0.1881 - acc: 0.92 - ETA: 9s - loss: 0.1882 - acc: 0.9262 - ETA: 8s - loss: 0.1886 - acc: 0.925 - ETA: 7s - loss: 0.1886 - acc: 0.925 - ETA: 5s - loss: 0.1884 - acc: 0.926 - ETA: 4s - loss: 0.1884 - acc: 0.926 - ETA: 3s - loss: 0.1882 - acc: 0.926 - ETA: 1s - loss: 0.1881 - acc: 0.926 - ETA: 0s - loss: 0.1876 - acc: 0.926 - 156s 3ms/step - loss: 0.1876 - acc: 0.9261 - val_loss: 0.2109 - val_acc: 0.9197\n",
      "Epoch 3/10\n"
     ]
    },
    {
     "name": "stdout",
     "output_type": "stream",
     "text": [
      "56000/56000 [==============================] - ETA: 2:22 - loss: 0.1536 - acc: 0.939 - ETA: 2:16 - loss: 0.1383 - acc: 0.950 - ETA: 2:12 - loss: 0.1340 - acc: 0.953 - ETA: 2:12 - loss: 0.1393 - acc: 0.947 - ETA: 2:12 - loss: 0.1374 - acc: 0.948 - ETA: 2:10 - loss: 0.1356 - acc: 0.950 - ETA: 2:08 - loss: 0.1339 - acc: 0.950 - ETA: 2:07 - loss: 0.1374 - acc: 0.949 - ETA: 2:06 - loss: 0.1387 - acc: 0.948 - ETA: 2:05 - loss: 0.1394 - acc: 0.946 - ETA: 2:04 - loss: 0.1397 - acc: 0.946 - ETA: 2:03 - loss: 0.1403 - acc: 0.946 - ETA: 2:01 - loss: 0.1407 - acc: 0.946 - ETA: 2:00 - loss: 0.1425 - acc: 0.945 - ETA: 2:00 - loss: 0.1409 - acc: 0.945 - ETA: 1:58 - loss: 0.1433 - acc: 0.944 - ETA: 1:57 - loss: 0.1422 - acc: 0.945 - ETA: 1:55 - loss: 0.1427 - acc: 0.945 - ETA: 1:54 - loss: 0.1415 - acc: 0.945 - ETA: 1:52 - loss: 0.1409 - acc: 0.945 - ETA: 1:51 - loss: 0.1418 - acc: 0.945 - ETA: 1:50 - loss: 0.1415 - acc: 0.945 - ETA: 1:49 - loss: 0.1434 - acc: 0.944 - ETA: 1:48 - loss: 0.1429 - acc: 0.944 - ETA: 1:46 - loss: 0.1423 - acc: 0.945 - ETA: 1:45 - loss: 0.1433 - acc: 0.944 - ETA: 1:44 - loss: 0.1430 - acc: 0.945 - ETA: 1:43 - loss: 0.1438 - acc: 0.945 - ETA: 1:42 - loss: 0.1443 - acc: 0.944 - ETA: 1:40 - loss: 0.1451 - acc: 0.945 - ETA: 1:39 - loss: 0.1453 - acc: 0.945 - ETA: 1:38 - loss: 0.1453 - acc: 0.945 - ETA: 1:37 - loss: 0.1462 - acc: 0.944 - ETA: 1:36 - loss: 0.1458 - acc: 0.944 - ETA: 1:34 - loss: 0.1456 - acc: 0.944 - ETA: 1:33 - loss: 0.1465 - acc: 0.944 - ETA: 1:32 - loss: 0.1460 - acc: 0.944 - ETA: 1:31 - loss: 0.1452 - acc: 0.945 - ETA: 1:29 - loss: 0.1444 - acc: 0.945 - ETA: 1:28 - loss: 0.1450 - acc: 0.945 - ETA: 1:27 - loss: 0.1452 - acc: 0.945 - ETA: 1:26 - loss: 0.1461 - acc: 0.944 - ETA: 1:24 - loss: 0.1460 - acc: 0.944 - ETA: 1:23 - loss: 0.1460 - acc: 0.944 - ETA: 1:22 - loss: 0.1465 - acc: 0.944 - ETA: 1:21 - loss: 0.1460 - acc: 0.944 - ETA: 1:19 - loss: 0.1474 - acc: 0.944 - ETA: 1:18 - loss: 0.1466 - acc: 0.944 - ETA: 1:17 - loss: 0.1478 - acc: 0.943 - ETA: 1:16 - loss: 0.1478 - acc: 0.943 - ETA: 1:14 - loss: 0.1485 - acc: 0.943 - ETA: 1:13 - loss: 0.1487 - acc: 0.943 - ETA: 1:12 - loss: 0.1491 - acc: 0.943 - ETA: 1:11 - loss: 0.1490 - acc: 0.943 - ETA: 1:09 - loss: 0.1481 - acc: 0.943 - ETA: 1:08 - loss: 0.1481 - acc: 0.943 - ETA: 1:07 - loss: 0.1478 - acc: 0.943 - ETA: 1:06 - loss: 0.1479 - acc: 0.943 - ETA: 1:04 - loss: 0.1474 - acc: 0.943 - ETA: 1:03 - loss: 0.1467 - acc: 0.944 - ETA: 1:02 - loss: 0.1470 - acc: 0.943 - ETA: 1:00 - loss: 0.1474 - acc: 0.943 - ETA: 59s - loss: 0.1472 - acc: 0.943 - ETA: 58s - loss: 0.1471 - acc: 0.94 - ETA: 57s - loss: 0.1468 - acc: 0.94 - ETA: 55s - loss: 0.1470 - acc: 0.94 - ETA: 54s - loss: 0.1466 - acc: 0.94 - ETA: 53s - loss: 0.1462 - acc: 0.94 - ETA: 51s - loss: 0.1462 - acc: 0.94 - ETA: 50s - loss: 0.1463 - acc: 0.94 - ETA: 49s - loss: 0.1464 - acc: 0.94 - ETA: 48s - loss: 0.1470 - acc: 0.94 - ETA: 46s - loss: 0.1471 - acc: 0.94 - ETA: 45s - loss: 0.1468 - acc: 0.94 - ETA: 44s - loss: 0.1465 - acc: 0.94 - ETA: 42s - loss: 0.1467 - acc: 0.94 - ETA: 41s - loss: 0.1472 - acc: 0.94 - ETA: 40s - loss: 0.1473 - acc: 0.94 - ETA: 39s - loss: 0.1474 - acc: 0.94 - ETA: 37s - loss: 0.1475 - acc: 0.94 - ETA: 36s - loss: 0.1477 - acc: 0.94 - ETA: 35s - loss: 0.1476 - acc: 0.94 - ETA: 34s - loss: 0.1476 - acc: 0.94 - ETA: 32s - loss: 0.1474 - acc: 0.94 - ETA: 31s - loss: 0.1472 - acc: 0.94 - ETA: 30s - loss: 0.1474 - acc: 0.94 - ETA: 28s - loss: 0.1472 - acc: 0.94 - ETA: 27s - loss: 0.1476 - acc: 0.94 - ETA: 26s - loss: 0.1475 - acc: 0.94 - ETA: 24s - loss: 0.1481 - acc: 0.94 - ETA: 23s - loss: 0.1482 - acc: 0.94 - ETA: 22s - loss: 0.1483 - acc: 0.94 - ETA: 21s - loss: 0.1489 - acc: 0.94 - ETA: 19s - loss: 0.1492 - acc: 0.94 - ETA: 18s - loss: 0.1491 - acc: 0.94 - ETA: 17s - loss: 0.1492 - acc: 0.94 - ETA: 15s - loss: 0.1492 - acc: 0.94 - ETA: 14s - loss: 0.1492 - acc: 0.94 - ETA: 13s - loss: 0.1491 - acc: 0.94 - ETA: 12s - loss: 0.1491 - acc: 0.94 - ETA: 10s - loss: 0.1491 - acc: 0.94 - ETA: 9s - loss: 0.1490 - acc: 0.9422 - ETA: 8s - loss: 0.1489 - acc: 0.942 - ETA: 6s - loss: 0.1490 - acc: 0.942 - ETA: 5s - loss: 0.1494 - acc: 0.942 - ETA: 4s - loss: 0.1492 - acc: 0.942 - ETA: 3s - loss: 0.1493 - acc: 0.942 - ETA: 1s - loss: 0.1493 - acc: 0.942 - ETA: 0s - loss: 0.1491 - acc: 0.942 - 151s 3ms/step - loss: 0.1490 - acc: 0.9423 - val_loss: 0.2188 - val_acc: 0.9172\n",
      "Epoch 4/10\n",
      "56000/56000 [==============================] - ETA: 2:20 - loss: 0.1021 - acc: 0.962 - ETA: 2:19 - loss: 0.1137 - acc: 0.962 - ETA: 2:17 - loss: 0.1197 - acc: 0.961 - ETA: 2:15 - loss: 0.1167 - acc: 0.961 - ETA: 2:12 - loss: 0.1204 - acc: 0.958 - ETA: 2:10 - loss: 0.1245 - acc: 0.954 - ETA: 2:09 - loss: 0.1244 - acc: 0.954 - ETA: 2:09 - loss: 0.1212 - acc: 0.956 - ETA: 2:07 - loss: 0.1227 - acc: 0.955 - ETA: 2:05 - loss: 0.1241 - acc: 0.954 - ETA: 2:04 - loss: 0.1264 - acc: 0.953 - ETA: 2:03 - loss: 0.1265 - acc: 0.953 - ETA: 2:02 - loss: 0.1241 - acc: 0.954 - ETA: 2:01 - loss: 0.1231 - acc: 0.954 - ETA: 1:59 - loss: 0.1219 - acc: 0.954 - ETA: 1:57 - loss: 0.1205 - acc: 0.955 - ETA: 1:56 - loss: 0.1197 - acc: 0.955 - ETA: 1:55 - loss: 0.1200 - acc: 0.955 - ETA: 1:53 - loss: 0.1198 - acc: 0.955 - ETA: 1:52 - loss: 0.1197 - acc: 0.956 - ETA: 1:51 - loss: 0.1183 - acc: 0.957 - ETA: 1:50 - loss: 0.1211 - acc: 0.956 - ETA: 1:48 - loss: 0.1210 - acc: 0.956 - ETA: 1:47 - loss: 0.1204 - acc: 0.956 - ETA: 1:46 - loss: 0.1220 - acc: 0.955 - ETA: 1:44 - loss: 0.1216 - acc: 0.956 - ETA: 1:43 - loss: 0.1215 - acc: 0.956 - ETA: 1:42 - loss: 0.1213 - acc: 0.956 - ETA: 1:40 - loss: 0.1218 - acc: 0.955 - ETA: 1:39 - loss: 0.1221 - acc: 0.955 - ETA: 1:38 - loss: 0.1215 - acc: 0.956 - ETA: 1:37 - loss: 0.1214 - acc: 0.956 - ETA: 1:35 - loss: 0.1208 - acc: 0.956 - ETA: 1:34 - loss: 0.1212 - acc: 0.955 - ETA: 1:33 - loss: 0.1215 - acc: 0.955 - ETA: 1:32 - loss: 0.1231 - acc: 0.954 - ETA: 1:31 - loss: 0.1237 - acc: 0.954 - ETA: 1:30 - loss: 0.1238 - acc: 0.954 - ETA: 1:29 - loss: 0.1240 - acc: 0.954 - ETA: 1:28 - loss: 0.1239 - acc: 0.954 - ETA: 1:26 - loss: 0.1238 - acc: 0.954 - ETA: 1:25 - loss: 0.1236 - acc: 0.954 - ETA: 1:24 - loss: 0.1246 - acc: 0.954 - ETA: 1:23 - loss: 0.1241 - acc: 0.954 - ETA: 1:21 - loss: 0.1233 - acc: 0.954 - ETA: 1:20 - loss: 0.1235 - acc: 0.954 - ETA: 1:19 - loss: 0.1239 - acc: 0.954 - ETA: 1:17 - loss: 0.1232 - acc: 0.954 - ETA: 1:16 - loss: 0.1232 - acc: 0.954 - ETA: 1:15 - loss: 0.1231 - acc: 0.954 - ETA: 1:14 - loss: 0.1229 - acc: 0.954 - ETA: 1:12 - loss: 0.1227 - acc: 0.954 - ETA: 1:11 - loss: 0.1226 - acc: 0.954 - ETA: 1:10 - loss: 0.1231 - acc: 0.954 - ETA: 1:08 - loss: 0.1230 - acc: 0.954 - ETA: 1:07 - loss: 0.1235 - acc: 0.954 - ETA: 1:06 - loss: 0.1235 - acc: 0.954 - ETA: 1:04 - loss: 0.1234 - acc: 0.954 - ETA: 1:03 - loss: 0.1232 - acc: 0.954 - ETA: 1:02 - loss: 0.1233 - acc: 0.954 - ETA: 1:01 - loss: 0.1239 - acc: 0.954 - ETA: 59s - loss: 0.1234 - acc: 0.954 - ETA: 58s - loss: 0.1242 - acc: 0.95 - ETA: 57s - loss: 0.1246 - acc: 0.95 - ETA: 56s - loss: 0.1247 - acc: 0.95 - ETA: 54s - loss: 0.1247 - acc: 0.95 - ETA: 53s - loss: 0.1251 - acc: 0.95 - ETA: 52s - loss: 0.1247 - acc: 0.95 - ETA: 51s - loss: 0.1249 - acc: 0.95 - ETA: 49s - loss: 0.1256 - acc: 0.95 - ETA: 48s - loss: 0.1257 - acc: 0.95 - ETA: 47s - loss: 0.1251 - acc: 0.95 - ETA: 45s - loss: 0.1253 - acc: 0.95 - ETA: 44s - loss: 0.1252 - acc: 0.95 - ETA: 43s - loss: 0.1254 - acc: 0.95 - ETA: 42s - loss: 0.1249 - acc: 0.95 - ETA: 40s - loss: 0.1252 - acc: 0.95 - ETA: 39s - loss: 0.1254 - acc: 0.95 - ETA: 38s - loss: 0.1258 - acc: 0.95 - ETA: 37s - loss: 0.1260 - acc: 0.95 - ETA: 35s - loss: 0.1259 - acc: 0.95 - ETA: 34s - loss: 0.1258 - acc: 0.95 - ETA: 33s - loss: 0.1260 - acc: 0.95 - ETA: 31s - loss: 0.1261 - acc: 0.95 - ETA: 30s - loss: 0.1264 - acc: 0.95 - ETA: 29s - loss: 0.1259 - acc: 0.95 - ETA: 28s - loss: 0.1258 - acc: 0.95 - ETA: 26s - loss: 0.1265 - acc: 0.95 - ETA: 25s - loss: 0.1265 - acc: 0.95 - ETA: 24s - loss: 0.1263 - acc: 0.95 - ETA: 23s - loss: 0.1265 - acc: 0.95 - ETA: 21s - loss: 0.1264 - acc: 0.95 - ETA: 20s - loss: 0.1264 - acc: 0.95 - ETA: 19s - loss: 0.1266 - acc: 0.95 - ETA: 18s - loss: 0.1266 - acc: 0.95 - ETA: 16s - loss: 0.1270 - acc: 0.95 - ETA: 15s - loss: 0.1270 - acc: 0.95 - ETA: 14s - loss: 0.1268 - acc: 0.95 - ETA: 13s - loss: 0.1266 - acc: 0.95 - ETA: 11s - loss: 0.1266 - acc: 0.95 - ETA: 10s - loss: 0.1266 - acc: 0.95 - ETA: 9s - loss: 0.1268 - acc: 0.9525 - ETA: 8s - loss: 0.1271 - acc: 0.952 - ETA: 6s - loss: 0.1270 - acc: 0.952 - ETA: 5s - loss: 0.1275 - acc: 0.952 - ETA: 4s - loss: 0.1275 - acc: 0.952 - ETA: 2s - loss: 0.1277 - acc: 0.952 - ETA: 1s - loss: 0.1281 - acc: 0.951 - ETA: 0s - loss: 0.1280 - acc: 0.952 - 148s 3ms/step - loss: 0.1279 - acc: 0.9520 - val_loss: 0.2365 - val_acc: 0.9152\n",
      "Epoch 5/10\n"
     ]
    },
    {
     "name": "stdout",
     "output_type": "stream",
     "text": [
      "56000/56000 [==============================] - ETA: 2:18 - loss: 0.1124 - acc: 0.960 - ETA: 2:14 - loss: 0.1178 - acc: 0.958 - ETA: 2:10 - loss: 0.1047 - acc: 0.962 - ETA: 2:09 - loss: 0.1023 - acc: 0.963 - ETA: 2:09 - loss: 0.0981 - acc: 0.965 - ETA: 2:09 - loss: 0.0979 - acc: 0.965 - ETA: 2:07 - loss: 0.1027 - acc: 0.963 - ETA: 2:05 - loss: 0.1021 - acc: 0.962 - ETA: 2:04 - loss: 0.1053 - acc: 0.961 - ETA: 2:03 - loss: 0.1071 - acc: 0.960 - ETA: 2:02 - loss: 0.1074 - acc: 0.960 - ETA: 2:01 - loss: 0.1068 - acc: 0.961 - ETA: 2:00 - loss: 0.1071 - acc: 0.961 - ETA: 1:58 - loss: 0.1071 - acc: 0.961 - ETA: 1:57 - loss: 0.1072 - acc: 0.961 - ETA: 1:56 - loss: 0.1091 - acc: 0.960 - ETA: 1:55 - loss: 0.1086 - acc: 0.960 - ETA: 1:54 - loss: 0.1068 - acc: 0.960 - ETA: 1:52 - loss: 0.1053 - acc: 0.961 - ETA: 1:51 - loss: 0.1044 - acc: 0.961 - ETA: 1:51 - loss: 0.1043 - acc: 0.961 - ETA: 1:49 - loss: 0.1048 - acc: 0.961 - ETA: 1:48 - loss: 0.1047 - acc: 0.961 - ETA: 1:47 - loss: 0.1031 - acc: 0.962 - ETA: 1:46 - loss: 0.1029 - acc: 0.962 - ETA: 1:45 - loss: 0.1046 - acc: 0.961 - ETA: 1:43 - loss: 0.1044 - acc: 0.961 - ETA: 1:42 - loss: 0.1046 - acc: 0.961 - ETA: 1:41 - loss: 0.1057 - acc: 0.961 - ETA: 1:40 - loss: 0.1047 - acc: 0.961 - ETA: 1:39 - loss: 0.1051 - acc: 0.961 - ETA: 1:37 - loss: 0.1051 - acc: 0.962 - ETA: 1:36 - loss: 0.1046 - acc: 0.962 - ETA: 1:35 - loss: 0.1045 - acc: 0.962 - ETA: 1:34 - loss: 0.1048 - acc: 0.961 - ETA: 1:32 - loss: 0.1049 - acc: 0.961 - ETA: 1:31 - loss: 0.1046 - acc: 0.961 - ETA: 1:30 - loss: 0.1052 - acc: 0.961 - ETA: 1:29 - loss: 0.1055 - acc: 0.961 - ETA: 1:27 - loss: 0.1052 - acc: 0.961 - ETA: 1:26 - loss: 0.1055 - acc: 0.961 - ETA: 1:25 - loss: 0.1062 - acc: 0.961 - ETA: 1:24 - loss: 0.1053 - acc: 0.961 - ETA: 1:22 - loss: 0.1064 - acc: 0.961 - ETA: 1:21 - loss: 0.1068 - acc: 0.961 - ETA: 1:20 - loss: 0.1064 - acc: 0.961 - ETA: 1:19 - loss: 0.1069 - acc: 0.961 - ETA: 1:17 - loss: 0.1072 - acc: 0.960 - ETA: 1:16 - loss: 0.1082 - acc: 0.960 - ETA: 1:15 - loss: 0.1079 - acc: 0.960 - ETA: 1:13 - loss: 0.1077 - acc: 0.960 - ETA: 1:12 - loss: 0.1076 - acc: 0.960 - ETA: 1:11 - loss: 0.1075 - acc: 0.960 - ETA: 1:10 - loss: 0.1076 - acc: 0.960 - ETA: 1:08 - loss: 0.1081 - acc: 0.960 - ETA: 1:07 - loss: 0.1078 - acc: 0.960 - ETA: 1:06 - loss: 0.1079 - acc: 0.960 - ETA: 1:05 - loss: 0.1077 - acc: 0.960 - ETA: 1:03 - loss: 0.1085 - acc: 0.960 - ETA: 1:02 - loss: 0.1083 - acc: 0.960 - ETA: 1:01 - loss: 0.1082 - acc: 0.960 - ETA: 1:00 - loss: 0.1085 - acc: 0.960 - ETA: 58s - loss: 0.1085 - acc: 0.960 - ETA: 57s - loss: 0.1085 - acc: 0.96 - ETA: 56s - loss: 0.1085 - acc: 0.96 - ETA: 55s - loss: 0.1095 - acc: 0.95 - ETA: 53s - loss: 0.1092 - acc: 0.96 - ETA: 52s - loss: 0.1088 - acc: 0.96 - ETA: 51s - loss: 0.1084 - acc: 0.96 - ETA: 50s - loss: 0.1083 - acc: 0.96 - ETA: 48s - loss: 0.1082 - acc: 0.96 - ETA: 47s - loss: 0.1082 - acc: 0.96 - ETA: 46s - loss: 0.1083 - acc: 0.96 - ETA: 45s - loss: 0.1080 - acc: 0.96 - ETA: 43s - loss: 0.1080 - acc: 0.96 - ETA: 42s - loss: 0.1080 - acc: 0.96 - ETA: 41s - loss: 0.1084 - acc: 0.96 - ETA: 40s - loss: 0.1085 - acc: 0.96 - ETA: 38s - loss: 0.1082 - acc: 0.96 - ETA: 37s - loss: 0.1081 - acc: 0.96 - ETA: 36s - loss: 0.1080 - acc: 0.96 - ETA: 34s - loss: 0.1083 - acc: 0.95 - ETA: 33s - loss: 0.1082 - acc: 0.95 - ETA: 32s - loss: 0.1083 - acc: 0.95 - ETA: 31s - loss: 0.1083 - acc: 0.95 - ETA: 29s - loss: 0.1085 - acc: 0.95 - ETA: 28s - loss: 0.1087 - acc: 0.95 - ETA: 27s - loss: 0.1085 - acc: 0.95 - ETA: 26s - loss: 0.1083 - acc: 0.95 - ETA: 24s - loss: 0.1090 - acc: 0.95 - ETA: 23s - loss: 0.1090 - acc: 0.95 - ETA: 22s - loss: 0.1092 - acc: 0.95 - ETA: 20s - loss: 0.1091 - acc: 0.95 - ETA: 19s - loss: 0.1089 - acc: 0.95 - ETA: 18s - loss: 0.1087 - acc: 0.95 - ETA: 17s - loss: 0.1091 - acc: 0.95 - ETA: 15s - loss: 0.1090 - acc: 0.95 - ETA: 14s - loss: 0.1094 - acc: 0.95 - ETA: 13s - loss: 0.1096 - acc: 0.95 - ETA: 11s - loss: 0.1100 - acc: 0.95 - ETA: 10s - loss: 0.1104 - acc: 0.95 - ETA: 9s - loss: 0.1106 - acc: 0.9591 - ETA: 8s - loss: 0.1106 - acc: 0.959 - ETA: 6s - loss: 0.1105 - acc: 0.959 - ETA: 5s - loss: 0.1108 - acc: 0.958 - ETA: 4s - loss: 0.1107 - acc: 0.958 - ETA: 3s - loss: 0.1106 - acc: 0.958 - ETA: 1s - loss: 0.1106 - acc: 0.958 - ETA: 0s - loss: 0.1104 - acc: 0.958 - 150s 3ms/step - loss: 0.1107 - acc: 0.9588 - val_loss: 0.2481 - val_acc: 0.9134\n",
      "Epoch 6/10\n",
      "56000/56000 [==============================] - ETA: 2:17 - loss: 0.0826 - acc: 0.964 - ETA: 2:14 - loss: 0.0872 - acc: 0.970 - ETA: 2:14 - loss: 0.0875 - acc: 0.972 - ETA: 2:13 - loss: 0.0826 - acc: 0.973 - ETA: 2:11 - loss: 0.0812 - acc: 0.974 - ETA: 2:09 - loss: 0.0889 - acc: 0.971 - ETA: 2:07 - loss: 0.0841 - acc: 0.971 - ETA: 2:06 - loss: 0.0839 - acc: 0.971 - ETA: 2:06 - loss: 0.0868 - acc: 0.971 - ETA: 2:04 - loss: 0.0873 - acc: 0.971 - ETA: 2:02 - loss: 0.0851 - acc: 0.972 - ETA: 2:01 - loss: 0.0849 - acc: 0.972 - ETA: 2:00 - loss: 0.0845 - acc: 0.972 - ETA: 1:59 - loss: 0.0855 - acc: 0.972 - ETA: 1:58 - loss: 0.0841 - acc: 0.972 - ETA: 1:56 - loss: 0.0840 - acc: 0.972 - ETA: 1:55 - loss: 0.0846 - acc: 0.972 - ETA: 1:54 - loss: 0.0842 - acc: 0.972 - ETA: 1:53 - loss: 0.0849 - acc: 0.971 - ETA: 1:51 - loss: 0.0860 - acc: 0.971 - ETA: 1:50 - loss: 0.0863 - acc: 0.971 - ETA: 1:49 - loss: 0.0863 - acc: 0.971 - ETA: 1:48 - loss: 0.0863 - acc: 0.971 - ETA: 1:47 - loss: 0.0865 - acc: 0.971 - ETA: 1:46 - loss: 0.0873 - acc: 0.971 - ETA: 1:45 - loss: 0.0875 - acc: 0.970 - ETA: 1:44 - loss: 0.0869 - acc: 0.971 - ETA: 1:43 - loss: 0.0864 - acc: 0.971 - ETA: 1:41 - loss: 0.0867 - acc: 0.970 - ETA: 1:40 - loss: 0.0858 - acc: 0.971 - ETA: 1:39 - loss: 0.0859 - acc: 0.971 - ETA: 1:38 - loss: 0.0870 - acc: 0.970 - ETA: 1:37 - loss: 0.0873 - acc: 0.970 - ETA: 1:36 - loss: 0.0886 - acc: 0.969 - ETA: 1:35 - loss: 0.0892 - acc: 0.969 - ETA: 1:33 - loss: 0.0890 - acc: 0.969 - ETA: 1:32 - loss: 0.0886 - acc: 0.969 - ETA: 1:31 - loss: 0.0883 - acc: 0.969 - ETA: 1:30 - loss: 0.0889 - acc: 0.969 - ETA: 1:28 - loss: 0.0891 - acc: 0.969 - ETA: 1:27 - loss: 0.0888 - acc: 0.969 - ETA: 1:26 - loss: 0.0895 - acc: 0.969 - ETA: 1:25 - loss: 0.0893 - acc: 0.969 - ETA: 1:23 - loss: 0.0892 - acc: 0.969 - ETA: 1:22 - loss: 0.0894 - acc: 0.969 - ETA: 1:21 - loss: 0.0901 - acc: 0.968 - ETA: 1:19 - loss: 0.0898 - acc: 0.968 - ETA: 1:18 - loss: 0.0910 - acc: 0.968 - ETA: 1:17 - loss: 0.0907 - acc: 0.968 - ETA: 1:16 - loss: 0.0904 - acc: 0.968 - ETA: 1:14 - loss: 0.0905 - acc: 0.968 - ETA: 1:13 - loss: 0.0903 - acc: 0.968 - ETA: 1:12 - loss: 0.0904 - acc: 0.968 - ETA: 1:10 - loss: 0.0910 - acc: 0.968 - ETA: 1:09 - loss: 0.0912 - acc: 0.968 - ETA: 1:08 - loss: 0.0917 - acc: 0.968 - ETA: 1:07 - loss: 0.0916 - acc: 0.968 - ETA: 1:05 - loss: 0.0916 - acc: 0.967 - ETA: 1:04 - loss: 0.0924 - acc: 0.967 - ETA: 1:03 - loss: 0.0924 - acc: 0.967 - ETA: 1:01 - loss: 0.0930 - acc: 0.967 - ETA: 1:00 - loss: 0.0931 - acc: 0.967 - ETA: 59s - loss: 0.0935 - acc: 0.967 - ETA: 57s - loss: 0.0938 - acc: 0.96 - ETA: 56s - loss: 0.0937 - acc: 0.96 - ETA: 55s - loss: 0.0937 - acc: 0.96 - ETA: 54s - loss: 0.0938 - acc: 0.96 - ETA: 52s - loss: 0.0940 - acc: 0.96 - ETA: 51s - loss: 0.0941 - acc: 0.96 - ETA: 50s - loss: 0.0944 - acc: 0.96 - ETA: 48s - loss: 0.0947 - acc: 0.96 - ETA: 47s - loss: 0.0948 - acc: 0.96 - ETA: 46s - loss: 0.0950 - acc: 0.96 - ETA: 45s - loss: 0.0953 - acc: 0.96 - ETA: 43s - loss: 0.0957 - acc: 0.96 - ETA: 42s - loss: 0.0960 - acc: 0.96 - ETA: 41s - loss: 0.0960 - acc: 0.96 - ETA: 40s - loss: 0.0958 - acc: 0.96 - ETA: 38s - loss: 0.0960 - acc: 0.96 - ETA: 37s - loss: 0.0963 - acc: 0.96 - ETA: 36s - loss: 0.0961 - acc: 0.96 - ETA: 34s - loss: 0.0960 - acc: 0.96 - ETA: 33s - loss: 0.0956 - acc: 0.96 - ETA: 32s - loss: 0.0959 - acc: 0.96 - ETA: 31s - loss: 0.0962 - acc: 0.96 - ETA: 29s - loss: 0.0964 - acc: 0.96 - ETA: 28s - loss: 0.0964 - acc: 0.96 - ETA: 27s - loss: 0.0960 - acc: 0.96 - ETA: 25s - loss: 0.0963 - acc: 0.96 - ETA: 24s - loss: 0.0963 - acc: 0.96 - ETA: 23s - loss: 0.0963 - acc: 0.96 - ETA: 22s - loss: 0.0964 - acc: 0.96 - ETA: 20s - loss: 0.0965 - acc: 0.96 - ETA: 19s - loss: 0.0969 - acc: 0.96 - ETA: 18s - loss: 0.0971 - acc: 0.96 - ETA: 17s - loss: 0.0973 - acc: 0.96 - ETA: 15s - loss: 0.0972 - acc: 0.96 - ETA: 14s - loss: 0.0975 - acc: 0.96 - ETA: 13s - loss: 0.0978 - acc: 0.96 - ETA: 11s - loss: 0.0982 - acc: 0.96 - ETA: 10s - loss: 0.0983 - acc: 0.96 - ETA: 9s - loss: 0.0985 - acc: 0.9646 - ETA: 8s - loss: 0.0987 - acc: 0.964 - ETA: 6s - loss: 0.0988 - acc: 0.964 - ETA: 5s - loss: 0.0990 - acc: 0.964 - ETA: 4s - loss: 0.0992 - acc: 0.964 - ETA: 3s - loss: 0.0993 - acc: 0.964 - ETA: 1s - loss: 0.0993 - acc: 0.964 - ETA: 0s - loss: 0.0993 - acc: 0.964 - 149s 3ms/step - loss: 0.0992 - acc: 0.9641 - val_loss: 0.2948 - val_acc: 0.9109\n",
      "Epoch 7/10\n"
     ]
    },
    {
     "name": "stdout",
     "output_type": "stream",
     "text": [
      "56000/56000 [==============================] - ETA: 2:25 - loss: 0.0881 - acc: 0.970 - ETA: 2:22 - loss: 0.0950 - acc: 0.963 - ETA: 2:17 - loss: 0.0995 - acc: 0.966 - ETA: 2:13 - loss: 0.0949 - acc: 0.968 - ETA: 2:11 - loss: 0.0927 - acc: 0.968 - ETA: 2:10 - loss: 0.0891 - acc: 0.969 - ETA: 2:10 - loss: 0.0895 - acc: 0.969 - ETA: 2:08 - loss: 0.0872 - acc: 0.970 - ETA: 2:06 - loss: 0.0910 - acc: 0.969 - ETA: 2:04 - loss: 0.0897 - acc: 0.970 - ETA: 2:03 - loss: 0.0906 - acc: 0.970 - ETA: 2:02 - loss: 0.0895 - acc: 0.970 - ETA: 2:01 - loss: 0.0887 - acc: 0.970 - ETA: 1:59 - loss: 0.0873 - acc: 0.971 - ETA: 1:58 - loss: 0.0865 - acc: 0.971 - ETA: 1:57 - loss: 0.0884 - acc: 0.970 - ETA: 1:56 - loss: 0.0901 - acc: 0.969 - ETA: 1:54 - loss: 0.0891 - acc: 0.970 - ETA: 1:53 - loss: 0.0889 - acc: 0.970 - ETA: 1:51 - loss: 0.0897 - acc: 0.969 - ETA: 1:50 - loss: 0.0889 - acc: 0.970 - ETA: 1:49 - loss: 0.0893 - acc: 0.970 - ETA: 1:47 - loss: 0.0888 - acc: 0.970 - ETA: 1:46 - loss: 0.0884 - acc: 0.970 - ETA: 1:45 - loss: 0.0897 - acc: 0.970 - ETA: 1:44 - loss: 0.0887 - acc: 0.970 - ETA: 1:42 - loss: 0.0881 - acc: 0.971 - ETA: 1:41 - loss: 0.0878 - acc: 0.971 - ETA: 1:40 - loss: 0.0867 - acc: 0.971 - ETA: 1:39 - loss: 0.0872 - acc: 0.971 - ETA: 1:37 - loss: 0.0865 - acc: 0.971 - ETA: 1:36 - loss: 0.0857 - acc: 0.971 - ETA: 1:35 - loss: 0.0856 - acc: 0.971 - ETA: 1:33 - loss: 0.0853 - acc: 0.971 - ETA: 1:32 - loss: 0.0861 - acc: 0.971 - ETA: 1:31 - loss: 0.0873 - acc: 0.970 - ETA: 1:30 - loss: 0.0873 - acc: 0.970 - ETA: 1:29 - loss: 0.0876 - acc: 0.970 - ETA: 1:27 - loss: 0.0874 - acc: 0.970 - ETA: 1:26 - loss: 0.0876 - acc: 0.970 - ETA: 1:25 - loss: 0.0870 - acc: 0.970 - ETA: 1:24 - loss: 0.0867 - acc: 0.970 - ETA: 1:23 - loss: 0.0868 - acc: 0.970 - ETA: 1:21 - loss: 0.0868 - acc: 0.971 - ETA: 1:20 - loss: 0.0870 - acc: 0.970 - ETA: 1:19 - loss: 0.0872 - acc: 0.970 - ETA: 1:18 - loss: 0.0873 - acc: 0.970 - ETA: 1:16 - loss: 0.0877 - acc: 0.970 - ETA: 1:15 - loss: 0.0882 - acc: 0.970 - ETA: 1:14 - loss: 0.0883 - acc: 0.970 - ETA: 1:13 - loss: 0.0886 - acc: 0.970 - ETA: 1:11 - loss: 0.0888 - acc: 0.970 - ETA: 1:10 - loss: 0.0889 - acc: 0.969 - ETA: 1:09 - loss: 0.0894 - acc: 0.969 - ETA: 1:08 - loss: 0.0894 - acc: 0.969 - ETA: 1:06 - loss: 0.0888 - acc: 0.969 - ETA: 1:05 - loss: 0.0891 - acc: 0.969 - ETA: 1:04 - loss: 0.0889 - acc: 0.969 - ETA: 1:03 - loss: 0.0890 - acc: 0.969 - ETA: 1:01 - loss: 0.0890 - acc: 0.969 - ETA: 1:00 - loss: 0.0887 - acc: 0.969 - ETA: 59s - loss: 0.0887 - acc: 0.969 - ETA: 58s - loss: 0.0884 - acc: 0.96 - ETA: 56s - loss: 0.0886 - acc: 0.96 - ETA: 55s - loss: 0.0883 - acc: 0.96 - ETA: 54s - loss: 0.0882 - acc: 0.96 - ETA: 53s - loss: 0.0881 - acc: 0.96 - ETA: 51s - loss: 0.0882 - acc: 0.96 - ETA: 50s - loss: 0.0884 - acc: 0.96 - ETA: 49s - loss: 0.0888 - acc: 0.96 - ETA: 48s - loss: 0.0885 - acc: 0.96 - ETA: 46s - loss: 0.0885 - acc: 0.96 - ETA: 45s - loss: 0.0884 - acc: 0.96 - ETA: 44s - loss: 0.0884 - acc: 0.96 - ETA: 43s - loss: 0.0888 - acc: 0.96 - ETA: 41s - loss: 0.0889 - acc: 0.96 - ETA: 40s - loss: 0.0889 - acc: 0.96 - ETA: 39s - loss: 0.0889 - acc: 0.96 - ETA: 38s - loss: 0.0887 - acc: 0.96 - ETA: 36s - loss: 0.0891 - acc: 0.96 - ETA: 35s - loss: 0.0889 - acc: 0.96 - ETA: 34s - loss: 0.0890 - acc: 0.96 - ETA: 33s - loss: 0.0892 - acc: 0.96 - ETA: 31s - loss: 0.0893 - acc: 0.96 - ETA: 30s - loss: 0.0895 - acc: 0.96 - ETA: 29s - loss: 0.0895 - acc: 0.96 - ETA: 28s - loss: 0.0897 - acc: 0.96 - ETA: 26s - loss: 0.0897 - acc: 0.96 - ETA: 25s - loss: 0.0897 - acc: 0.96 - ETA: 24s - loss: 0.0896 - acc: 0.96 - ETA: 23s - loss: 0.0896 - acc: 0.96 - ETA: 21s - loss: 0.0898 - acc: 0.96 - ETA: 20s - loss: 0.0897 - acc: 0.96 - ETA: 19s - loss: 0.0902 - acc: 0.96 - ETA: 18s - loss: 0.0902 - acc: 0.96 - ETA: 16s - loss: 0.0905 - acc: 0.96 - ETA: 15s - loss: 0.0906 - acc: 0.96 - ETA: 14s - loss: 0.0906 - acc: 0.96 - ETA: 13s - loss: 0.0911 - acc: 0.96 - ETA: 11s - loss: 0.0912 - acc: 0.96 - ETA: 10s - loss: 0.0908 - acc: 0.96 - ETA: 9s - loss: 0.0904 - acc: 0.9680 - ETA: 7s - loss: 0.0904 - acc: 0.968 - ETA: 6s - loss: 0.0906 - acc: 0.967 - ETA: 5s - loss: 0.0905 - acc: 0.967 - ETA: 4s - loss: 0.0904 - acc: 0.967 - ETA: 2s - loss: 0.0906 - acc: 0.967 - ETA: 1s - loss: 0.0903 - acc: 0.968 - ETA: 0s - loss: 0.0905 - acc: 0.967 - 147s 3ms/step - loss: 0.0906 - acc: 0.9679 - val_loss: 0.2935 - val_acc: 0.9061\n",
      "Epoch 8/10\n",
      "56000/56000 [==============================] - ETA: 2:22 - loss: 0.0760 - acc: 0.968 - ETA: 2:15 - loss: 0.0765 - acc: 0.970 - ETA: 2:13 - loss: 0.0737 - acc: 0.974 - ETA: 2:13 - loss: 0.0775 - acc: 0.975 - ETA: 2:12 - loss: 0.0744 - acc: 0.976 - ETA: 2:10 - loss: 0.0731 - acc: 0.976 - ETA: 2:08 - loss: 0.0694 - acc: 0.977 - ETA: 2:06 - loss: 0.0702 - acc: 0.977 - ETA: 2:05 - loss: 0.0710 - acc: 0.976 - ETA: 2:05 - loss: 0.0694 - acc: 0.977 - ETA: 2:03 - loss: 0.0718 - acc: 0.976 - ETA: 2:02 - loss: 0.0706 - acc: 0.977 - ETA: 2:00 - loss: 0.0714 - acc: 0.978 - ETA: 1:59 - loss: 0.0728 - acc: 0.977 - ETA: 1:58 - loss: 0.0725 - acc: 0.977 - ETA: 1:57 - loss: 0.0754 - acc: 0.977 - ETA: 1:55 - loss: 0.0742 - acc: 0.977 - ETA: 1:54 - loss: 0.0740 - acc: 0.977 - ETA: 1:53 - loss: 0.0742 - acc: 0.976 - ETA: 1:52 - loss: 0.0742 - acc: 0.976 - ETA: 1:51 - loss: 0.0755 - acc: 0.975 - ETA: 1:49 - loss: 0.0753 - acc: 0.975 - ETA: 1:48 - loss: 0.0754 - acc: 0.975 - ETA: 1:47 - loss: 0.0759 - acc: 0.975 - ETA: 1:46 - loss: 0.0761 - acc: 0.975 - ETA: 1:45 - loss: 0.0763 - acc: 0.975 - ETA: 1:44 - loss: 0.0753 - acc: 0.975 - ETA: 1:43 - loss: 0.0764 - acc: 0.974 - ETA: 1:41 - loss: 0.0766 - acc: 0.974 - ETA: 1:40 - loss: 0.0774 - acc: 0.974 - ETA: 1:39 - loss: 0.0767 - acc: 0.974 - ETA: 1:38 - loss: 0.0765 - acc: 0.974 - ETA: 1:37 - loss: 0.0763 - acc: 0.974 - ETA: 1:36 - loss: 0.0753 - acc: 0.975 - ETA: 1:34 - loss: 0.0750 - acc: 0.975 - ETA: 1:33 - loss: 0.0749 - acc: 0.975 - ETA: 1:31 - loss: 0.0751 - acc: 0.975 - ETA: 1:30 - loss: 0.0760 - acc: 0.974 - ETA: 1:29 - loss: 0.0757 - acc: 0.975 - ETA: 1:28 - loss: 0.0754 - acc: 0.975 - ETA: 1:26 - loss: 0.0761 - acc: 0.974 - ETA: 1:25 - loss: 0.0759 - acc: 0.975 - ETA: 1:24 - loss: 0.0760 - acc: 0.974 - ETA: 1:22 - loss: 0.0756 - acc: 0.975 - ETA: 1:21 - loss: 0.0750 - acc: 0.975 - ETA: 1:20 - loss: 0.0750 - acc: 0.975 - ETA: 1:18 - loss: 0.0751 - acc: 0.975 - ETA: 1:17 - loss: 0.0752 - acc: 0.975 - ETA: 1:16 - loss: 0.0749 - acc: 0.975 - ETA: 1:15 - loss: 0.0757 - acc: 0.974 - ETA: 1:14 - loss: 0.0760 - acc: 0.974 - ETA: 1:12 - loss: 0.0757 - acc: 0.974 - ETA: 1:11 - loss: 0.0754 - acc: 0.974 - ETA: 1:10 - loss: 0.0760 - acc: 0.974 - ETA: 1:09 - loss: 0.0761 - acc: 0.974 - ETA: 1:07 - loss: 0.0769 - acc: 0.974 - ETA: 1:06 - loss: 0.0769 - acc: 0.973 - ETA: 1:05 - loss: 0.0769 - acc: 0.974 - ETA: 1:04 - loss: 0.0770 - acc: 0.973 - ETA: 1:02 - loss: 0.0773 - acc: 0.973 - ETA: 1:01 - loss: 0.0776 - acc: 0.973 - ETA: 1:00 - loss: 0.0783 - acc: 0.973 - ETA: 59s - loss: 0.0779 - acc: 0.973 - ETA: 57s - loss: 0.0779 - acc: 0.97 - ETA: 56s - loss: 0.0785 - acc: 0.97 - ETA: 55s - loss: 0.0786 - acc: 0.97 - ETA: 53s - loss: 0.0788 - acc: 0.97 - ETA: 52s - loss: 0.0792 - acc: 0.97 - ETA: 51s - loss: 0.0791 - acc: 0.97 - ETA: 50s - loss: 0.0790 - acc: 0.97 - ETA: 48s - loss: 0.0791 - acc: 0.97 - ETA: 47s - loss: 0.0789 - acc: 0.97 - ETA: 46s - loss: 0.0787 - acc: 0.97 - ETA: 45s - loss: 0.0788 - acc: 0.97 - ETA: 43s - loss: 0.0795 - acc: 0.97 - ETA: 42s - loss: 0.0798 - acc: 0.97 - ETA: 41s - loss: 0.0797 - acc: 0.97 - ETA: 40s - loss: 0.0797 - acc: 0.97 - ETA: 38s - loss: 0.0797 - acc: 0.97 - ETA: 37s - loss: 0.0799 - acc: 0.97 - ETA: 36s - loss: 0.0800 - acc: 0.97 - ETA: 34s - loss: 0.0803 - acc: 0.97 - ETA: 33s - loss: 0.0806 - acc: 0.97 - ETA: 32s - loss: 0.0805 - acc: 0.97 - ETA: 31s - loss: 0.0803 - acc: 0.97 - ETA: 29s - loss: 0.0805 - acc: 0.97 - ETA: 28s - loss: 0.0805 - acc: 0.97 - ETA: 27s - loss: 0.0803 - acc: 0.97 - ETA: 26s - loss: 0.0800 - acc: 0.97 - ETA: 24s - loss: 0.0801 - acc: 0.97 - ETA: 23s - loss: 0.0801 - acc: 0.97 - ETA: 22s - loss: 0.0801 - acc: 0.97 - ETA: 20s - loss: 0.0804 - acc: 0.97 - ETA: 19s - loss: 0.0803 - acc: 0.97 - ETA: 18s - loss: 0.0804 - acc: 0.97 - ETA: 17s - loss: 0.0805 - acc: 0.97 - ETA: 15s - loss: 0.0807 - acc: 0.97 - ETA: 14s - loss: 0.0805 - acc: 0.97 - ETA: 13s - loss: 0.0805 - acc: 0.97 - ETA: 11s - loss: 0.0806 - acc: 0.97 - ETA: 10s - loss: 0.0806 - acc: 0.97 - ETA: 9s - loss: 0.0805 - acc: 0.9720 - ETA: 8s - loss: 0.0805 - acc: 0.972 - ETA: 6s - loss: 0.0803 - acc: 0.972 - ETA: 5s - loss: 0.0799 - acc: 0.972 - ETA: 4s - loss: 0.0803 - acc: 0.971 - ETA: 3s - loss: 0.0802 - acc: 0.972 - ETA: 1s - loss: 0.0802 - acc: 0.971 - ETA: 0s - loss: 0.0803 - acc: 0.971 - 150s 3ms/step - loss: 0.0804 - acc: 0.9719 - val_loss: 0.3358 - val_acc: 0.9029\n",
      "Epoch 9/10\n"
     ]
    },
    {
     "name": "stdout",
     "output_type": "stream",
     "text": [
      "56000/56000 [==============================] - ETA: 2:22 - loss: 0.0551 - acc: 0.982 - ETA: 2:19 - loss: 0.0579 - acc: 0.982 - ETA: 2:18 - loss: 0.0535 - acc: 0.981 - ETA: 2:15 - loss: 0.0488 - acc: 0.983 - ETA: 2:13 - loss: 0.0512 - acc: 0.982 - ETA: 2:11 - loss: 0.0551 - acc: 0.981 - ETA: 2:10 - loss: 0.0548 - acc: 0.982 - ETA: 2:10 - loss: 0.0553 - acc: 0.981 - ETA: 2:08 - loss: 0.0561 - acc: 0.981 - ETA: 2:07 - loss: 0.0569 - acc: 0.981 - ETA: 2:06 - loss: 0.0566 - acc: 0.982 - ETA: 2:05 - loss: 0.0587 - acc: 0.981 - ETA: 2:04 - loss: 0.0593 - acc: 0.981 - ETA: 2:02 - loss: 0.0605 - acc: 0.980 - ETA: 2:01 - loss: 0.0599 - acc: 0.980 - ETA: 1:59 - loss: 0.0621 - acc: 0.979 - ETA: 1:58 - loss: 0.0642 - acc: 0.979 - ETA: 1:57 - loss: 0.0638 - acc: 0.979 - ETA: 1:56 - loss: 0.0640 - acc: 0.979 - ETA: 1:54 - loss: 0.0632 - acc: 0.979 - ETA: 1:53 - loss: 0.0637 - acc: 0.979 - ETA: 1:52 - loss: 0.0631 - acc: 0.980 - ETA: 1:51 - loss: 0.0636 - acc: 0.979 - ETA: 1:49 - loss: 0.0647 - acc: 0.978 - ETA: 1:48 - loss: 0.0649 - acc: 0.978 - ETA: 1:47 - loss: 0.0658 - acc: 0.978 - ETA: 1:46 - loss: 0.0654 - acc: 0.978 - ETA: 1:44 - loss: 0.0651 - acc: 0.978 - ETA: 1:43 - loss: 0.0657 - acc: 0.978 - ETA: 1:41 - loss: 0.0653 - acc: 0.978 - ETA: 1:40 - loss: 0.0659 - acc: 0.978 - ETA: 1:39 - loss: 0.0655 - acc: 0.978 - ETA: 1:37 - loss: 0.0650 - acc: 0.978 - ETA: 1:36 - loss: 0.0651 - acc: 0.977 - ETA: 1:35 - loss: 0.0653 - acc: 0.978 - ETA: 1:33 - loss: 0.0653 - acc: 0.978 - ETA: 1:32 - loss: 0.0645 - acc: 0.978 - ETA: 1:31 - loss: 0.0647 - acc: 0.978 - ETA: 1:29 - loss: 0.0663 - acc: 0.977 - ETA: 1:28 - loss: 0.0665 - acc: 0.977 - ETA: 1:27 - loss: 0.0664 - acc: 0.977 - ETA: 1:25 - loss: 0.0669 - acc: 0.977 - ETA: 1:24 - loss: 0.0676 - acc: 0.977 - ETA: 1:23 - loss: 0.0675 - acc: 0.977 - ETA: 1:21 - loss: 0.0687 - acc: 0.976 - ETA: 1:20 - loss: 0.0693 - acc: 0.976 - ETA: 1:19 - loss: 0.0697 - acc: 0.976 - ETA: 1:18 - loss: 0.0699 - acc: 0.976 - ETA: 1:16 - loss: 0.0699 - acc: 0.976 - ETA: 1:15 - loss: 0.0696 - acc: 0.976 - ETA: 1:14 - loss: 0.0697 - acc: 0.976 - ETA: 1:12 - loss: 0.0696 - acc: 0.976 - ETA: 1:11 - loss: 0.0695 - acc: 0.976 - ETA: 1:10 - loss: 0.0697 - acc: 0.976 - ETA: 1:08 - loss: 0.0700 - acc: 0.976 - ETA: 1:07 - loss: 0.0699 - acc: 0.976 - ETA: 1:06 - loss: 0.0698 - acc: 0.976 - ETA: 1:05 - loss: 0.0698 - acc: 0.976 - ETA: 1:03 - loss: 0.0700 - acc: 0.976 - ETA: 1:02 - loss: 0.0699 - acc: 0.976 - ETA: 1:01 - loss: 0.0701 - acc: 0.976 - ETA: 59s - loss: 0.0702 - acc: 0.976 - ETA: 58s - loss: 0.0702 - acc: 0.97 - ETA: 57s - loss: 0.0703 - acc: 0.97 - ETA: 56s - loss: 0.0702 - acc: 0.97 - ETA: 54s - loss: 0.0704 - acc: 0.97 - ETA: 53s - loss: 0.0707 - acc: 0.97 - ETA: 52s - loss: 0.0707 - acc: 0.97 - ETA: 51s - loss: 0.0711 - acc: 0.97 - ETA: 49s - loss: 0.0717 - acc: 0.97 - ETA: 48s - loss: 0.0720 - acc: 0.97 - ETA: 47s - loss: 0.0721 - acc: 0.97 - ETA: 46s - loss: 0.0726 - acc: 0.97 - ETA: 44s - loss: 0.0727 - acc: 0.97 - ETA: 43s - loss: 0.0724 - acc: 0.97 - ETA: 42s - loss: 0.0728 - acc: 0.97 - ETA: 41s - loss: 0.0729 - acc: 0.97 - ETA: 39s - loss: 0.0730 - acc: 0.97 - ETA: 38s - loss: 0.0732 - acc: 0.97 - ETA: 37s - loss: 0.0729 - acc: 0.97 - ETA: 36s - loss: 0.0730 - acc: 0.97 - ETA: 34s - loss: 0.0734 - acc: 0.97 - ETA: 33s - loss: 0.0734 - acc: 0.97 - ETA: 32s - loss: 0.0732 - acc: 0.97 - ETA: 30s - loss: 0.0731 - acc: 0.97 - ETA: 29s - loss: 0.0731 - acc: 0.97 - ETA: 28s - loss: 0.0730 - acc: 0.97 - ETA: 27s - loss: 0.0734 - acc: 0.97 - ETA: 25s - loss: 0.0730 - acc: 0.97 - ETA: 24s - loss: 0.0729 - acc: 0.97 - ETA: 23s - loss: 0.0731 - acc: 0.97 - ETA: 22s - loss: 0.0734 - acc: 0.97 - ETA: 20s - loss: 0.0734 - acc: 0.97 - ETA: 19s - loss: 0.0734 - acc: 0.97 - ETA: 18s - loss: 0.0734 - acc: 0.97 - ETA: 16s - loss: 0.0735 - acc: 0.97 - ETA: 15s - loss: 0.0737 - acc: 0.97 - ETA: 14s - loss: 0.0736 - acc: 0.97 - ETA: 13s - loss: 0.0736 - acc: 0.97 - ETA: 11s - loss: 0.0736 - acc: 0.97 - ETA: 10s - loss: 0.0740 - acc: 0.97 - ETA: 9s - loss: 0.0743 - acc: 0.9741 - ETA: 8s - loss: 0.0744 - acc: 0.974 - ETA: 6s - loss: 0.0745 - acc: 0.974 - ETA: 5s - loss: 0.0747 - acc: 0.973 - ETA: 4s - loss: 0.0748 - acc: 0.973 - ETA: 3s - loss: 0.0747 - acc: 0.973 - ETA: 1s - loss: 0.0750 - acc: 0.973 - ETA: 0s - loss: 0.0750 - acc: 0.973 - 151s 3ms/step - loss: 0.0754 - acc: 0.9736 - val_loss: 0.3127 - val_acc: 0.9058\n",
      "Epoch 10/10\n",
      "56000/56000 [==============================] - ETA: 2:20 - loss: 0.0595 - acc: 0.984 - ETA: 2:15 - loss: 0.0587 - acc: 0.980 - ETA: 2:13 - loss: 0.0559 - acc: 0.981 - ETA: 2:10 - loss: 0.0573 - acc: 0.980 - ETA: 2:10 - loss: 0.0632 - acc: 0.978 - ETA: 2:10 - loss: 0.0649 - acc: 0.977 - ETA: 2:08 - loss: 0.0650 - acc: 0.978 - ETA: 2:06 - loss: 0.0651 - acc: 0.978 - ETA: 2:05 - loss: 0.0648 - acc: 0.978 - ETA: 2:04 - loss: 0.0648 - acc: 0.978 - ETA: 2:03 - loss: 0.0651 - acc: 0.978 - ETA: 2:02 - loss: 0.0641 - acc: 0.979 - ETA: 2:01 - loss: 0.0641 - acc: 0.979 - ETA: 2:00 - loss: 0.0647 - acc: 0.979 - ETA: 2:00 - loss: 0.0661 - acc: 0.978 - ETA: 2:01 - loss: 0.0659 - acc: 0.978 - ETA: 2:00 - loss: 0.0649 - acc: 0.978 - ETA: 1:59 - loss: 0.0662 - acc: 0.978 - ETA: 1:58 - loss: 0.0664 - acc: 0.978 - ETA: 1:58 - loss: 0.0679 - acc: 0.978 - ETA: 1:56 - loss: 0.0688 - acc: 0.977 - ETA: 1:55 - loss: 0.0684 - acc: 0.978 - ETA: 1:54 - loss: 0.0680 - acc: 0.977 - ETA: 1:52 - loss: 0.0671 - acc: 0.978 - ETA: 1:51 - loss: 0.0669 - acc: 0.977 - ETA: 1:50 - loss: 0.0671 - acc: 0.978 - ETA: 1:48 - loss: 0.0663 - acc: 0.978 - ETA: 1:47 - loss: 0.0663 - acc: 0.978 - ETA: 1:45 - loss: 0.0655 - acc: 0.978 - ETA: 1:44 - loss: 0.0650 - acc: 0.978 - ETA: 1:42 - loss: 0.0645 - acc: 0.979 - ETA: 1:41 - loss: 0.0637 - acc: 0.979 - ETA: 1:39 - loss: 0.0633 - acc: 0.979 - ETA: 1:38 - loss: 0.0648 - acc: 0.979 - ETA: 1:37 - loss: 0.0642 - acc: 0.979 - ETA: 1:35 - loss: 0.0651 - acc: 0.979 - ETA: 1:34 - loss: 0.0653 - acc: 0.979 - ETA: 1:32 - loss: 0.0652 - acc: 0.979 - ETA: 1:31 - loss: 0.0653 - acc: 0.978 - ETA: 1:30 - loss: 0.0648 - acc: 0.978 - ETA: 1:28 - loss: 0.0650 - acc: 0.978 - ETA: 1:27 - loss: 0.0652 - acc: 0.978 - ETA: 1:25 - loss: 0.0656 - acc: 0.978 - ETA: 1:24 - loss: 0.0663 - acc: 0.978 - ETA: 1:23 - loss: 0.0666 - acc: 0.978 - ETA: 1:21 - loss: 0.0666 - acc: 0.978 - ETA: 1:20 - loss: 0.0664 - acc: 0.978 - ETA: 1:19 - loss: 0.0661 - acc: 0.978 - ETA: 1:17 - loss: 0.0656 - acc: 0.978 - ETA: 1:16 - loss: 0.0655 - acc: 0.978 - ETA: 1:15 - loss: 0.0651 - acc: 0.978 - ETA: 1:13 - loss: 0.0652 - acc: 0.978 - ETA: 1:12 - loss: 0.0651 - acc: 0.978 - ETA: 1:11 - loss: 0.0649 - acc: 0.978 - ETA: 1:09 - loss: 0.0648 - acc: 0.978 - ETA: 1:08 - loss: 0.0644 - acc: 0.979 - ETA: 1:07 - loss: 0.0643 - acc: 0.979 - ETA: 1:06 - loss: 0.0640 - acc: 0.979 - ETA: 1:04 - loss: 0.0639 - acc: 0.979 - ETA: 1:03 - loss: 0.0638 - acc: 0.979 - ETA: 1:02 - loss: 0.0635 - acc: 0.979 - ETA: 1:01 - loss: 0.0632 - acc: 0.979 - ETA: 59s - loss: 0.0632 - acc: 0.979 - ETA: 58s - loss: 0.0631 - acc: 0.97 - ETA: 57s - loss: 0.0628 - acc: 0.97 - ETA: 56s - loss: 0.0633 - acc: 0.97 - ETA: 55s - loss: 0.0634 - acc: 0.97 - ETA: 53s - loss: 0.0636 - acc: 0.97 - ETA: 52s - loss: 0.0636 - acc: 0.97 - ETA: 51s - loss: 0.0634 - acc: 0.97 - ETA: 50s - loss: 0.0639 - acc: 0.97 - ETA: 49s - loss: 0.0640 - acc: 0.97 - ETA: 48s - loss: 0.0642 - acc: 0.97 - ETA: 46s - loss: 0.0639 - acc: 0.97 - ETA: 45s - loss: 0.0640 - acc: 0.97 - ETA: 44s - loss: 0.0643 - acc: 0.97 - ETA: 42s - loss: 0.0643 - acc: 0.97 - ETA: 41s - loss: 0.0644 - acc: 0.97 - ETA: 40s - loss: 0.0648 - acc: 0.97 - ETA: 38s - loss: 0.0647 - acc: 0.97 - ETA: 37s - loss: 0.0648 - acc: 0.97 - ETA: 36s - loss: 0.0651 - acc: 0.97 - ETA: 34s - loss: 0.0649 - acc: 0.97 - ETA: 33s - loss: 0.0648 - acc: 0.97 - ETA: 32s - loss: 0.0653 - acc: 0.97 - ETA: 30s - loss: 0.0651 - acc: 0.97 - ETA: 29s - loss: 0.0652 - acc: 0.97 - ETA: 28s - loss: 0.0653 - acc: 0.97 - ETA: 26s - loss: 0.0653 - acc: 0.97 - ETA: 25s - loss: 0.0657 - acc: 0.97 - ETA: 24s - loss: 0.0657 - acc: 0.97 - ETA: 22s - loss: 0.0660 - acc: 0.97 - ETA: 21s - loss: 0.0663 - acc: 0.97 - ETA: 20s - loss: 0.0666 - acc: 0.97 - ETA: 18s - loss: 0.0666 - acc: 0.97 - ETA: 17s - loss: 0.0667 - acc: 0.97 - ETA: 16s - loss: 0.0668 - acc: 0.97 - ETA: 14s - loss: 0.0667 - acc: 0.97 - ETA: 13s - loss: 0.0669 - acc: 0.97 - ETA: 12s - loss: 0.0668 - acc: 0.97 - ETA: 11s - loss: 0.0669 - acc: 0.97 - ETA: 9s - loss: 0.0669 - acc: 0.9773 - ETA: 8s - loss: 0.0667 - acc: 0.977 - ETA: 7s - loss: 0.0668 - acc: 0.977 - ETA: 5s - loss: 0.0668 - acc: 0.977 - ETA: 4s - loss: 0.0670 - acc: 0.977 - ETA: 3s - loss: 0.0672 - acc: 0.977 - ETA: 1s - loss: 0.0672 - acc: 0.977 - ETA: 0s - loss: 0.0673 - acc: 0.977 - 154s 3ms/step - loss: 0.0673 - acc: 0.9770 - val_loss: 0.3329 - val_acc: 0.9026\n"
     ]
    }
   ],
   "source": [
    "# create the model\n",
    "embedding_vecor_length = 32\n",
    "\n",
    "# Initialising the model\n",
    "model_1 = Sequential()\n",
    "\n",
    "# Adding embedding\n",
    "model_1.add(Embedding(len(vocabulary), embedding_vecor_length, input_length=max_review_length))\n",
    "\n",
    "# Adding Dropout\n",
    "model_1.add(Dropout(0.2))\n",
    "\n",
    "# Adding first LSTM layer\n",
    "model_1.add(LSTM(100))\n",
    "\n",
    "# Adding Dropout\n",
    "model_1.add(Dropout(0.2))\n",
    "\n",
    "# Adding output layer\n",
    "model_1.add(Dense(1, activation='sigmoid'))\n",
    "\n",
    "# Printing the model summary\n",
    "print(model_1.summary())\n",
    "\n",
    "# Compiling the model\n",
    "model_1.compile(loss='binary_crossentropy', optimizer='adam', metrics=['accuracy'])\n",
    "\n",
    "# Fitting the data to the model\n",
    "history_1 = model_1.fit(X_train, Y_train, nb_epoch=10, batch_size=512 ,verbose=1,validation_data=(X_test, Y_test))"
   ]
  },
  {
   "cell_type": "code",
   "execution_count": 52,
   "metadata": {
    "colab": {},
    "colab_type": "code",
    "id": "fODbrF5zipmY"
   },
   "outputs": [
    {
     "name": "stdout",
     "output_type": "stream",
     "text": [
      "Accuracy: 90.26%\n"
     ]
    },
    {
     "data": {
      "image/png": "[encoded data removed]",
      "text/plain": [
       "<matplotlib.figure.Figure at 0x1b5ab063b00>"
      ]
     },
     "metadata": {},
     "output_type": "display_data"
    }
   ],
   "source": [
    "# Final evaluation of the model\n",
    "scores = model_1.evaluate(X_test, Y_test, verbose=0)\n",
    "print(\"Accuracy: %.2f%%\" % (scores[1]*100))\n",
    "\n",
    "# Test and train accuracy of the model\n",
    "model_1_test = scores[1]\n",
    "model_1_train = max(history_1.history['acc'])\n",
    "\n",
    "# Plotting Train and Test Loss VS no. of epochs\n",
    "# list of epoch numbers\n",
    "x = list(range(1,11))\n",
    "\n",
    "# Validation loss\n",
    "vy = history_1.history['val_loss']\n",
    "# Training loss\n",
    "ty = history_1.history['loss']\n",
    "\n",
    "# Calling the function to draw the plot\n",
    "plt_dynamic(x, vy, ty)"
   ]
  },
  {
   "cell_type": "markdown",
   "metadata": {
    "colab_type": "text",
    "id": "9qm5HIEWjqd4"
   },
   "source": [
    "<h2>(2). RNN with 2 LSTM layers</h2>"
   ]
  },
  {
   "cell_type": "code",
   "execution_count": 54,
   "metadata": {
    "colab": {},
    "colab_type": "code",
    "id": "IqRe5K0_ippv",
    "scrolled": false
   },
   "outputs": [
    {
     "name": "stdout",
     "output_type": "stream",
     "text": [
      "_________________________________________________________________\n",
      "Layer (type)                 Output Shape              Param #   \n",
      "=================================================================\n",
      "embedding_3 (Embedding)      (None, 100, 32)           2232096   \n",
      "_________________________________________________________________\n",
      "lstm_4 (LSTM)                (None, 100, 100)          53200     \n",
      "_________________________________________________________________\n",
      "lstm_5 (LSTM)                (None, 100)               80400     \n",
      "_________________________________________________________________\n",
      "dense_3 (Dense)              (None, 1)                 101       \n",
      "=================================================================\n",
      "Total params: 2,365,797\n",
      "Trainable params: 2,365,797\n",
      "Non-trainable params: 0\n",
      "_________________________________________________________________\n",
      "None\n",
      "Train on 56000 samples, validate on 14000 samples\n",
      "Epoch 1/10\n",
      "56000/56000 [==============================] - ETA: 13:04 - loss: 0.6932 - acc: 0.50 - ETA: 10:05 - loss: 0.6907 - acc: 0.67 - ETA: 9:04 - loss: 0.6872 - acc: 0.7318 - ETA: 8:17 - loss: 0.6829 - acc: 0.758 - ETA: 7:52 - loss: 0.6774 - acc: 0.780 - ETA: 7:35 - loss: 0.6713 - acc: 0.788 - ETA: 7:25 - loss: 0.6629 - acc: 0.794 - ETA: 7:13 - loss: 0.6529 - acc: 0.797 - ETA: 7:01 - loss: 0.6391 - acc: 0.801 - ETA: 6:50 - loss: 0.6180 - acc: 0.807 - ETA: 6:40 - loss: 0.6026 - acc: 0.809 - ETA: 6:32 - loss: 0.5918 - acc: 0.813 - ETA: 6:24 - loss: 0.5846 - acc: 0.815 - ETA: 6:17 - loss: 0.5767 - acc: 0.817 - ETA: 6:11 - loss: 0.5704 - acc: 0.817 - ETA: 6:05 - loss: 0.5601 - acc: 0.821 - ETA: 5:59 - loss: 0.5548 - acc: 0.821 - ETA: 5:53 - loss: 0.5512 - acc: 0.820 - ETA: 5:47 - loss: 0.5445 - acc: 0.823 - ETA: 5:41 - loss: 0.5410 - acc: 0.823 - ETA: 5:36 - loss: 0.5374 - acc: 0.823 - ETA: 5:31 - loss: 0.5328 - acc: 0.825 - ETA: 5:26 - loss: 0.5299 - acc: 0.825 - ETA: 5:21 - loss: 0.5261 - acc: 0.825 - ETA: 5:16 - loss: 0.5218 - acc: 0.827 - ETA: 5:12 - loss: 0.5179 - acc: 0.828 - ETA: 5:08 - loss: 0.5164 - acc: 0.827 - ETA: 5:03 - loss: 0.5123 - acc: 0.828 - ETA: 4:59 - loss: 0.5106 - acc: 0.828 - ETA: 4:55 - loss: 0.5088 - acc: 0.829 - ETA: 4:51 - loss: 0.5084 - acc: 0.828 - ETA: 4:47 - loss: 0.5070 - acc: 0.828 - ETA: 4:43 - loss: 0.5054 - acc: 0.828 - ETA: 4:39 - loss: 0.5022 - acc: 0.829 - ETA: 4:35 - loss: 0.5021 - acc: 0.828 - ETA: 4:31 - loss: 0.5018 - acc: 0.827 - ETA: 4:26 - loss: 0.4994 - acc: 0.828 - ETA: 4:22 - loss: 0.4973 - acc: 0.828 - ETA: 4:18 - loss: 0.4952 - acc: 0.829 - ETA: 4:14 - loss: 0.4933 - acc: 0.829 - ETA: 4:10 - loss: 0.4911 - acc: 0.830 - ETA: 4:06 - loss: 0.4892 - acc: 0.830 - ETA: 4:02 - loss: 0.4880 - acc: 0.830 - ETA: 3:59 - loss: 0.4867 - acc: 0.830 - ETA: 3:55 - loss: 0.4853 - acc: 0.830 - ETA: 3:51 - loss: 0.4843 - acc: 0.830 - ETA: 3:47 - loss: 0.4823 - acc: 0.831 - ETA: 3:43 - loss: 0.4812 - acc: 0.830 - ETA: 3:39 - loss: 0.4805 - acc: 0.830 - ETA: 3:36 - loss: 0.4786 - acc: 0.831 - ETA: 3:32 - loss: 0.4770 - acc: 0.831 - ETA: 3:28 - loss: 0.4764 - acc: 0.830 - ETA: 3:24 - loss: 0.4744 - acc: 0.831 - ETA: 3:20 - loss: 0.4725 - acc: 0.831 - ETA: 3:17 - loss: 0.4711 - acc: 0.831 - ETA: 3:13 - loss: 0.4692 - acc: 0.832 - ETA: 3:09 - loss: 0.4675 - acc: 0.832 - ETA: 3:06 - loss: 0.4657 - acc: 0.833 - ETA: 3:02 - loss: 0.4636 - acc: 0.833 - ETA: 2:58 - loss: 0.4618 - acc: 0.833 - ETA: 2:54 - loss: 0.4599 - acc: 0.833 - ETA: 2:51 - loss: 0.4579 - acc: 0.834 - ETA: 2:47 - loss: 0.4557 - acc: 0.834 - ETA: 2:44 - loss: 0.4534 - acc: 0.835 - ETA: 2:40 - loss: 0.4516 - acc: 0.835 - ETA: 2:36 - loss: 0.4490 - acc: 0.836 - ETA: 2:32 - loss: 0.4470 - acc: 0.837 - ETA: 2:29 - loss: 0.4452 - acc: 0.837 - ETA: 2:25 - loss: 0.4435 - acc: 0.837 - ETA: 2:22 - loss: 0.4416 - acc: 0.838 - ETA: 2:18 - loss: 0.4399 - acc: 0.838 - ETA: 2:14 - loss: 0.4374 - acc: 0.839 - ETA: 2:11 - loss: 0.4356 - acc: 0.839 - ETA: 2:07 - loss: 0.4338 - acc: 0.840 - ETA: 2:04 - loss: 0.4311 - acc: 0.841 - ETA: 2:00 - loss: 0.4297 - acc: 0.841 - ETA: 1:56 - loss: 0.4276 - acc: 0.842 - ETA: 1:53 - loss: 0.4263 - acc: 0.842 - ETA: 1:49 - loss: 0.4242 - acc: 0.843 - ETA: 1:46 - loss: 0.4223 - acc: 0.843 - ETA: 1:42 - loss: 0.4212 - acc: 0.844 - ETA: 1:38 - loss: 0.4201 - acc: 0.844 - ETA: 1:35 - loss: 0.4182 - acc: 0.845 - ETA: 1:31 - loss: 0.4165 - acc: 0.845 - ETA: 1:28 - loss: 0.4150 - acc: 0.846 - ETA: 1:24 - loss: 0.4135 - acc: 0.846 - ETA: 1:21 - loss: 0.4117 - acc: 0.847 - ETA: 1:17 - loss: 0.4099 - acc: 0.847 - ETA: 1:13 - loss: 0.4085 - acc: 0.848 - ETA: 1:10 - loss: 0.4065 - acc: 0.848 - ETA: 1:06 - loss: 0.4049 - acc: 0.849 - ETA: 1:03 - loss: 0.4031 - acc: 0.849 - ETA: 59s - loss: 0.4018 - acc: 0.850 - ETA: 55s - loss: 0.4003 - acc: 0.85 - ETA: 52s - loss: 0.3985 - acc: 0.85 - ETA: 48s - loss: 0.3971 - acc: 0.85 - ETA: 45s - loss: 0.3958 - acc: 0.85 - ETA: 41s - loss: 0.3944 - acc: 0.85 - ETA: 37s - loss: 0.3931 - acc: 0.85 - ETA: 34s - loss: 0.3914 - acc: 0.85 - ETA: 30s - loss: 0.3902 - acc: 0.85 - ETA: 26s - loss: 0.3890 - acc: 0.85 - ETA: 23s - loss: 0.3875 - acc: 0.85 - ETA: 19s - loss: 0.3862 - acc: 0.85 - ETA: 15s - loss: 0.3848 - acc: 0.85 - ETA: 12s - loss: 0.3834 - acc: 0.85 - ETA: 8s - loss: 0.3822 - acc: 0.8557 - ETA: 5s - loss: 0.3808 - acc: 0.856 - ETA: 1s - loss: 0.3796 - acc: 0.856 - 440s 8ms/step - loss: 0.3789 - acc: 0.8566 - val_loss: 0.2329 - val_acc: 0.9055\n",
      "Epoch 2/10\n",
      "56000/56000 [==============================] - ETA: 7:16 - loss: 0.2451 - acc: 0.908 - ETA: 7:10 - loss: 0.2393 - acc: 0.906 - ETA: 6:57 - loss: 0.2340 - acc: 0.906 - ETA: 6:52 - loss: 0.2263 - acc: 0.907 - ETA: 6:44 - loss: 0.2213 - acc: 0.910 - ETA: 6:39 - loss: 0.2228 - acc: 0.908 - ETA: 6:42 - loss: 0.2293 - acc: 0.904 - ETA: 6:39 - loss: 0.2255 - acc: 0.906 - ETA: 6:34 - loss: 0.2269 - acc: 0.905 - ETA: 6:38 - loss: 0.2247 - acc: 0.906 - ETA: 6:38 - loss: 0.2235 - acc: 0.906 - ETA: 6:38 - loss: 0.2215 - acc: 0.908 - ETA: 6:37 - loss: 0.2210 - acc: 0.909 - ETA: 6:34 - loss: 0.2232 - acc: 0.908 - ETA: 6:32 - loss: 0.2197 - acc: 0.909 - ETA: 6:30 - loss: 0.2177 - acc: 0.910 - ETA: 6:28 - loss: 0.2190 - acc: 0.910 - ETA: 6:24 - loss: 0.2167 - acc: 0.911 - ETA: 6:21 - loss: 0.2141 - acc: 0.912 - ETA: 6:18 - loss: 0.2144 - acc: 0.911 - ETA: 6:15 - loss: 0.2138 - acc: 0.911 - ETA: 6:14 - loss: 0.2143 - acc: 0.911 - ETA: 6:10 - loss: 0.2130 - acc: 0.912 - ETA: 6:05 - loss: 0.2148 - acc: 0.912 - ETA: 6:00 - loss: 0.2140 - acc: 0.912 - ETA: 5:55 - loss: 0.2136 - acc: 0.912 - ETA: 5:50 - loss: 0.2139 - acc: 0.912 - ETA: 5:45 - loss: 0.2145 - acc: 0.912 - ETA: 5:40 - loss: 0.2147 - acc: 0.911 - ETA: 5:35 - loss: 0.2148 - acc: 0.912 - ETA: 5:31 - loss: 0.2154 - acc: 0.911 - ETA: 5:26 - loss: 0.2156 - acc: 0.912 - ETA: 5:21 - loss: 0.2170 - acc: 0.911 - ETA: 5:17 - loss: 0.2162 - acc: 0.912 - ETA: 5:13 - loss: 0.2164 - acc: 0.912 - ETA: 5:08 - loss: 0.2167 - acc: 0.912 - ETA: 5:04 - loss: 0.2168 - acc: 0.912 - ETA: 5:00 - loss: 0.2167 - acc: 0.912 - ETA: 4:55 - loss: 0.2169 - acc: 0.912 - ETA: 4:52 - loss: 0.2175 - acc: 0.912 - ETA: 4:48 - loss: 0.2177 - acc: 0.912 - ETA: 4:44 - loss: 0.2181 - acc: 0.911 - ETA: 4:40 - loss: 0.2181 - acc: 0.911 - ETA: 4:35 - loss: 0.2187 - acc: 0.911 - ETA: 4:31 - loss: 0.2190 - acc: 0.911 - ETA: 4:26 - loss: 0.2193 - acc: 0.911 - ETA: 4:21 - loss: 0.2193 - acc: 0.911 - ETA: 4:17 - loss: 0.2199 - acc: 0.910 - ETA: 4:13 - loss: 0.2198 - acc: 0.910 - ETA: 4:08 - loss: 0.2205 - acc: 0.910 - ETA: 4:04 - loss: 0.2194 - acc: 0.911 - ETA: 4:00 - loss: 0.2197 - acc: 0.911 - ETA: 3:55 - loss: 0.2193 - acc: 0.911 - ETA: 3:51 - loss: 0.2192 - acc: 0.911 - ETA: 3:47 - loss: 0.2187 - acc: 0.911 - ETA: 3:43 - loss: 0.2182 - acc: 0.912 - ETA: 3:39 - loss: 0.2178 - acc: 0.912 - ETA: 3:35 - loss: 0.2175 - acc: 0.912 - ETA: 3:31 - loss: 0.2172 - acc: 0.912 - ETA: 3:27 - loss: 0.2166 - acc: 0.913 - ETA: 3:23 - loss: 0.2164 - acc: 0.913 - ETA: 3:19 - loss: 0.2167 - acc: 0.912 - ETA: 3:14 - loss: 0.2163 - acc: 0.913 - ETA: 3:10 - loss: 0.2156 - acc: 0.913 - ETA: 3:06 - loss: 0.2152 - acc: 0.913 - ETA: 3:01 - loss: 0.2149 - acc: 0.914 - ETA: 2:57 - loss: 0.2144 - acc: 0.914 - ETA: 2:53 - loss: 0.2143 - acc: 0.914 - ETA: 2:49 - loss: 0.2141 - acc: 0.914 - ETA: 2:44 - loss: 0.2139 - acc: 0.914 - ETA: 2:40 - loss: 0.2142 - acc: 0.914 - ETA: 2:36 - loss: 0.2147 - acc: 0.914 - ETA: 2:32 - loss: 0.2147 - acc: 0.913 - ETA: 2:27 - loss: 0.2150 - acc: 0.913 - ETA: 2:23 - loss: 0.2156 - acc: 0.913 - ETA: 2:19 - loss: 0.2159 - acc: 0.913 - ETA: 2:15 - loss: 0.2159 - acc: 0.913 - ETA: 2:10 - loss: 0.2156 - acc: 0.913 - ETA: 2:06 - loss: 0.2156 - acc: 0.913 - ETA: 2:02 - loss: 0.2150 - acc: 0.913 - ETA: 1:58 - loss: 0.2153 - acc: 0.913 - ETA: 1:54 - loss: 0.2156 - acc: 0.913 - ETA: 1:49 - loss: 0.2158 - acc: 0.913 - ETA: 1:45 - loss: 0.2157 - acc: 0.913 - ETA: 1:41 - loss: 0.2155 - acc: 0.913 - ETA: 1:37 - loss: 0.2152 - acc: 0.913 - ETA: 1:33 - loss: 0.2150 - acc: 0.914 - ETA: 1:28 - loss: 0.2153 - acc: 0.913 - ETA: 1:24 - loss: 0.2151 - acc: 0.913 - ETA: 1:20 - loss: 0.2148 - acc: 0.914 - ETA: 1:16 - loss: 0.2147 - acc: 0.914 - ETA: 1:12 - loss: 0.2152 - acc: 0.914 - ETA: 1:08 - loss: 0.2151 - acc: 0.914 - ETA: 1:03 - loss: 0.2148 - acc: 0.914 - ETA: 59s - loss: 0.2148 - acc: 0.914 - ETA: 55s - loss: 0.2152 - acc: 0.91 - ETA: 51s - loss: 0.2149 - acc: 0.91 - ETA: 47s - loss: 0.2148 - acc: 0.91 - ETA: 43s - loss: 0.2147 - acc: 0.91 - ETA: 38s - loss: 0.2146 - acc: 0.91 - ETA: 34s - loss: 0.2149 - acc: 0.91 - ETA: 30s - loss: 0.2147 - acc: 0.91 - ETA: 26s - loss: 0.2143 - acc: 0.91 - ETA: 22s - loss: 0.2140 - acc: 0.91 - ETA: 18s - loss: 0.2139 - acc: 0.91 - ETA: 14s - loss: 0.2136 - acc: 0.91 - ETA: 9s - loss: 0.2136 - acc: 0.9151 - ETA: 5s - loss: 0.2137 - acc: 0.915 - ETA: 1s - loss: 0.2134 - acc: 0.915 - 485s 9ms/step - loss: 0.2133 - acc: 0.9151 - val_loss: 0.2172 - val_acc: 0.9149\n",
      "Epoch 3/10\n"
     ]
    },
    {
     "name": "stdout",
     "output_type": "stream",
     "text": [
      "56000/56000 [==============================] - ETA: 7:49 - loss: 0.1654 - acc: 0.949 - ETA: 7:38 - loss: 0.1709 - acc: 0.938 - ETA: 7:27 - loss: 0.1682 - acc: 0.940 - ETA: 7:19 - loss: 0.1661 - acc: 0.939 - ETA: 7:12 - loss: 0.1719 - acc: 0.935 - ETA: 7:08 - loss: 0.1734 - acc: 0.934 - ETA: 7:03 - loss: 0.1696 - acc: 0.935 - ETA: 6:57 - loss: 0.1662 - acc: 0.937 - ETA: 6:51 - loss: 0.1683 - acc: 0.935 - ETA: 6:46 - loss: 0.1707 - acc: 0.934 - ETA: 6:42 - loss: 0.1711 - acc: 0.934 - ETA: 6:38 - loss: 0.1706 - acc: 0.934 - ETA: 6:33 - loss: 0.1696 - acc: 0.935 - ETA: 6:29 - loss: 0.1671 - acc: 0.936 - ETA: 6:26 - loss: 0.1665 - acc: 0.937 - ETA: 6:22 - loss: 0.1708 - acc: 0.935 - ETA: 6:18 - loss: 0.1705 - acc: 0.935 - ETA: 6:15 - loss: 0.1712 - acc: 0.934 - ETA: 6:11 - loss: 0.1694 - acc: 0.935 - ETA: 6:08 - loss: 0.1704 - acc: 0.934 - ETA: 6:04 - loss: 0.1709 - acc: 0.935 - ETA: 6:00 - loss: 0.1713 - acc: 0.934 - ETA: 5:56 - loss: 0.1732 - acc: 0.934 - ETA: 5:53 - loss: 0.1724 - acc: 0.934 - ETA: 5:49 - loss: 0.1718 - acc: 0.934 - ETA: 5:45 - loss: 0.1717 - acc: 0.934 - ETA: 5:42 - loss: 0.1702 - acc: 0.935 - ETA: 5:40 - loss: 0.1704 - acc: 0.935 - ETA: 5:37 - loss: 0.1702 - acc: 0.935 - ETA: 5:35 - loss: 0.1711 - acc: 0.934 - ETA: 5:31 - loss: 0.1699 - acc: 0.935 - ETA: 5:26 - loss: 0.1697 - acc: 0.935 - ETA: 5:22 - loss: 0.1695 - acc: 0.935 - ETA: 5:17 - loss: 0.1699 - acc: 0.935 - ETA: 5:13 - loss: 0.1695 - acc: 0.935 - ETA: 5:08 - loss: 0.1703 - acc: 0.935 - ETA: 5:04 - loss: 0.1710 - acc: 0.935 - ETA: 4:59 - loss: 0.1725 - acc: 0.934 - ETA: 4:55 - loss: 0.1721 - acc: 0.934 - ETA: 4:51 - loss: 0.1720 - acc: 0.934 - ETA: 4:46 - loss: 0.1719 - acc: 0.934 - ETA: 4:43 - loss: 0.1718 - acc: 0.934 - ETA: 4:39 - loss: 0.1716 - acc: 0.934 - ETA: 4:35 - loss: 0.1714 - acc: 0.934 - ETA: 4:30 - loss: 0.1711 - acc: 0.934 - ETA: 4:26 - loss: 0.1709 - acc: 0.935 - ETA: 4:22 - loss: 0.1710 - acc: 0.934 - ETA: 4:17 - loss: 0.1709 - acc: 0.934 - ETA: 4:13 - loss: 0.1713 - acc: 0.934 - ETA: 4:09 - loss: 0.1712 - acc: 0.934 - ETA: 4:05 - loss: 0.1710 - acc: 0.935 - ETA: 4:00 - loss: 0.1717 - acc: 0.934 - ETA: 3:56 - loss: 0.1712 - acc: 0.934 - ETA: 3:52 - loss: 0.1713 - acc: 0.934 - ETA: 3:48 - loss: 0.1712 - acc: 0.934 - ETA: 3:43 - loss: 0.1707 - acc: 0.934 - ETA: 3:39 - loss: 0.1710 - acc: 0.934 - ETA: 3:35 - loss: 0.1707 - acc: 0.934 - ETA: 3:30 - loss: 0.1711 - acc: 0.934 - ETA: 3:26 - loss: 0.1710 - acc: 0.934 - ETA: 3:22 - loss: 0.1718 - acc: 0.934 - ETA: 3:18 - loss: 0.1720 - acc: 0.934 - ETA: 3:13 - loss: 0.1717 - acc: 0.934 - ETA: 3:09 - loss: 0.1720 - acc: 0.934 - ETA: 3:05 - loss: 0.1722 - acc: 0.934 - ETA: 3:01 - loss: 0.1720 - acc: 0.934 - ETA: 2:57 - loss: 0.1725 - acc: 0.934 - ETA: 2:52 - loss: 0.1728 - acc: 0.934 - ETA: 2:48 - loss: 0.1724 - acc: 0.934 - ETA: 2:44 - loss: 0.1725 - acc: 0.934 - ETA: 2:40 - loss: 0.1724 - acc: 0.934 - ETA: 2:35 - loss: 0.1723 - acc: 0.934 - ETA: 2:31 - loss: 0.1723 - acc: 0.934 - ETA: 2:27 - loss: 0.1724 - acc: 0.934 - ETA: 2:23 - loss: 0.1729 - acc: 0.934 - ETA: 2:19 - loss: 0.1736 - acc: 0.933 - ETA: 2:14 - loss: 0.1735 - acc: 0.933 - ETA: 2:10 - loss: 0.1735 - acc: 0.933 - ETA: 2:06 - loss: 0.1739 - acc: 0.933 - ETA: 2:02 - loss: 0.1741 - acc: 0.933 - ETA: 1:58 - loss: 0.1741 - acc: 0.933 - ETA: 1:54 - loss: 0.1743 - acc: 0.933 - ETA: 1:49 - loss: 0.1737 - acc: 0.933 - ETA: 1:45 - loss: 0.1742 - acc: 0.933 - ETA: 1:41 - loss: 0.1744 - acc: 0.933 - ETA: 1:37 - loss: 0.1743 - acc: 0.933 - ETA: 1:33 - loss: 0.1742 - acc: 0.933 - ETA: 1:29 - loss: 0.1742 - acc: 0.933 - ETA: 1:24 - loss: 0.1741 - acc: 0.933 - ETA: 1:20 - loss: 0.1739 - acc: 0.933 - ETA: 1:16 - loss: 0.1739 - acc: 0.933 - ETA: 1:12 - loss: 0.1742 - acc: 0.933 - ETA: 1:08 - loss: 0.1743 - acc: 0.933 - ETA: 1:04 - loss: 0.1744 - acc: 0.933 - ETA: 1:00 - loss: 0.1743 - acc: 0.933 - ETA: 55s - loss: 0.1741 - acc: 0.933 - ETA: 51s - loss: 0.1744 - acc: 0.93 - ETA: 47s - loss: 0.1741 - acc: 0.93 - ETA: 43s - loss: 0.1738 - acc: 0.93 - ETA: 39s - loss: 0.1740 - acc: 0.93 - ETA: 35s - loss: 0.1744 - acc: 0.93 - ETA: 30s - loss: 0.1741 - acc: 0.93 - ETA: 26s - loss: 0.1742 - acc: 0.93 - ETA: 22s - loss: 0.1742 - acc: 0.93 - ETA: 18s - loss: 0.1739 - acc: 0.93 - ETA: 14s - loss: 0.1736 - acc: 0.93 - ETA: 10s - loss: 0.1739 - acc: 0.93 - ETA: 5s - loss: 0.1736 - acc: 0.9338 - ETA: 1s - loss: 0.1738 - acc: 0.933 - 491s 9ms/step - loss: 0.1735 - acc: 0.9339 - val_loss: 0.2207 - val_acc: 0.9156\n",
      "Epoch 4/10\n",
      "56000/56000 [==============================] - ETA: 7:40 - loss: 0.1486 - acc: 0.941 - ETA: 7:37 - loss: 0.1452 - acc: 0.942 - ETA: 7:28 - loss: 0.1540 - acc: 0.940 - ETA: 7:22 - loss: 0.1534 - acc: 0.942 - ETA: 7:16 - loss: 0.1471 - acc: 0.944 - ETA: 7:11 - loss: 0.1431 - acc: 0.946 - ETA: 7:08 - loss: 0.1450 - acc: 0.946 - ETA: 7:04 - loss: 0.1493 - acc: 0.944 - ETA: 7:00 - loss: 0.1470 - acc: 0.946 - ETA: 6:56 - loss: 0.1459 - acc: 0.946 - ETA: 6:56 - loss: 0.1492 - acc: 0.945 - ETA: 6:57 - loss: 0.1478 - acc: 0.945 - ETA: 6:56 - loss: 0.1459 - acc: 0.945 - ETA: 6:57 - loss: 0.1468 - acc: 0.944 - ETA: 6:57 - loss: 0.1454 - acc: 0.945 - ETA: 6:53 - loss: 0.1473 - acc: 0.944 - ETA: 6:49 - loss: 0.1487 - acc: 0.944 - ETA: 6:42 - loss: 0.1480 - acc: 0.944 - ETA: 6:37 - loss: 0.1489 - acc: 0.943 - ETA: 6:31 - loss: 0.1494 - acc: 0.943 - ETA: 6:26 - loss: 0.1492 - acc: 0.943 - ETA: 6:21 - loss: 0.1475 - acc: 0.944 - ETA: 6:16 - loss: 0.1473 - acc: 0.944 - ETA: 6:11 - loss: 0.1458 - acc: 0.945 - ETA: 6:07 - loss: 0.1483 - acc: 0.945 - ETA: 6:02 - loss: 0.1485 - acc: 0.944 - ETA: 5:57 - loss: 0.1479 - acc: 0.944 - ETA: 5:53 - loss: 0.1476 - acc: 0.944 - ETA: 5:48 - loss: 0.1471 - acc: 0.944 - ETA: 5:43 - loss: 0.1479 - acc: 0.944 - ETA: 5:39 - loss: 0.1494 - acc: 0.943 - ETA: 5:34 - loss: 0.1491 - acc: 0.943 - ETA: 5:30 - loss: 0.1478 - acc: 0.944 - ETA: 5:26 - loss: 0.1481 - acc: 0.944 - ETA: 5:21 - loss: 0.1478 - acc: 0.944 - ETA: 5:17 - loss: 0.1478 - acc: 0.944 - ETA: 5:13 - loss: 0.1482 - acc: 0.943 - ETA: 5:08 - loss: 0.1480 - acc: 0.943 - ETA: 5:04 - loss: 0.1481 - acc: 0.943 - ETA: 5:00 - loss: 0.1479 - acc: 0.943 - ETA: 4:55 - loss: 0.1476 - acc: 0.943 - ETA: 4:51 - loss: 0.1479 - acc: 0.943 - ETA: 4:47 - loss: 0.1477 - acc: 0.944 - ETA: 4:42 - loss: 0.1466 - acc: 0.944 - ETA: 4:38 - loss: 0.1453 - acc: 0.945 - ETA: 4:34 - loss: 0.1449 - acc: 0.945 - ETA: 4:30 - loss: 0.1447 - acc: 0.945 - ETA: 4:25 - loss: 0.1451 - acc: 0.945 - ETA: 4:21 - loss: 0.1448 - acc: 0.945 - ETA: 4:16 - loss: 0.1458 - acc: 0.945 - ETA: 4:12 - loss: 0.1460 - acc: 0.945 - ETA: 4:07 - loss: 0.1464 - acc: 0.945 - ETA: 4:02 - loss: 0.1463 - acc: 0.945 - ETA: 3:58 - loss: 0.1468 - acc: 0.945 - ETA: 3:53 - loss: 0.1471 - acc: 0.944 - ETA: 3:49 - loss: 0.1475 - acc: 0.944 - ETA: 3:45 - loss: 0.1471 - acc: 0.944 - ETA: 3:40 - loss: 0.1483 - acc: 0.944 - ETA: 3:36 - loss: 0.1481 - acc: 0.944 - ETA: 3:31 - loss: 0.1486 - acc: 0.944 - ETA: 3:27 - loss: 0.1486 - acc: 0.944 - ETA: 3:23 - loss: 0.1490 - acc: 0.944 - ETA: 3:18 - loss: 0.1497 - acc: 0.944 - ETA: 3:14 - loss: 0.1496 - acc: 0.944 - ETA: 3:09 - loss: 0.1494 - acc: 0.944 - ETA: 3:05 - loss: 0.1493 - acc: 0.944 - ETA: 3:01 - loss: 0.1494 - acc: 0.944 - ETA: 2:56 - loss: 0.1493 - acc: 0.944 - ETA: 2:52 - loss: 0.1492 - acc: 0.944 - ETA: 2:48 - loss: 0.1496 - acc: 0.944 - ETA: 2:43 - loss: 0.1501 - acc: 0.943 - ETA: 2:39 - loss: 0.1502 - acc: 0.943 - ETA: 2:35 - loss: 0.1504 - acc: 0.943 - ETA: 2:31 - loss: 0.1506 - acc: 0.943 - ETA: 2:26 - loss: 0.1508 - acc: 0.943 - ETA: 2:22 - loss: 0.1512 - acc: 0.943 - ETA: 2:18 - loss: 0.1517 - acc: 0.942 - ETA: 2:14 - loss: 0.1516 - acc: 0.942 - ETA: 2:09 - loss: 0.1522 - acc: 0.942 - ETA: 2:05 - loss: 0.1524 - acc: 0.942 - ETA: 2:01 - loss: 0.1530 - acc: 0.942 - ETA: 1:56 - loss: 0.1531 - acc: 0.942 - ETA: 1:52 - loss: 0.1533 - acc: 0.942 - ETA: 1:48 - loss: 0.1535 - acc: 0.942 - ETA: 1:43 - loss: 0.1534 - acc: 0.942 - ETA: 1:39 - loss: 0.1535 - acc: 0.942 - ETA: 1:35 - loss: 0.1537 - acc: 0.942 - ETA: 1:30 - loss: 0.1536 - acc: 0.942 - ETA: 1:26 - loss: 0.1534 - acc: 0.942 - ETA: 1:22 - loss: 0.1535 - acc: 0.942 - ETA: 1:18 - loss: 0.1536 - acc: 0.942 - ETA: 1:13 - loss: 0.1532 - acc: 0.942 - ETA: 1:09 - loss: 0.1531 - acc: 0.942 - ETA: 1:05 - loss: 0.1531 - acc: 0.942 - ETA: 1:01 - loss: 0.1528 - acc: 0.942 - ETA: 56s - loss: 0.1528 - acc: 0.942 - ETA: 52s - loss: 0.1528 - acc: 0.94 - ETA: 48s - loss: 0.1525 - acc: 0.94 - ETA: 44s - loss: 0.1525 - acc: 0.94 - ETA: 39s - loss: 0.1523 - acc: 0.94 - ETA: 35s - loss: 0.1522 - acc: 0.94 - ETA: 31s - loss: 0.1522 - acc: 0.94 - ETA: 27s - loss: 0.1517 - acc: 0.94 - ETA: 22s - loss: 0.1519 - acc: 0.94 - ETA: 18s - loss: 0.1519 - acc: 0.94 - ETA: 14s - loss: 0.1519 - acc: 0.94 - ETA: 10s - loss: 0.1515 - acc: 0.94 - ETA: 5s - loss: 0.1519 - acc: 0.9428 - ETA: 1s - loss: 0.1519 - acc: 0.942 - 495s 9ms/step - loss: 0.1517 - acc: 0.9428 - val_loss: 0.2256 - val_acc: 0.9181\n",
      "Epoch 5/10\n"
     ]
    },
    {
     "name": "stdout",
     "output_type": "stream",
     "text": [
      "56000/56000 [==============================] - ETA: 10:07 - loss: 0.1110 - acc: 0.95 - ETA: 8:50 - loss: 0.1145 - acc: 0.9551 - ETA: 8:20 - loss: 0.1278 - acc: 0.951 - ETA: 8:04 - loss: 0.1320 - acc: 0.948 - ETA: 7:51 - loss: 0.1301 - acc: 0.950 - ETA: 7:42 - loss: 0.1297 - acc: 0.948 - ETA: 7:31 - loss: 0.1369 - acc: 0.947 - ETA: 7:23 - loss: 0.1358 - acc: 0.949 - ETA: 7:15 - loss: 0.1342 - acc: 0.951 - ETA: 7:09 - loss: 0.1331 - acc: 0.950 - ETA: 7:03 - loss: 0.1309 - acc: 0.951 - ETA: 6:56 - loss: 0.1277 - acc: 0.953 - ETA: 6:51 - loss: 0.1259 - acc: 0.954 - ETA: 6:45 - loss: 0.1268 - acc: 0.953 - ETA: 6:40 - loss: 0.1260 - acc: 0.953 - ETA: 6:35 - loss: 0.1256 - acc: 0.953 - ETA: 6:30 - loss: 0.1242 - acc: 0.953 - ETA: 6:27 - loss: 0.1242 - acc: 0.953 - ETA: 6:22 - loss: 0.1241 - acc: 0.953 - ETA: 6:26 - loss: 0.1258 - acc: 0.953 - ETA: 6:39 - loss: 0.1256 - acc: 0.953 - ETA: 6:42 - loss: 0.1267 - acc: 0.953 - ETA: 6:40 - loss: 0.1273 - acc: 0.953 - ETA: 6:36 - loss: 0.1282 - acc: 0.952 - ETA: 6:30 - loss: 0.1289 - acc: 0.952 - ETA: 6:24 - loss: 0.1274 - acc: 0.952 - ETA: 6:18 - loss: 0.1272 - acc: 0.953 - ETA: 6:12 - loss: 0.1279 - acc: 0.952 - ETA: 6:06 - loss: 0.1282 - acc: 0.952 - ETA: 6:01 - loss: 0.1290 - acc: 0.952 - ETA: 5:55 - loss: 0.1289 - acc: 0.952 - ETA: 5:50 - loss: 0.1279 - acc: 0.952 - ETA: 5:44 - loss: 0.1267 - acc: 0.953 - ETA: 5:39 - loss: 0.1270 - acc: 0.953 - ETA: 5:34 - loss: 0.1277 - acc: 0.952 - ETA: 5:29 - loss: 0.1274 - acc: 0.952 - ETA: 5:24 - loss: 0.1268 - acc: 0.953 - ETA: 5:19 - loss: 0.1271 - acc: 0.953 - ETA: 5:14 - loss: 0.1268 - acc: 0.953 - ETA: 5:09 - loss: 0.1275 - acc: 0.952 - ETA: 5:04 - loss: 0.1286 - acc: 0.952 - ETA: 5:00 - loss: 0.1284 - acc: 0.952 - ETA: 4:55 - loss: 0.1275 - acc: 0.953 - ETA: 4:51 - loss: 0.1283 - acc: 0.952 - ETA: 4:46 - loss: 0.1280 - acc: 0.952 - ETA: 4:41 - loss: 0.1275 - acc: 0.952 - ETA: 4:36 - loss: 0.1271 - acc: 0.953 - ETA: 4:31 - loss: 0.1267 - acc: 0.952 - ETA: 4:26 - loss: 0.1269 - acc: 0.952 - ETA: 4:21 - loss: 0.1268 - acc: 0.953 - ETA: 4:17 - loss: 0.1272 - acc: 0.952 - ETA: 4:12 - loss: 0.1274 - acc: 0.952 - ETA: 4:07 - loss: 0.1277 - acc: 0.952 - ETA: 4:03 - loss: 0.1281 - acc: 0.952 - ETA: 3:58 - loss: 0.1279 - acc: 0.952 - ETA: 3:54 - loss: 0.1278 - acc: 0.952 - ETA: 3:49 - loss: 0.1282 - acc: 0.952 - ETA: 3:44 - loss: 0.1281 - acc: 0.952 - ETA: 3:40 - loss: 0.1279 - acc: 0.952 - ETA: 3:35 - loss: 0.1283 - acc: 0.951 - ETA: 3:31 - loss: 0.1286 - acc: 0.951 - ETA: 3:26 - loss: 0.1288 - acc: 0.951 - ETA: 3:22 - loss: 0.1288 - acc: 0.951 - ETA: 3:17 - loss: 0.1287 - acc: 0.951 - ETA: 3:13 - loss: 0.1292 - acc: 0.951 - ETA: 3:08 - loss: 0.1293 - acc: 0.951 - ETA: 3:04 - loss: 0.1296 - acc: 0.951 - ETA: 2:59 - loss: 0.1294 - acc: 0.951 - ETA: 2:55 - loss: 0.1295 - acc: 0.951 - ETA: 2:50 - loss: 0.1298 - acc: 0.951 - ETA: 2:46 - loss: 0.1300 - acc: 0.951 - ETA: 2:41 - loss: 0.1295 - acc: 0.951 - ETA: 2:37 - loss: 0.1295 - acc: 0.951 - ETA: 2:32 - loss: 0.1297 - acc: 0.951 - ETA: 2:28 - loss: 0.1297 - acc: 0.951 - ETA: 2:24 - loss: 0.1300 - acc: 0.951 - ETA: 2:19 - loss: 0.1298 - acc: 0.951 - ETA: 2:15 - loss: 0.1302 - acc: 0.951 - ETA: 2:10 - loss: 0.1309 - acc: 0.950 - ETA: 2:06 - loss: 0.1312 - acc: 0.950 - ETA: 2:02 - loss: 0.1313 - acc: 0.950 - ETA: 1:57 - loss: 0.1313 - acc: 0.950 - ETA: 1:53 - loss: 0.1317 - acc: 0.950 - ETA: 1:48 - loss: 0.1318 - acc: 0.950 - ETA: 1:44 - loss: 0.1318 - acc: 0.950 - ETA: 1:40 - loss: 0.1314 - acc: 0.950 - ETA: 1:35 - loss: 0.1318 - acc: 0.950 - ETA: 1:31 - loss: 0.1320 - acc: 0.950 - ETA: 1:27 - loss: 0.1323 - acc: 0.950 - ETA: 1:23 - loss: 0.1326 - acc: 0.950 - ETA: 1:18 - loss: 0.1326 - acc: 0.950 - ETA: 1:14 - loss: 0.1328 - acc: 0.950 - ETA: 1:10 - loss: 0.1329 - acc: 0.950 - ETA: 1:05 - loss: 0.1328 - acc: 0.950 - ETA: 1:01 - loss: 0.1328 - acc: 0.950 - ETA: 57s - loss: 0.1326 - acc: 0.950 - ETA: 52s - loss: 0.1326 - acc: 0.95 - ETA: 48s - loss: 0.1325 - acc: 0.95 - ETA: 44s - loss: 0.1329 - acc: 0.95 - ETA: 40s - loss: 0.1326 - acc: 0.95 - ETA: 35s - loss: 0.1326 - acc: 0.95 - ETA: 31s - loss: 0.1326 - acc: 0.95 - ETA: 27s - loss: 0.1329 - acc: 0.95 - ETA: 22s - loss: 0.1332 - acc: 0.95 - ETA: 18s - loss: 0.1329 - acc: 0.95 - ETA: 14s - loss: 0.1328 - acc: 0.95 - ETA: 10s - loss: 0.1325 - acc: 0.95 - ETA: 5s - loss: 0.1326 - acc: 0.9504 - ETA: 1s - loss: 0.1331 - acc: 0.950 - 497s 9ms/step - loss: 0.1331 - acc: 0.9503 - val_loss: 0.2407 - val_acc: 0.9125\n",
      "Epoch 6/10\n",
      "56000/56000 [==============================] - ETA: 8:58 - loss: 0.1121 - acc: 0.964 - ETA: 8:17 - loss: 0.1214 - acc: 0.958 - ETA: 8:18 - loss: 0.1134 - acc: 0.959 - ETA: 8:10 - loss: 0.1067 - acc: 0.961 - ETA: 8:08 - loss: 0.1041 - acc: 0.963 - ETA: 8:13 - loss: 0.1009 - acc: 0.964 - ETA: 8:13 - loss: 0.0995 - acc: 0.964 - ETA: 8:05 - loss: 0.1015 - acc: 0.963 - ETA: 8:05 - loss: 0.1067 - acc: 0.961 - ETA: 8:00 - loss: 0.1058 - acc: 0.960 - ETA: 7:54 - loss: 0.1046 - acc: 0.961 - ETA: 7:51 - loss: 0.1042 - acc: 0.961 - ETA: 7:44 - loss: 0.1025 - acc: 0.962 - ETA: 7:38 - loss: 0.1060 - acc: 0.962 - ETA: 7:32 - loss: 0.1079 - acc: 0.961 - ETA: 7:26 - loss: 0.1085 - acc: 0.960 - ETA: 7:20 - loss: 0.1084 - acc: 0.960 - ETA: 7:14 - loss: 0.1103 - acc: 0.959 - ETA: 7:12 - loss: 0.1104 - acc: 0.959 - ETA: 7:09 - loss: 0.1106 - acc: 0.959 - ETA: 7:06 - loss: 0.1111 - acc: 0.959 - ETA: 7:01 - loss: 0.1112 - acc: 0.959 - ETA: 6:58 - loss: 0.1109 - acc: 0.959 - ETA: 6:53 - loss: 0.1101 - acc: 0.959 - ETA: 6:47 - loss: 0.1118 - acc: 0.959 - ETA: 6:42 - loss: 0.1130 - acc: 0.958 - ETA: 6:36 - loss: 0.1128 - acc: 0.958 - ETA: 6:32 - loss: 0.1130 - acc: 0.958 - ETA: 6:28 - loss: 0.1136 - acc: 0.957 - ETA: 6:25 - loss: 0.1140 - acc: 0.957 - ETA: 6:20 - loss: 0.1135 - acc: 0.958 - ETA: 6:16 - loss: 0.1145 - acc: 0.957 - ETA: 6:13 - loss: 0.1155 - acc: 0.957 - ETA: 6:08 - loss: 0.1154 - acc: 0.957 - ETA: 6:03 - loss: 0.1149 - acc: 0.958 - ETA: 5:59 - loss: 0.1143 - acc: 0.958 - ETA: 5:54 - loss: 0.1143 - acc: 0.958 - ETA: 5:50 - loss: 0.1150 - acc: 0.957 - ETA: 5:47 - loss: 0.1155 - acc: 0.957 - ETA: 5:44 - loss: 0.1160 - acc: 0.957 - ETA: 5:39 - loss: 0.1165 - acc: 0.957 - ETA: 5:34 - loss: 0.1168 - acc: 0.957 - ETA: 5:28 - loss: 0.1174 - acc: 0.957 - ETA: 5:22 - loss: 0.1184 - acc: 0.957 - ETA: 5:17 - loss: 0.1182 - acc: 0.956 - ETA: 5:11 - loss: 0.1183 - acc: 0.957 - ETA: 5:05 - loss: 0.1188 - acc: 0.956 - ETA: 5:00 - loss: 0.1196 - acc: 0.956 - ETA: 4:54 - loss: 0.1190 - acc: 0.956 - ETA: 4:49 - loss: 0.1194 - acc: 0.956 - ETA: 4:44 - loss: 0.1198 - acc: 0.956 - ETA: 4:38 - loss: 0.1197 - acc: 0.956 - ETA: 4:32 - loss: 0.1203 - acc: 0.956 - ETA: 4:27 - loss: 0.1207 - acc: 0.955 - ETA: 4:22 - loss: 0.1206 - acc: 0.956 - ETA: 4:16 - loss: 0.1207 - acc: 0.956 - ETA: 4:11 - loss: 0.1210 - acc: 0.955 - ETA: 4:06 - loss: 0.1209 - acc: 0.955 - ETA: 4:01 - loss: 0.1207 - acc: 0.955 - ETA: 3:56 - loss: 0.1204 - acc: 0.955 - ETA: 3:51 - loss: 0.1208 - acc: 0.955 - ETA: 3:46 - loss: 0.1207 - acc: 0.955 - ETA: 3:41 - loss: 0.1207 - acc: 0.955 - ETA: 3:36 - loss: 0.1209 - acc: 0.955 - ETA: 3:31 - loss: 0.1209 - acc: 0.955 - ETA: 3:26 - loss: 0.1204 - acc: 0.955 - ETA: 3:22 - loss: 0.1203 - acc: 0.955 - ETA: 3:17 - loss: 0.1201 - acc: 0.955 - ETA: 3:12 - loss: 0.1200 - acc: 0.956 - ETA: 3:08 - loss: 0.1203 - acc: 0.955 - ETA: 3:03 - loss: 0.1206 - acc: 0.955 - ETA: 2:58 - loss: 0.1210 - acc: 0.955 - ETA: 2:53 - loss: 0.1208 - acc: 0.955 - ETA: 2:49 - loss: 0.1205 - acc: 0.955 - ETA: 2:44 - loss: 0.1206 - acc: 0.955 - ETA: 2:39 - loss: 0.1206 - acc: 0.955 - ETA: 2:34 - loss: 0.1211 - acc: 0.955 - ETA: 2:29 - loss: 0.1215 - acc: 0.955 - ETA: 2:24 - loss: 0.1210 - acc: 0.955 - ETA: 2:20 - loss: 0.1209 - acc: 0.955 - ETA: 2:15 - loss: 0.1208 - acc: 0.955 - ETA: 2:10 - loss: 0.1209 - acc: 0.955 - ETA: 2:05 - loss: 0.1209 - acc: 0.955 - ETA: 2:00 - loss: 0.1209 - acc: 0.955 - ETA: 1:55 - loss: 0.1214 - acc: 0.955 - ETA: 1:50 - loss: 0.1213 - acc: 0.955 - ETA: 1:46 - loss: 0.1214 - acc: 0.955 - ETA: 1:41 - loss: 0.1214 - acc: 0.955 - ETA: 1:36 - loss: 0.1213 - acc: 0.955 - ETA: 1:31 - loss: 0.1214 - acc: 0.955 - ETA: 1:26 - loss: 0.1214 - acc: 0.955 - ETA: 1:22 - loss: 0.1219 - acc: 0.954 - ETA: 1:17 - loss: 0.1217 - acc: 0.954 - ETA: 1:12 - loss: 0.1218 - acc: 0.954 - ETA: 1:07 - loss: 0.1215 - acc: 0.955 - ETA: 1:02 - loss: 0.1221 - acc: 0.954 - ETA: 58s - loss: 0.1222 - acc: 0.954 - ETA: 53s - loss: 0.1221 - acc: 0.95 - ETA: 48s - loss: 0.1222 - acc: 0.95 - ETA: 43s - loss: 0.1223 - acc: 0.95 - ETA: 39s - loss: 0.1222 - acc: 0.95 - ETA: 34s - loss: 0.1222 - acc: 0.95 - ETA: 29s - loss: 0.1225 - acc: 0.95 - ETA: 25s - loss: 0.1225 - acc: 0.95 - ETA: 20s - loss: 0.1224 - acc: 0.95 - ETA: 15s - loss: 0.1224 - acc: 0.95 - ETA: 11s - loss: 0.1221 - acc: 0.95 - ETA: 6s - loss: 0.1219 - acc: 0.9549 - ETA: 1s - loss: 0.1222 - acc: 0.954 - 542s 10ms/step - loss: 0.1223 - acc: 0.9546 - val_loss: 0.2539 - val_acc: 0.9102\n",
      "Epoch 7/10\n"
     ]
    },
    {
     "name": "stdout",
     "output_type": "stream",
     "text": [
      "56000/56000 [==============================] - ETA: 8:17 - loss: 0.0999 - acc: 0.962 - ETA: 7:59 - loss: 0.1042 - acc: 0.963 - ETA: 7:45 - loss: 0.1045 - acc: 0.966 - ETA: 7:55 - loss: 0.1019 - acc: 0.966 - ETA: 7:56 - loss: 0.1052 - acc: 0.964 - ETA: 7:58 - loss: 0.1033 - acc: 0.963 - ETA: 7:54 - loss: 0.1033 - acc: 0.963 - ETA: 7:45 - loss: 0.1013 - acc: 0.964 - ETA: 7:38 - loss: 0.1019 - acc: 0.963 - ETA: 7:31 - loss: 0.1008 - acc: 0.963 - ETA: 7:25 - loss: 0.0995 - acc: 0.964 - ETA: 7:18 - loss: 0.0994 - acc: 0.964 - ETA: 7:12 - loss: 0.0978 - acc: 0.964 - ETA: 7:05 - loss: 0.0981 - acc: 0.964 - ETA: 6:59 - loss: 0.0983 - acc: 0.963 - ETA: 6:53 - loss: 0.0989 - acc: 0.963 - ETA: 6:47 - loss: 0.1006 - acc: 0.963 - ETA: 6:41 - loss: 0.1012 - acc: 0.963 - ETA: 6:36 - loss: 0.1014 - acc: 0.963 - ETA: 6:32 - loss: 0.1000 - acc: 0.964 - ETA: 6:31 - loss: 0.0996 - acc: 0.964 - ETA: 6:26 - loss: 0.0987 - acc: 0.964 - ETA: 6:21 - loss: 0.0981 - acc: 0.965 - ETA: 6:19 - loss: 0.0981 - acc: 0.966 - ETA: 6:16 - loss: 0.0987 - acc: 0.965 - ETA: 6:14 - loss: 0.0979 - acc: 0.966 - ETA: 6:13 - loss: 0.0982 - acc: 0.965 - ETA: 6:09 - loss: 0.0998 - acc: 0.965 - ETA: 6:05 - loss: 0.0994 - acc: 0.965 - ETA: 6:03 - loss: 0.0993 - acc: 0.965 - ETA: 5:59 - loss: 0.0994 - acc: 0.965 - ETA: 5:55 - loss: 0.0998 - acc: 0.965 - ETA: 5:51 - loss: 0.0997 - acc: 0.965 - ETA: 5:47 - loss: 0.0993 - acc: 0.965 - ETA: 5:43 - loss: 0.1004 - acc: 0.964 - ETA: 5:38 - loss: 0.1001 - acc: 0.964 - ETA: 5:34 - loss: 0.1004 - acc: 0.964 - ETA: 5:30 - loss: 0.1010 - acc: 0.964 - ETA: 5:25 - loss: 0.1011 - acc: 0.964 - ETA: 5:21 - loss: 0.1009 - acc: 0.964 - ETA: 5:17 - loss: 0.1022 - acc: 0.964 - ETA: 5:14 - loss: 0.1030 - acc: 0.964 - ETA: 5:12 - loss: 0.1026 - acc: 0.964 - ETA: 5:08 - loss: 0.1024 - acc: 0.964 - ETA: 5:04 - loss: 0.1023 - acc: 0.964 - ETA: 5:00 - loss: 0.1027 - acc: 0.964 - ETA: 4:56 - loss: 0.1033 - acc: 0.963 - ETA: 4:52 - loss: 0.1033 - acc: 0.963 - ETA: 4:47 - loss: 0.1026 - acc: 0.963 - ETA: 4:43 - loss: 0.1023 - acc: 0.964 - ETA: 4:40 - loss: 0.1025 - acc: 0.964 - ETA: 4:36 - loss: 0.1038 - acc: 0.963 - ETA: 4:31 - loss: 0.1044 - acc: 0.963 - ETA: 4:27 - loss: 0.1043 - acc: 0.963 - ETA: 4:22 - loss: 0.1042 - acc: 0.963 - ETA: 4:17 - loss: 0.1045 - acc: 0.962 - ETA: 4:12 - loss: 0.1050 - acc: 0.962 - ETA: 4:08 - loss: 0.1051 - acc: 0.962 - ETA: 4:03 - loss: 0.1055 - acc: 0.962 - ETA: 3:59 - loss: 0.1056 - acc: 0.962 - ETA: 3:54 - loss: 0.1052 - acc: 0.962 - ETA: 3:49 - loss: 0.1049 - acc: 0.962 - ETA: 3:44 - loss: 0.1053 - acc: 0.962 - ETA: 3:39 - loss: 0.1058 - acc: 0.962 - ETA: 3:35 - loss: 0.1060 - acc: 0.962 - ETA: 3:30 - loss: 0.1061 - acc: 0.962 - ETA: 3:25 - loss: 0.1059 - acc: 0.962 - ETA: 3:20 - loss: 0.1058 - acc: 0.962 - ETA: 3:15 - loss: 0.1063 - acc: 0.962 - ETA: 3:10 - loss: 0.1063 - acc: 0.962 - ETA: 3:05 - loss: 0.1063 - acc: 0.962 - ETA: 3:00 - loss: 0.1066 - acc: 0.961 - ETA: 2:56 - loss: 0.1069 - acc: 0.961 - ETA: 2:51 - loss: 0.1065 - acc: 0.961 - ETA: 2:46 - loss: 0.1064 - acc: 0.962 - ETA: 2:41 - loss: 0.1064 - acc: 0.962 - ETA: 2:36 - loss: 0.1065 - acc: 0.962 - ETA: 2:32 - loss: 0.1063 - acc: 0.962 - ETA: 2:27 - loss: 0.1064 - acc: 0.962 - ETA: 2:22 - loss: 0.1069 - acc: 0.961 - ETA: 2:17 - loss: 0.1070 - acc: 0.961 - ETA: 2:12 - loss: 0.1070 - acc: 0.962 - ETA: 2:07 - loss: 0.1069 - acc: 0.962 - ETA: 2:02 - loss: 0.1070 - acc: 0.962 - ETA: 1:57 - loss: 0.1070 - acc: 0.962 - ETA: 1:52 - loss: 0.1072 - acc: 0.962 - ETA: 1:48 - loss: 0.1077 - acc: 0.962 - ETA: 1:43 - loss: 0.1075 - acc: 0.962 - ETA: 1:38 - loss: 0.1076 - acc: 0.962 - ETA: 1:33 - loss: 0.1077 - acc: 0.962 - ETA: 1:28 - loss: 0.1079 - acc: 0.962 - ETA: 1:23 - loss: 0.1083 - acc: 0.962 - ETA: 1:18 - loss: 0.1082 - acc: 0.961 - ETA: 1:14 - loss: 0.1082 - acc: 0.961 - ETA: 1:09 - loss: 0.1081 - acc: 0.961 - ETA: 1:04 - loss: 0.1084 - acc: 0.961 - ETA: 59s - loss: 0.1087 - acc: 0.961 - ETA: 54s - loss: 0.1089 - acc: 0.96 - ETA: 50s - loss: 0.1088 - acc: 0.96 - ETA: 45s - loss: 0.1092 - acc: 0.96 - ETA: 40s - loss: 0.1095 - acc: 0.96 - ETA: 35s - loss: 0.1097 - acc: 0.96 - ETA: 30s - loss: 0.1096 - acc: 0.96 - ETA: 25s - loss: 0.1100 - acc: 0.96 - ETA: 21s - loss: 0.1099 - acc: 0.96 - ETA: 16s - loss: 0.1103 - acc: 0.96 - ETA: 11s - loss: 0.1103 - acc: 0.96 - ETA: 6s - loss: 0.1104 - acc: 0.9611 - ETA: 1s - loss: 0.1106 - acc: 0.960 - 559s 10ms/step - loss: 0.1107 - acc: 0.9609 - val_loss: 0.2487 - val_acc: 0.9125\n",
      "Epoch 8/10\n",
      "56000/56000 [==============================] - ETA: 10:09 - loss: 0.0818 - acc: 0.97 - ETA: 9:28 - loss: 0.0813 - acc: 0.9727 - ETA: 9:00 - loss: 0.0917 - acc: 0.965 - ETA: 8:43 - loss: 0.0943 - acc: 0.966 - ETA: 8:30 - loss: 0.0943 - acc: 0.968 - ETA: 8:19 - loss: 0.0950 - acc: 0.967 - ETA: 8:08 - loss: 0.0957 - acc: 0.967 - ETA: 8:01 - loss: 0.0928 - acc: 0.968 - ETA: 7:53 - loss: 0.0963 - acc: 0.967 - ETA: 7:46 - loss: 0.0955 - acc: 0.966 - ETA: 7:39 - loss: 0.0948 - acc: 0.967 - ETA: 7:32 - loss: 0.0936 - acc: 0.968 - ETA: 7:26 - loss: 0.0941 - acc: 0.968 - ETA: 7:21 - loss: 0.0958 - acc: 0.967 - ETA: 7:15 - loss: 0.0973 - acc: 0.966 - ETA: 7:09 - loss: 0.0973 - acc: 0.967 - ETA: 7:04 - loss: 0.0984 - acc: 0.966 - ETA: 6:59 - loss: 0.0976 - acc: 0.966 - ETA: 6:55 - loss: 0.0976 - acc: 0.966 - ETA: 6:50 - loss: 0.0976 - acc: 0.966 - ETA: 6:46 - loss: 0.0968 - acc: 0.966 - ETA: 6:42 - loss: 0.0968 - acc: 0.966 - ETA: 6:37 - loss: 0.0956 - acc: 0.966 - ETA: 6:33 - loss: 0.0964 - acc: 0.966 - ETA: 6:29 - loss: 0.0969 - acc: 0.966 - ETA: 6:24 - loss: 0.0975 - acc: 0.966 - ETA: 6:20 - loss: 0.0976 - acc: 0.965 - ETA: 6:16 - loss: 0.0973 - acc: 0.965 - ETA: 6:12 - loss: 0.0963 - acc: 0.966 - ETA: 6:06 - loss: 0.0963 - acc: 0.966 - ETA: 6:01 - loss: 0.0962 - acc: 0.966 - ETA: 5:55 - loss: 0.0963 - acc: 0.966 - ETA: 5:50 - loss: 0.0960 - acc: 0.966 - ETA: 5:45 - loss: 0.0966 - acc: 0.965 - ETA: 5:40 - loss: 0.0965 - acc: 0.965 - ETA: 5:34 - loss: 0.0968 - acc: 0.965 - ETA: 5:29 - loss: 0.0968 - acc: 0.965 - ETA: 5:25 - loss: 0.0973 - acc: 0.965 - ETA: 5:20 - loss: 0.0977 - acc: 0.965 - ETA: 5:16 - loss: 0.0978 - acc: 0.965 - ETA: 5:11 - loss: 0.0972 - acc: 0.965 - ETA: 5:07 - loss: 0.0973 - acc: 0.965 - ETA: 5:02 - loss: 0.0967 - acc: 0.965 - ETA: 4:58 - loss: 0.0969 - acc: 0.965 - ETA: 4:53 - loss: 0.0978 - acc: 0.965 - ETA: 4:48 - loss: 0.0976 - acc: 0.964 - ETA: 4:43 - loss: 0.0978 - acc: 0.964 - ETA: 4:38 - loss: 0.0978 - acc: 0.964 - ETA: 4:33 - loss: 0.0973 - acc: 0.964 - ETA: 4:28 - loss: 0.0977 - acc: 0.964 - ETA: 4:23 - loss: 0.0983 - acc: 0.964 - ETA: 4:18 - loss: 0.0987 - acc: 0.964 - ETA: 4:13 - loss: 0.0985 - acc: 0.964 - ETA: 4:08 - loss: 0.0992 - acc: 0.964 - ETA: 4:04 - loss: 0.0998 - acc: 0.964 - ETA: 3:59 - loss: 0.0999 - acc: 0.964 - ETA: 3:54 - loss: 0.0997 - acc: 0.964 - ETA: 3:49 - loss: 0.0997 - acc: 0.964 - ETA: 3:45 - loss: 0.0997 - acc: 0.964 - ETA: 3:40 - loss: 0.1002 - acc: 0.964 - ETA: 3:35 - loss: 0.1000 - acc: 0.964 - ETA: 3:31 - loss: 0.0995 - acc: 0.964 - ETA: 3:26 - loss: 0.0992 - acc: 0.964 - ETA: 3:22 - loss: 0.0993 - acc: 0.964 - ETA: 3:17 - loss: 0.0991 - acc: 0.964 - ETA: 3:12 - loss: 0.0988 - acc: 0.964 - ETA: 3:08 - loss: 0.0993 - acc: 0.964 - ETA: 3:03 - loss: 0.0992 - acc: 0.964 - ETA: 2:59 - loss: 0.0998 - acc: 0.964 - ETA: 2:54 - loss: 0.1001 - acc: 0.964 - ETA: 2:50 - loss: 0.1002 - acc: 0.964 - ETA: 2:45 - loss: 0.1001 - acc: 0.964 - ETA: 2:41 - loss: 0.1005 - acc: 0.964 - ETA: 2:36 - loss: 0.1009 - acc: 0.963 - ETA: 2:32 - loss: 0.1012 - acc: 0.963 - ETA: 2:27 - loss: 0.1013 - acc: 0.963 - ETA: 2:23 - loss: 0.1013 - acc: 0.963 - ETA: 2:18 - loss: 0.1011 - acc: 0.963 - ETA: 2:14 - loss: 0.1011 - acc: 0.963 - ETA: 2:09 - loss: 0.1014 - acc: 0.963 - ETA: 2:05 - loss: 0.1014 - acc: 0.963 - ETA: 2:00 - loss: 0.1014 - acc: 0.963 - ETA: 1:56 - loss: 0.1016 - acc: 0.963 - ETA: 1:51 - loss: 0.1017 - acc: 0.963 - ETA: 1:47 - loss: 0.1019 - acc: 0.963 - ETA: 1:43 - loss: 0.1020 - acc: 0.963 - ETA: 1:38 - loss: 0.1021 - acc: 0.963 - ETA: 1:34 - loss: 0.1019 - acc: 0.963 - ETA: 1:29 - loss: 0.1018 - acc: 0.963 - ETA: 1:25 - loss: 0.1015 - acc: 0.963 - ETA: 1:21 - loss: 0.1016 - acc: 0.963 - ETA: 1:16 - loss: 0.1015 - acc: 0.963 - ETA: 1:12 - loss: 0.1011 - acc: 0.963 - ETA: 1:07 - loss: 0.1013 - acc: 0.963 - ETA: 1:03 - loss: 0.1013 - acc: 0.963 - ETA: 58s - loss: 0.1014 - acc: 0.963 - ETA: 54s - loss: 0.1015 - acc: 0.96 - ETA: 50s - loss: 0.1015 - acc: 0.96 - ETA: 45s - loss: 0.1015 - acc: 0.96 - ETA: 41s - loss: 0.1018 - acc: 0.96 - ETA: 36s - loss: 0.1021 - acc: 0.96 - ETA: 32s - loss: 0.1022 - acc: 0.96 - ETA: 27s - loss: 0.1023 - acc: 0.96 - ETA: 23s - loss: 0.1024 - acc: 0.96 - ETA: 19s - loss: 0.1022 - acc: 0.96 - ETA: 14s - loss: 0.1024 - acc: 0.96 - ETA: 10s - loss: 0.1024 - acc: 0.96 - ETA: 6s - loss: 0.1023 - acc: 0.9636 - ETA: 1s - loss: 0.1024 - acc: 0.963 - 514s 9ms/step - loss: 0.1025 - acc: 0.9634 - val_loss: 0.2785 - val_acc: 0.9110\n",
      "Epoch 9/10\n"
     ]
    },
    {
     "name": "stdout",
     "output_type": "stream",
     "text": [
      "56000/56000 [==============================] - ETA: 9:07 - loss: 0.0748 - acc: 0.974 - ETA: 8:48 - loss: 0.0834 - acc: 0.967 - ETA: 8:20 - loss: 0.0915 - acc: 0.968 - ETA: 8:02 - loss: 0.0916 - acc: 0.968 - ETA: 7:49 - loss: 0.0901 - acc: 0.968 - ETA: 7:38 - loss: 0.0903 - acc: 0.968 - ETA: 7:28 - loss: 0.0858 - acc: 0.970 - ETA: 7:23 - loss: 0.0882 - acc: 0.971 - ETA: 7:16 - loss: 0.0910 - acc: 0.971 - ETA: 7:10 - loss: 0.0911 - acc: 0.971 - ETA: 7:04 - loss: 0.0911 - acc: 0.971 - ETA: 6:59 - loss: 0.0889 - acc: 0.971 - ETA: 6:53 - loss: 0.0898 - acc: 0.971 - ETA: 6:48 - loss: 0.0905 - acc: 0.971 - ETA: 6:42 - loss: 0.0886 - acc: 0.972 - ETA: 6:38 - loss: 0.0895 - acc: 0.971 - ETA: 6:33 - loss: 0.0872 - acc: 0.972 - ETA: 6:28 - loss: 0.0868 - acc: 0.972 - ETA: 6:24 - loss: 0.0861 - acc: 0.972 - ETA: 6:19 - loss: 0.0848 - acc: 0.973 - ETA: 6:14 - loss: 0.0847 - acc: 0.973 - ETA: 6:10 - loss: 0.0844 - acc: 0.972 - ETA: 6:06 - loss: 0.0854 - acc: 0.972 - ETA: 6:01 - loss: 0.0858 - acc: 0.972 - ETA: 5:56 - loss: 0.0863 - acc: 0.972 - ETA: 5:54 - loss: 0.0875 - acc: 0.971 - ETA: 5:49 - loss: 0.0875 - acc: 0.971 - ETA: 5:44 - loss: 0.0865 - acc: 0.972 - ETA: 5:40 - loss: 0.0864 - acc: 0.972 - ETA: 5:36 - loss: 0.0884 - acc: 0.971 - ETA: 5:31 - loss: 0.0879 - acc: 0.972 - ETA: 5:27 - loss: 0.0874 - acc: 0.972 - ETA: 5:22 - loss: 0.0872 - acc: 0.972 - ETA: 5:18 - loss: 0.0879 - acc: 0.971 - ETA: 5:15 - loss: 0.0885 - acc: 0.971 - ETA: 5:13 - loss: 0.0882 - acc: 0.971 - ETA: 5:09 - loss: 0.0881 - acc: 0.971 - ETA: 5:05 - loss: 0.0879 - acc: 0.970 - ETA: 5:01 - loss: 0.0890 - acc: 0.970 - ETA: 4:56 - loss: 0.0884 - acc: 0.970 - ETA: 4:52 - loss: 0.0880 - acc: 0.971 - ETA: 4:47 - loss: 0.0876 - acc: 0.971 - ETA: 4:43 - loss: 0.0887 - acc: 0.971 - ETA: 4:38 - loss: 0.0884 - acc: 0.971 - ETA: 4:34 - loss: 0.0892 - acc: 0.971 - ETA: 4:29 - loss: 0.0893 - acc: 0.971 - ETA: 4:25 - loss: 0.0904 - acc: 0.970 - ETA: 4:21 - loss: 0.0898 - acc: 0.970 - ETA: 4:16 - loss: 0.0904 - acc: 0.970 - ETA: 4:12 - loss: 0.0905 - acc: 0.970 - ETA: 4:08 - loss: 0.0902 - acc: 0.970 - ETA: 4:03 - loss: 0.0902 - acc: 0.970 - ETA: 3:59 - loss: 0.0906 - acc: 0.970 - ETA: 3:55 - loss: 0.0905 - acc: 0.970 - ETA: 3:51 - loss: 0.0909 - acc: 0.969 - ETA: 3:46 - loss: 0.0916 - acc: 0.969 - ETA: 3:42 - loss: 0.0922 - acc: 0.969 - ETA: 3:38 - loss: 0.0924 - acc: 0.969 - ETA: 3:33 - loss: 0.0926 - acc: 0.968 - ETA: 3:29 - loss: 0.0933 - acc: 0.968 - ETA: 3:25 - loss: 0.0932 - acc: 0.968 - ETA: 3:20 - loss: 0.0935 - acc: 0.968 - ETA: 3:16 - loss: 0.0935 - acc: 0.968 - ETA: 3:12 - loss: 0.0939 - acc: 0.968 - ETA: 3:08 - loss: 0.0939 - acc: 0.968 - ETA: 3:03 - loss: 0.0941 - acc: 0.968 - ETA: 3:00 - loss: 0.0943 - acc: 0.968 - ETA: 2:55 - loss: 0.0943 - acc: 0.968 - ETA: 2:51 - loss: 0.0942 - acc: 0.967 - ETA: 2:47 - loss: 0.0943 - acc: 0.967 - ETA: 2:42 - loss: 0.0942 - acc: 0.968 - ETA: 2:38 - loss: 0.0941 - acc: 0.968 - ETA: 2:34 - loss: 0.0942 - acc: 0.968 - ETA: 2:30 - loss: 0.0943 - acc: 0.968 - ETA: 2:25 - loss: 0.0947 - acc: 0.967 - ETA: 2:21 - loss: 0.0942 - acc: 0.968 - ETA: 2:17 - loss: 0.0938 - acc: 0.968 - ETA: 2:12 - loss: 0.0939 - acc: 0.968 - ETA: 2:08 - loss: 0.0937 - acc: 0.968 - ETA: 2:04 - loss: 0.0939 - acc: 0.968 - ETA: 2:00 - loss: 0.0943 - acc: 0.968 - ETA: 1:55 - loss: 0.0948 - acc: 0.967 - ETA: 1:51 - loss: 0.0948 - acc: 0.967 - ETA: 1:47 - loss: 0.0949 - acc: 0.967 - ETA: 1:43 - loss: 0.0950 - acc: 0.967 - ETA: 1:38 - loss: 0.0950 - acc: 0.967 - ETA: 1:34 - loss: 0.0950 - acc: 0.967 - ETA: 1:30 - loss: 0.0953 - acc: 0.967 - ETA: 1:26 - loss: 0.0955 - acc: 0.967 - ETA: 1:21 - loss: 0.0960 - acc: 0.967 - ETA: 1:17 - loss: 0.0960 - acc: 0.967 - ETA: 1:13 - loss: 0.0960 - acc: 0.967 - ETA: 1:09 - loss: 0.0961 - acc: 0.967 - ETA: 1:04 - loss: 0.0964 - acc: 0.966 - ETA: 1:00 - loss: 0.0967 - acc: 0.966 - ETA: 56s - loss: 0.0968 - acc: 0.966 - ETA: 52s - loss: 0.0970 - acc: 0.96 - ETA: 48s - loss: 0.0969 - acc: 0.96 - ETA: 43s - loss: 0.0972 - acc: 0.96 - ETA: 39s - loss: 0.0970 - acc: 0.96 - ETA: 35s - loss: 0.0969 - acc: 0.96 - ETA: 31s - loss: 0.0969 - acc: 0.96 - ETA: 26s - loss: 0.0968 - acc: 0.96 - ETA: 22s - loss: 0.0968 - acc: 0.96 - ETA: 18s - loss: 0.0967 - acc: 0.96 - ETA: 14s - loss: 0.0970 - acc: 0.96 - ETA: 10s - loss: 0.0969 - acc: 0.96 - ETA: 5s - loss: 0.0970 - acc: 0.9662 - ETA: 1s - loss: 0.0970 - acc: 0.966 - 492s 9ms/step - loss: 0.0972 - acc: 0.9661 - val_loss: 0.2968 - val_acc: 0.9091\n",
      "Epoch 10/10\n",
      "56000/56000 [==============================] - ETA: 8:12 - loss: 0.0825 - acc: 0.960 - ETA: 7:58 - loss: 0.0793 - acc: 0.970 - ETA: 7:39 - loss: 0.0761 - acc: 0.973 - ETA: 7:25 - loss: 0.0775 - acc: 0.972 - ETA: 7:17 - loss: 0.0773 - acc: 0.972 - ETA: 7:13 - loss: 0.0790 - acc: 0.970 - ETA: 7:07 - loss: 0.0822 - acc: 0.969 - ETA: 7:02 - loss: 0.0849 - acc: 0.970 - ETA: 6:58 - loss: 0.0830 - acc: 0.970 - ETA: 6:53 - loss: 0.0831 - acc: 0.971 - ETA: 6:49 - loss: 0.0819 - acc: 0.971 - ETA: 6:44 - loss: 0.0815 - acc: 0.972 - ETA: 6:40 - loss: 0.0832 - acc: 0.971 - ETA: 6:35 - loss: 0.0828 - acc: 0.972 - ETA: 6:31 - loss: 0.0830 - acc: 0.972 - ETA: 6:27 - loss: 0.0823 - acc: 0.972 - ETA: 6:23 - loss: 0.0815 - acc: 0.973 - ETA: 6:19 - loss: 0.0825 - acc: 0.973 - ETA: 6:15 - loss: 0.0838 - acc: 0.972 - ETA: 6:10 - loss: 0.0847 - acc: 0.972 - ETA: 6:06 - loss: 0.0849 - acc: 0.972 - ETA: 6:02 - loss: 0.0857 - acc: 0.971 - ETA: 5:58 - loss: 0.0860 - acc: 0.971 - ETA: 5:55 - loss: 0.0859 - acc: 0.971 - ETA: 5:51 - loss: 0.0857 - acc: 0.971 - ETA: 5:46 - loss: 0.0858 - acc: 0.971 - ETA: 5:42 - loss: 0.0858 - acc: 0.971 - ETA: 5:38 - loss: 0.0855 - acc: 0.971 - ETA: 5:33 - loss: 0.0850 - acc: 0.971 - ETA: 5:29 - loss: 0.0840 - acc: 0.971 - ETA: 5:25 - loss: 0.0830 - acc: 0.971 - ETA: 5:21 - loss: 0.0836 - acc: 0.971 - ETA: 5:16 - loss: 0.0846 - acc: 0.971 - ETA: 5:11 - loss: 0.0851 - acc: 0.970 - ETA: 5:07 - loss: 0.0859 - acc: 0.970 - ETA: 5:03 - loss: 0.0869 - acc: 0.969 - ETA: 4:59 - loss: 0.0868 - acc: 0.969 - ETA: 4:55 - loss: 0.0865 - acc: 0.970 - ETA: 4:51 - loss: 0.0869 - acc: 0.970 - ETA: 4:47 - loss: 0.0870 - acc: 0.970 - ETA: 4:43 - loss: 0.0875 - acc: 0.969 - ETA: 4:39 - loss: 0.0877 - acc: 0.969 - ETA: 4:35 - loss: 0.0871 - acc: 0.969 - ETA: 4:31 - loss: 0.0871 - acc: 0.969 - ETA: 4:27 - loss: 0.0869 - acc: 0.969 - ETA: 4:22 - loss: 0.0867 - acc: 0.969 - ETA: 4:18 - loss: 0.0867 - acc: 0.970 - ETA: 4:14 - loss: 0.0869 - acc: 0.970 - ETA: 4:10 - loss: 0.0867 - acc: 0.970 - ETA: 4:06 - loss: 0.0874 - acc: 0.969 - ETA: 4:02 - loss: 0.0878 - acc: 0.969 - ETA: 3:57 - loss: 0.0886 - acc: 0.969 - ETA: 3:53 - loss: 0.0885 - acc: 0.969 - ETA: 3:49 - loss: 0.0884 - acc: 0.969 - ETA: 3:45 - loss: 0.0887 - acc: 0.969 - ETA: 3:41 - loss: 0.0885 - acc: 0.969 - ETA: 3:36 - loss: 0.0898 - acc: 0.969 - ETA: 3:32 - loss: 0.0896 - acc: 0.968 - ETA: 3:28 - loss: 0.0900 - acc: 0.968 - ETA: 3:24 - loss: 0.0899 - acc: 0.968 - ETA: 3:20 - loss: 0.0898 - acc: 0.968 - ETA: 3:15 - loss: 0.0900 - acc: 0.968 - ETA: 3:11 - loss: 0.0908 - acc: 0.968 - ETA: 3:07 - loss: 0.0910 - acc: 0.968 - ETA: 3:03 - loss: 0.0910 - acc: 0.968 - ETA: 2:59 - loss: 0.0907 - acc: 0.968 - ETA: 2:55 - loss: 0.0911 - acc: 0.968 - ETA: 2:51 - loss: 0.0910 - acc: 0.968 - ETA: 2:46 - loss: 0.0912 - acc: 0.968 - ETA: 2:42 - loss: 0.0914 - acc: 0.968 - ETA: 2:38 - loss: 0.0916 - acc: 0.968 - ETA: 2:34 - loss: 0.0916 - acc: 0.967 - ETA: 2:30 - loss: 0.0911 - acc: 0.968 - ETA: 2:26 - loss: 0.0908 - acc: 0.968 - ETA: 2:22 - loss: 0.0906 - acc: 0.968 - ETA: 2:18 - loss: 0.0908 - acc: 0.968 - ETA: 2:13 - loss: 0.0907 - acc: 0.968 - ETA: 2:09 - loss: 0.0908 - acc: 0.968 - ETA: 2:05 - loss: 0.0909 - acc: 0.968 - ETA: 2:01 - loss: 0.0910 - acc: 0.968 - ETA: 1:57 - loss: 0.0911 - acc: 0.968 - ETA: 1:53 - loss: 0.0913 - acc: 0.968 - ETA: 1:48 - loss: 0.0913 - acc: 0.968 - ETA: 1:44 - loss: 0.0912 - acc: 0.968 - ETA: 1:40 - loss: 0.0909 - acc: 0.968 - ETA: 1:36 - loss: 0.0909 - acc: 0.968 - ETA: 1:32 - loss: 0.0910 - acc: 0.968 - ETA: 1:28 - loss: 0.0912 - acc: 0.968 - ETA: 1:24 - loss: 0.0912 - acc: 0.968 - ETA: 1:19 - loss: 0.0912 - acc: 0.968 - ETA: 1:15 - loss: 0.0914 - acc: 0.968 - ETA: 1:11 - loss: 0.0914 - acc: 0.968 - ETA: 1:07 - loss: 0.0912 - acc: 0.968 - ETA: 1:03 - loss: 0.0914 - acc: 0.968 - ETA: 59s - loss: 0.0915 - acc: 0.968 - ETA: 55s - loss: 0.0918 - acc: 0.96 - ETA: 51s - loss: 0.0917 - acc: 0.96 - ETA: 46s - loss: 0.0919 - acc: 0.96 - ETA: 42s - loss: 0.0922 - acc: 0.96 - ETA: 38s - loss: 0.0926 - acc: 0.96 - ETA: 34s - loss: 0.0926 - acc: 0.96 - ETA: 30s - loss: 0.0924 - acc: 0.96 - ETA: 26s - loss: 0.0927 - acc: 0.96 - ETA: 22s - loss: 0.0926 - acc: 0.96 - ETA: 18s - loss: 0.0924 - acc: 0.96 - ETA: 13s - loss: 0.0924 - acc: 0.96 - ETA: 9s - loss: 0.0926 - acc: 0.9675 - ETA: 5s - loss: 0.0926 - acc: 0.967 - ETA: 1s - loss: 0.0924 - acc: 0.967 - 483s 9ms/step - loss: 0.0924 - acc: 0.9675 - val_loss: 0.2938 - val_acc: 0.9084\n"
     ]
    }
   ],
   "source": [
    "# create the model\n",
    "embedding_vecor_length = 32\n",
    "\n",
    "# Initialising the model\n",
    "model_2 = Sequential()\n",
    "\n",
    "# Adding embedding\n",
    "model_2.add(Embedding(len(vocabulary), embedding_vecor_length, input_length=max_review_length))\n",
    "\n",
    "# Adding first LSTM layer\n",
    "model_2.add(LSTM(100,return_sequences=True, dropout=0.4, recurrent_dropout=0.4))\n",
    "\n",
    "# Adding second LSTM layer\n",
    "model_2.add(LSTM(100, dropout=0.4, recurrent_dropout=0.4))\n",
    "\n",
    "# Adding output layer\n",
    "model_2.add(Dense(1, activation='sigmoid'))\n",
    "\n",
    "# Printing the model summary\n",
    "print(model_2.summary())\n",
    "\n",
    "# Compiling the model\n",
    "model_2.compile(loss='binary_crossentropy', optimizer='adam', metrics=['accuracy'])\n",
    "\n",
    "# Fitting the data to the model\n",
    "history_2 = model_2.fit(X_train, Y_train, nb_epoch=10, batch_size=512 ,verbose=1,validation_data=(X_test, Y_test))"
   ]
  },
  {
   "cell_type": "code",
   "execution_count": 55,
   "metadata": {
    "colab": {},
    "colab_type": "code",
    "id": "4LuaAL-XipkF"
   },
   "outputs": [
    {
     "name": "stdout",
     "output_type": "stream",
     "text": [
      "Accuracy: 90.84%\n"
     ]
    },
    {
     "data": {
      "image/png": "[encoded data removed]",
      "text/plain": [
       "<matplotlib.figure.Figure at 0x1b5b6b663c8>"
      ]
     },
     "metadata": {},
     "output_type": "display_data"
    }
   ],
   "source": [
    "# Final evaluation of the model\n",
    "scores = model_2.evaluate(X_test, Y_test, verbose=0)\n",
    "print(\"Accuracy: %.2f%%\" % (scores[1]*100))\n",
    "\n",
    "# Test and train accuracy of the model\n",
    "model_2_test = scores[1]\n",
    "model_2_train = max(history_2.history['acc'])\n",
    "\n",
    "# Plotting Train and Test Loss VS no. of epochs\n",
    "# list of epoch numbers\n",
    "x = list(range(1,11))\n",
    "\n",
    "# Validation loss\n",
    "vy = history_2.history['val_loss']\n",
    "# Training loss\n",
    "ty = history_2.history['loss']\n",
    "\n",
    "# Calling the function to draw the plot\n",
    "plt_dynamic(x, vy, ty)"
   ]
  },
  {
   "cell_type": "markdown",
   "metadata": {
    "colab_type": "text",
    "id": "yGEwuVOlkV0P"
   },
   "source": [
    "<h2> [3] Conclusions</h2>"
   ]
  },
  {
   "cell_type": "markdown",
   "metadata": {
    "colab_type": "text",
    "id": "mA-vsN3vk6Kp"
   },
   "source": [
    "<h2>(a) Table (Different models with their train and test accuracies):</h2>"
   ]
  },
  {
   "cell_type": "code",
   "execution_count": 57,
   "metadata": {
    "colab": {},
    "colab_type": "code",
    "id": "qH-atzoLlJyK",
    "scrolled": true
   },
   "outputs": [
    {
     "name": "stdout",
     "output_type": "stream",
     "text": [
      "Requirement already satisfied: prettytable in c:\\users\\dell\\anaconda3\\lib\\site-packages\n"
     ]
    },
    {
     "name": "stderr",
     "output_type": "stream",
     "text": [
      "You are using pip version 9.0.1, however version 19.1.1 is available.\n",
      "You should consider upgrading via the 'python -m pip install --upgrade pip' command.\n"
     ]
    },
    {
     "name": "stdout",
     "output_type": "stream",
     "text": [
      "+-------+------------------------+--------------------+--------------------+\n",
      "| S.NO. |         MODEL          | Training Accuracy  |   Test Accuracy    |\n",
      "+-------+------------------------+--------------------+--------------------+\n",
      "|   1   | RNN With 1 LSTM Layer  |       0.977        | 0.9026428571428572 |\n",
      "|   2   | RNN With 2 LSTM Layers | 0.9675000000681196 | 0.9084285714285715 |\n",
      "+-------+------------------------+--------------------+--------------------+\n"
     ]
    }
   ],
   "source": [
    "# Installing the library prettytable\n",
    "!pip install prettytable\n",
    "\n",
    "# Creating table using PrettyTable library\n",
    "from prettytable import PrettyTable\n",
    "\n",
    "# Names of models\n",
    "names = ['RNN With 1 LSTM Layer','RNN With 2 LSTM Layers']\n",
    "\n",
    "# Training accuracies\n",
    "train_acc = [model_1_train,model_2_train]\n",
    "\n",
    "# Test accuracies\n",
    "test_acc = [model_1_test,model_2_test]\n",
    "\n",
    "numbering = [1,2]\n",
    "\n",
    "# Initializing prettytable\n",
    "ptable = PrettyTable()\n",
    "\n",
    "# Adding columns\n",
    "ptable.add_column(\"S.NO.\",numbering)\n",
    "ptable.add_column(\"MODEL\",names)\n",
    "ptable.add_column(\"Training Accuracy\",train_acc)\n",
    "ptable.add_column(\"Test Accuracy\",test_acc)\n",
    "\n",
    "# Printing the Table\n",
    "print(ptable)"
   ]
  },
  {
   "cell_type": "markdown",
   "metadata": {
    "colab_type": "text",
    "id": "n9S36XTvmAvX"
   },
   "source": [
    "\n",
    "<h2>(b). Procedure Followed :</h2>\n",
    "\n",
    "Step 1: Load Amazon Fine Food Reviews dataset\n",
    "\n",
    "Step 2: Perform text pre-processing\n",
    "\n",
    "Step 3: Sort the dataset on the basis of time and after that find vocabulary for all the reviews in the dataset\n",
    "    \n",
    "Step 4: Now compute frequencies for each word of vocabulary\n",
    "    \n",
    "Step 5: Index each word in the decreasing order of frequencies (Word with max frequency will have rank 1 or index 1)\n",
    "\n",
    "Step 6: Convert the dataset into imdb dataset format\n",
    "    \n",
    "Step 7: Split whole dataset for training set and test set\n",
    "    \n",
    "Step 8: Now pad or truncate each review intpo sequences of length 100\n",
    "    \n",
    "Step 9: Now implement RNN with 1 and 2 LSTM layers\n",
    "    \n",
    "Step 10: Finding accuracy for each\n",
    "    \n",
    "Step 11: Drawing Binary Crossentropy Loss VS No.of Epochs plot"
   ]
  }
 ],
 "metadata": {
  "colab": {
   "collapsed_sections": [],
   "name": "LSTM_IMDB.ipynb",
   "provenance": [],
   "version": "0.3.2"
  },
  "kernelspec": {
   "display_name": "Python 3",
   "language": "python",
   "name": "python3"
  },
  "language_info": {
   "codemirror_mode": {
    "name": "ipython",
    "version": 3
   },
   "file_extension": ".py",
   "mimetype": "text/x-python",
   "name": "python",
   "nbconvert_exporter": "python",
   "pygments_lexer": "ipython3",
   "version": "3.6.4"
  }
 },
 "nbformat": 4,
 "nbformat_minor": 1
}
